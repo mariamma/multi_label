{
 "cells": [
  {
   "cell_type": "code",
   "execution_count": 1,
   "metadata": {},
   "outputs": [],
   "source": [
    "from sklearn.cluster import SpectralClustering\n",
    "import numpy as np\n",
    "import os"
   ]
  },
  {
   "cell_type": "code",
   "execution_count": null,
   "metadata": {},
   "outputs": [],
   "source": [
    "class_names = ['5_o_Clock_Shadow', 'Arched_Eyebrows', 'Attractive', 'Bags_Under_Eyes', 'Bald', 'Bangs',\n",
    "                                'Big_Lips', 'Big_Nose', 'Black_Hair', 'Blond_Hair', 'Blurry', 'Brown_Hair', 'Bushy_Eyebrows',      \n",
    "                                'Chubby', 'Double_Chin', 'Eyeglasses', 'Goatee', 'Gray_Hair', 'Heavy_Makeup', 'High_Cheekbones',       \n",
    "                                'Male', 'Mouth_Slightly_Open', 'Mustache', 'Narrow_Eyes', 'No_Beard', 'Oval_Face', 'Pale_Skin', \n",
    "                                'Pointy_Nose', 'Receding_Hairline', 'Rosy_Cheeks', 'Sideburns', 'Smiling', 'Straight_Hair', 'Wavy_Hair', \n",
    "                                'Wearing_Earrings', 'Wearing_Hat', 'Wearing_Lipstick', 'Wearing_Necklace', 'Wearing_Necktie', 'Young']\n",
    "\n",
    "from collections import defaultdict\n",
    "\n",
    "def group_classes(category_array):\n",
    "    \"\"\"\n",
    "    Groups class names based on their corresponding category values in the category_array.    \n",
    "    :param class_names: List of class names\n",
    "    :param category_array: Array of category values\n",
    "    :return: Dictionary with category labels as keys and corresponding class names as values\n",
    "    \"\"\"\n",
    "    if len(class_names) != len(category_array):\n",
    "        raise ValueError(\"class_names and category_array must have the same length\")\n",
    "    \n",
    "    groups = defaultdict(list)\n",
    "    cat_arr = []\n",
    "    \n",
    "    for idx, category in enumerate(category_array):\n",
    "        groups[f\"Category_{category}\"].append(idx)\n",
    "        cat_arr.append(category)\n",
    "\n",
    "    for category, attributes in groups.items():\n",
    "        print(f\"{category}: {attributes}\")\n",
    "\n",
    "    return cat_arr\n",
    "           \n",
    "\n",
    "def group_classes_by_category(class_names, category_array):\n",
    "    \"\"\"\n",
    "    Groups class names based on their corresponding category values in the category_array.\n",
    "    \n",
    "    :param class_names: List of class names\n",
    "    :param category_array: Array of category values\n",
    "    :return: Dictionary with category labels as keys and corresponding class names as values\n",
    "    \"\"\"\n",
    "    if len(class_names) != len(category_array):\n",
    "        raise ValueError(\"class_names and category_array must have the same length\")\n",
    "    \n",
    "    groups = defaultdict(list)\n",
    "    \n",
    "    for name, category in zip(class_names, category_array):\n",
    "        groups[f\"Category_{category}\"].append(name)\n",
    "    \n",
    "    return dict(groups)\n"
   ]
  },
  {
   "cell_type": "code",
   "execution_count": 25,
   "metadata": {},
   "outputs": [],
   "source": [
    "dirname = \"/data/mariammaa/celeba/results_fgsm_saliencymap/\"\n",
    "filename = \"rho_score_full_resnext-lr:0.01-wd:0.0_fanciful-smoke-3.csv\"\n",
    "X = np.genfromtxt(os.path.join(dirname, filename), delimiter=',')\n",
    "\n"
   ]
  },
  {
   "cell_type": "code",
   "execution_count": 26,
   "metadata": {},
   "outputs": [
    {
     "name": "stdout",
     "output_type": "stream",
     "text": [
      "[1 0 0 0 0 0 0 0 0 0 0 0 1 0 0 0 1 0 0 0 1 0 1 0 0 0 0 0 0 0 1 0 0 0 0 0 0\n",
      " 0 0 0]\n",
      "Category_1: [0, 12, 16, 20, 22, 30]\n",
      "Category_0: [1, 2, 3, 4, 5, 6, 7, 8, 9, 10, 11, 13, 14, 15, 17, 18, 19, 21, 23, 24, 25, 26, 27, 28, 29, 31, 32, 33, 34, 35, 36, 37, 38, 39]\n"
     ]
    },
    {
     "name": "stderr",
     "output_type": "stream",
     "text": [
      "/home/mariammaa/anaconda3/envs/myenv/lib/python3.9/site-packages/sklearn/cluster/_spectral.py:589: UserWarning: The spectral clustering API has changed. ``fit``now constructs an affinity matrix from data. To use a custom affinity matrix, set ``affinity=precomputed``.\n",
      "  warnings.warn(\n"
     ]
    }
   ],
   "source": [
    "clustering = SpectralClustering(n_clusters=2,\n",
    "        assign_labels='discretize',\n",
    "        random_state=0).fit(X)\n",
    "print(clustering.labels_)\n",
    "cat_array = group_classes(clustering.labels_)"
   ]
  },
  {
   "cell_type": "code",
   "execution_count": 28,
   "metadata": {},
   "outputs": [
    {
     "name": "stdout",
     "output_type": "stream",
     "text": [
      "Category_1: ['5_o_Clock_Shadow', 'Bushy_Eyebrows', 'Goatee', 'Male', 'Mustache', 'Sideburns']\n",
      "Category_0: ['Arched_Eyebrows', 'Attractive', 'Bags_Under_Eyes', 'Bald', 'Bangs', 'Big_Lips', 'Big_Nose', 'Black_Hair', 'Blond_Hair', 'Blurry', 'Brown_Hair', 'Chubby', 'Double_Chin', 'Eyeglasses', 'Gray_Hair', 'Heavy_Makeup', 'High_Cheekbones', 'Mouth_Slightly_Open', 'Narrow_Eyes', 'No_Beard', 'Oval_Face', 'Pale_Skin', 'Pointy_Nose', 'Receding_Hairline', 'Rosy_Cheeks', 'Smiling', 'Straight_Hair', 'Wavy_Hair', 'Wearing_Earrings', 'Wearing_Hat', 'Wearing_Lipstick', 'Wearing_Necklace', 'Wearing_Necktie', 'Young']\n"
     ]
    }
   ],
   "source": [
    "category_array = cat_array\n",
    "\n",
    "class_groups = group_classes_by_category(class_names, category_array)\n",
    "for category, attributes in class_groups.items():\n",
    "    print(f\"{category}: {attributes}\")\n"
   ]
  },
  {
   "cell_type": "code",
   "execution_count": 29,
   "metadata": {},
   "outputs": [
    {
     "name": "stdout",
     "output_type": "stream",
     "text": [
      "[1 0 0 0 2 0 2 2 0 2 2 0 1 2 2 2 1 2 0 0 1 0 1 0 0 2 2 0 2 2 1 0 0 2 0 2 0\n",
      " 2 2 0]\n",
      "Category_1: [0, 12, 16, 20, 22, 30]\n",
      "Category_0: [1, 2, 3, 5, 8, 11, 18, 19, 21, 23, 24, 27, 31, 32, 34, 36, 39]\n",
      "Category_2: [4, 6, 7, 9, 10, 13, 14, 15, 17, 25, 26, 28, 29, 33, 35, 37, 38]\n",
      "Category_1: ['5_o_Clock_Shadow', 'Bushy_Eyebrows', 'Goatee', 'Male', 'Mustache', 'Sideburns']\n",
      "Category_0: ['Arched_Eyebrows', 'Attractive', 'Bags_Under_Eyes', 'Bangs', 'Black_Hair', 'Brown_Hair', 'Heavy_Makeup', 'High_Cheekbones', 'Mouth_Slightly_Open', 'Narrow_Eyes', 'No_Beard', 'Pointy_Nose', 'Smiling', 'Straight_Hair', 'Wearing_Earrings', 'Wearing_Lipstick', 'Young']\n",
      "Category_2: ['Bald', 'Big_Lips', 'Big_Nose', 'Blond_Hair', 'Blurry', 'Chubby', 'Double_Chin', 'Eyeglasses', 'Gray_Hair', 'Oval_Face', 'Pale_Skin', 'Receding_Hairline', 'Rosy_Cheeks', 'Wavy_Hair', 'Wearing_Hat', 'Wearing_Necklace', 'Wearing_Necktie']\n"
     ]
    },
    {
     "name": "stderr",
     "output_type": "stream",
     "text": [
      "/home/mariammaa/anaconda3/envs/myenv/lib/python3.9/site-packages/sklearn/cluster/_spectral.py:589: UserWarning: The spectral clustering API has changed. ``fit``now constructs an affinity matrix from data. To use a custom affinity matrix, set ``affinity=precomputed``.\n",
      "  warnings.warn(\n"
     ]
    }
   ],
   "source": [
    "clustering = SpectralClustering(n_clusters=3,\n",
    "        assign_labels='discretize',\n",
    "        random_state=0).fit(X)\n",
    "print(clustering.labels_)\n",
    "cat_array = group_classes(clustering.labels_)\n",
    "\n",
    "category_array = cat_array\n",
    "\n",
    "class_groups = group_classes_by_category(class_names, category_array)\n",
    "for category, attributes in class_groups.items():\n",
    "    print(f\"{category}: {attributes}\")\n"
   ]
  },
  {
   "cell_type": "code",
   "execution_count": 30,
   "metadata": {},
   "outputs": [
    {
     "name": "stdout",
     "output_type": "stream",
     "text": [
      "[1 0 0 0 2 0 2 2 0 2 2 0 1 2 2 2 1 2 3 0 1 0 1 0 0 0 2 0 2 2 1 0 0 2 0 2 3\n",
      " 2 2 0]\n",
      "Category_1: [0, 12, 16, 20, 22, 30]\n",
      "Category_0: [1, 2, 3, 5, 8, 11, 19, 21, 23, 24, 25, 27, 31, 32, 34, 39]\n",
      "Category_2: [4, 6, 7, 9, 10, 13, 14, 15, 17, 26, 28, 29, 33, 35, 37, 38]\n",
      "Category_3: [18, 36]\n",
      "Category_1: ['5_o_Clock_Shadow', 'Bushy_Eyebrows', 'Goatee', 'Male', 'Mustache', 'Sideburns']\n",
      "Category_0: ['Arched_Eyebrows', 'Attractive', 'Bags_Under_Eyes', 'Bangs', 'Black_Hair', 'Brown_Hair', 'High_Cheekbones', 'Mouth_Slightly_Open', 'Narrow_Eyes', 'No_Beard', 'Oval_Face', 'Pointy_Nose', 'Smiling', 'Straight_Hair', 'Wearing_Earrings', 'Young']\n",
      "Category_2: ['Bald', 'Big_Lips', 'Big_Nose', 'Blond_Hair', 'Blurry', 'Chubby', 'Double_Chin', 'Eyeglasses', 'Gray_Hair', 'Pale_Skin', 'Receding_Hairline', 'Rosy_Cheeks', 'Wavy_Hair', 'Wearing_Hat', 'Wearing_Necklace', 'Wearing_Necktie']\n",
      "Category_3: ['Heavy_Makeup', 'Wearing_Lipstick']\n"
     ]
    },
    {
     "name": "stderr",
     "output_type": "stream",
     "text": [
      "/home/mariammaa/anaconda3/envs/myenv/lib/python3.9/site-packages/sklearn/cluster/_spectral.py:589: UserWarning: The spectral clustering API has changed. ``fit``now constructs an affinity matrix from data. To use a custom affinity matrix, set ``affinity=precomputed``.\n",
      "  warnings.warn(\n"
     ]
    }
   ],
   "source": [
    "clustering = SpectralClustering(n_clusters=4,\n",
    "        assign_labels='discretize',\n",
    "        random_state=0).fit(X)\n",
    "print(clustering.labels_)\n",
    "cat_array = group_classes(clustering.labels_)\n",
    "\n",
    "category_array = cat_array\n",
    "\n",
    "class_groups = group_classes_by_category(class_names, category_array)\n",
    "for category, attributes in class_groups.items():\n",
    "    print(f\"{category}: {attributes}\")\n"
   ]
  },
  {
   "cell_type": "code",
   "execution_count": 31,
   "metadata": {},
   "outputs": [
    {
     "name": "stdout",
     "output_type": "stream",
     "text": [
      "[1 4 4 4 2 4 2 2 4 2 2 4 1 2 0 0 1 2 3 0 1 4 1 4 4 0 0 4 2 0 1 0 4 0 4 2 3\n",
      " 0 2 4]\n",
      "Category_1: [0, 12, 16, 20, 22, 30]\n",
      "Category_4: [1, 2, 3, 5, 8, 11, 21, 23, 24, 27, 32, 34, 39]\n",
      "Category_2: [4, 6, 7, 9, 10, 13, 17, 28, 35, 38]\n",
      "Category_0: [14, 15, 19, 25, 26, 29, 31, 33, 37]\n",
      "Category_3: [18, 36]\n",
      "Category_1: ['5_o_Clock_Shadow', 'Bushy_Eyebrows', 'Goatee', 'Male', 'Mustache', 'Sideburns']\n",
      "Category_4: ['Arched_Eyebrows', 'Attractive', 'Bags_Under_Eyes', 'Bangs', 'Black_Hair', 'Brown_Hair', 'Mouth_Slightly_Open', 'Narrow_Eyes', 'No_Beard', 'Pointy_Nose', 'Straight_Hair', 'Wearing_Earrings', 'Young']\n",
      "Category_2: ['Bald', 'Big_Lips', 'Big_Nose', 'Blond_Hair', 'Blurry', 'Chubby', 'Gray_Hair', 'Receding_Hairline', 'Wearing_Hat', 'Wearing_Necktie']\n",
      "Category_0: ['Double_Chin', 'Eyeglasses', 'High_Cheekbones', 'Oval_Face', 'Pale_Skin', 'Rosy_Cheeks', 'Smiling', 'Wavy_Hair', 'Wearing_Necklace']\n",
      "Category_3: ['Heavy_Makeup', 'Wearing_Lipstick']\n"
     ]
    },
    {
     "name": "stderr",
     "output_type": "stream",
     "text": [
      "/home/mariammaa/anaconda3/envs/myenv/lib/python3.9/site-packages/sklearn/cluster/_spectral.py:589: UserWarning: The spectral clustering API has changed. ``fit``now constructs an affinity matrix from data. To use a custom affinity matrix, set ``affinity=precomputed``.\n",
      "  warnings.warn(\n"
     ]
    }
   ],
   "source": [
    "clustering = SpectralClustering(n_clusters=5,\n",
    "        assign_labels='discretize',\n",
    "        random_state=0).fit(X)\n",
    "print(clustering.labels_)\n",
    "cat_array = group_classes(clustering.labels_)\n",
    "\n",
    "category_array = cat_array\n",
    "\n",
    "class_groups = group_classes_by_category(class_names, category_array)\n",
    "for category, attributes in class_groups.items():\n",
    "    print(f\"{category}: {attributes}\")\n"
   ]
  },
  {
   "cell_type": "code",
   "execution_count": 32,
   "metadata": {},
   "outputs": [
    {
     "name": "stdout",
     "output_type": "stream",
     "text": [
      "[2 3 1 0 5 1 4 4 0 4 4 1 2 4 4 4 2 4 3 0 2 1 2 1 1 4 4 1 5 4 2 0 1 4 1 4 3\n",
      " 4 4 1]\n",
      "Category_2: [0, 12, 16, 20, 22, 30]\n",
      "Category_3: [1, 18, 36]\n",
      "Category_1: [2, 5, 11, 21, 23, 24, 27, 32, 34, 39]\n",
      "Category_0: [3, 8, 19, 31]\n",
      "Category_5: [4, 28]\n",
      "Category_4: [6, 7, 9, 10, 13, 14, 15, 17, 25, 26, 29, 33, 35, 37, 38]\n",
      "Category_2: ['5_o_Clock_Shadow', 'Bushy_Eyebrows', 'Goatee', 'Male', 'Mustache', 'Sideburns']\n",
      "Category_3: ['Arched_Eyebrows', 'Heavy_Makeup', 'Wearing_Lipstick']\n",
      "Category_1: ['Attractive', 'Bangs', 'Brown_Hair', 'Mouth_Slightly_Open', 'Narrow_Eyes', 'No_Beard', 'Pointy_Nose', 'Straight_Hair', 'Wearing_Earrings', 'Young']\n",
      "Category_0: ['Bags_Under_Eyes', 'Black_Hair', 'High_Cheekbones', 'Smiling']\n",
      "Category_5: ['Bald', 'Receding_Hairline']\n",
      "Category_4: ['Big_Lips', 'Big_Nose', 'Blond_Hair', 'Blurry', 'Chubby', 'Double_Chin', 'Eyeglasses', 'Gray_Hair', 'Oval_Face', 'Pale_Skin', 'Rosy_Cheeks', 'Wavy_Hair', 'Wearing_Hat', 'Wearing_Necklace', 'Wearing_Necktie']\n"
     ]
    },
    {
     "name": "stderr",
     "output_type": "stream",
     "text": [
      "/home/mariammaa/anaconda3/envs/myenv/lib/python3.9/site-packages/sklearn/cluster/_spectral.py:589: UserWarning: The spectral clustering API has changed. ``fit``now constructs an affinity matrix from data. To use a custom affinity matrix, set ``affinity=precomputed``.\n",
      "  warnings.warn(\n"
     ]
    }
   ],
   "source": [
    "clustering = SpectralClustering(n_clusters=6,\n",
    "        assign_labels='discretize',\n",
    "        random_state=0).fit(X)\n",
    "print(clustering.labels_)\n",
    "cat_array = group_classes(clustering.labels_)\n",
    "\n",
    "category_array = cat_array\n",
    "\n",
    "class_groups = group_classes_by_category(class_names, category_array)\n",
    "for category, attributes in class_groups.items():\n",
    "    print(f\"{category}: {attributes}\")\n"
   ]
  },
  {
   "cell_type": "code",
   "execution_count": 33,
   "metadata": {},
   "outputs": [
    {
     "name": "stdout",
     "output_type": "stream",
     "text": [
      "[6 0 0 0 2 3 5 5 0 5 5 3 1 5 5 5 1 5 4 0 6 3 1 3 3 5 5 3 2 5 1 0 3 5 3 5 4\n",
      " 5 5 3]\n",
      "Category_6: [0, 20]\n",
      "Category_0: [1, 2, 3, 8, 19, 31]\n",
      "Category_2: [4, 28]\n",
      "Category_3: [5, 11, 21, 23, 24, 27, 32, 34, 39]\n",
      "Category_5: [6, 7, 9, 10, 13, 14, 15, 17, 25, 26, 29, 33, 35, 37, 38]\n",
      "Category_1: [12, 16, 22, 30]\n",
      "Category_4: [18, 36]\n",
      "Category_6: ['5_o_Clock_Shadow', 'Male']\n",
      "Category_0: ['Arched_Eyebrows', 'Attractive', 'Bags_Under_Eyes', 'Black_Hair', 'High_Cheekbones', 'Smiling']\n",
      "Category_2: ['Bald', 'Receding_Hairline']\n",
      "Category_3: ['Bangs', 'Brown_Hair', 'Mouth_Slightly_Open', 'Narrow_Eyes', 'No_Beard', 'Pointy_Nose', 'Straight_Hair', 'Wearing_Earrings', 'Young']\n",
      "Category_5: ['Big_Lips', 'Big_Nose', 'Blond_Hair', 'Blurry', 'Chubby', 'Double_Chin', 'Eyeglasses', 'Gray_Hair', 'Oval_Face', 'Pale_Skin', 'Rosy_Cheeks', 'Wavy_Hair', 'Wearing_Hat', 'Wearing_Necklace', 'Wearing_Necktie']\n",
      "Category_1: ['Bushy_Eyebrows', 'Goatee', 'Mustache', 'Sideburns']\n",
      "Category_4: ['Heavy_Makeup', 'Wearing_Lipstick']\n"
     ]
    },
    {
     "name": "stderr",
     "output_type": "stream",
     "text": [
      "/home/mariammaa/anaconda3/envs/myenv/lib/python3.9/site-packages/sklearn/cluster/_spectral.py:589: UserWarning: The spectral clustering API has changed. ``fit``now constructs an affinity matrix from data. To use a custom affinity matrix, set ``affinity=precomputed``.\n",
      "  warnings.warn(\n"
     ]
    }
   ],
   "source": [
    "clustering = SpectralClustering(n_clusters=7,\n",
    "        assign_labels='discretize',\n",
    "        random_state=0).fit(X)\n",
    "print(clustering.labels_)\n",
    "cat_array = group_classes(clustering.labels_)\n",
    "\n",
    "category_array = cat_array\n",
    "\n",
    "class_groups = group_classes_by_category(class_names, category_array)\n",
    "for category, attributes in class_groups.items():\n",
    "    print(f\"{category}: {attributes}\")\n"
   ]
  },
  {
   "cell_type": "code",
   "execution_count": 34,
   "metadata": {},
   "outputs": [
    {
     "name": "stdout",
     "output_type": "stream",
     "text": [
      "[7 0 0 0 3 2 4 4 0 6 4 2 1 6 6 6 1 6 5 0 7 2 1 4 2 6 6 2 3 6 1 0 2 6 2 3 5\n",
      " 4 6 2]\n",
      "Category_7: [0, 20]\n",
      "Category_0: [1, 2, 3, 8, 19, 31]\n",
      "Category_3: [4, 28, 35]\n",
      "Category_2: [5, 11, 21, 24, 27, 32, 34, 39]\n",
      "Category_4: [6, 7, 10, 23, 37]\n",
      "Category_6: [9, 13, 14, 15, 17, 25, 26, 29, 33, 38]\n",
      "Category_1: [12, 16, 22, 30]\n",
      "Category_5: [18, 36]\n",
      "Category_7: ['5_o_Clock_Shadow', 'Male']\n",
      "Category_0: ['Arched_Eyebrows', 'Attractive', 'Bags_Under_Eyes', 'Black_Hair', 'High_Cheekbones', 'Smiling']\n",
      "Category_3: ['Bald', 'Receding_Hairline', 'Wearing_Hat']\n",
      "Category_2: ['Bangs', 'Brown_Hair', 'Mouth_Slightly_Open', 'No_Beard', 'Pointy_Nose', 'Straight_Hair', 'Wearing_Earrings', 'Young']\n",
      "Category_4: ['Big_Lips', 'Big_Nose', 'Blurry', 'Narrow_Eyes', 'Wearing_Necklace']\n",
      "Category_6: ['Blond_Hair', 'Chubby', 'Double_Chin', 'Eyeglasses', 'Gray_Hair', 'Oval_Face', 'Pale_Skin', 'Rosy_Cheeks', 'Wavy_Hair', 'Wearing_Necktie']\n",
      "Category_1: ['Bushy_Eyebrows', 'Goatee', 'Mustache', 'Sideburns']\n",
      "Category_5: ['Heavy_Makeup', 'Wearing_Lipstick']\n"
     ]
    },
    {
     "name": "stderr",
     "output_type": "stream",
     "text": [
      "/home/mariammaa/anaconda3/envs/myenv/lib/python3.9/site-packages/sklearn/cluster/_spectral.py:589: UserWarning: The spectral clustering API has changed. ``fit``now constructs an affinity matrix from data. To use a custom affinity matrix, set ``affinity=precomputed``.\n",
      "  warnings.warn(\n"
     ]
    }
   ],
   "source": [
    "clustering = SpectralClustering(n_clusters=8,\n",
    "        assign_labels='discretize',\n",
    "        random_state=0).fit(X)\n",
    "print(clustering.labels_)\n",
    "cat_array = group_classes(clustering.labels_)\n",
    "\n",
    "category_array = cat_array\n",
    "\n",
    "class_groups = group_classes_by_category(class_names, category_array)\n",
    "for category, attributes in class_groups.items():\n",
    "    print(f\"{category}: {attributes}\")\n"
   ]
  },
  {
   "cell_type": "code",
   "execution_count": null,
   "metadata": {},
   "outputs": [],
   "source": []
  }
 ],
 "metadata": {
  "kernelspec": {
   "display_name": "myenv",
   "language": "python",
   "name": "python3"
  },
  "language_info": {
   "codemirror_mode": {
    "name": "ipython",
    "version": 3
   },
   "file_extension": ".py",
   "mimetype": "text/x-python",
   "name": "python",
   "nbconvert_exporter": "python",
   "pygments_lexer": "ipython3",
   "version": "3.9.7"
  }
 },
 "nbformat": 4,
 "nbformat_minor": 2
}
