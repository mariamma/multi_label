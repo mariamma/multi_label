{
 "cells": [
  {
   "cell_type": "code",
   "execution_count": 3,
   "metadata": {},
   "outputs": [],
   "source": [
    "from sklearn.cluster import SpectralClustering\n",
    "import numpy as np\n",
    "import os"
   ]
  },
  {
   "cell_type": "code",
   "execution_count": 4,
   "metadata": {},
   "outputs": [],
   "source": [
    "class_names = ['5_o_Clock_Shadow', 'Arched_Eyebrows', 'Attractive', 'Bags_Under_Eyes', 'Bald', 'Bangs',\n",
    "                                'Big_Lips', 'Big_Nose', 'Black_Hair', 'Blond_Hair', 'Blurry', 'Brown_Hair', 'Bushy_Eyebrows',      \n",
    "                                'Chubby', 'Double_Chin', 'Eyeglasses', 'Goatee', 'Gray_Hair', 'Heavy_Makeup', 'High_Cheekbones',       \n",
    "                                'Male', 'Mouth_Slightly_Open', 'Mustache', 'Narrow_Eyes', 'No_Beard', 'Oval_Face', 'Pale_Skin', \n",
    "                                'Pointy_Nose', 'Receding_Hairline', 'Rosy_Cheeks', 'Sideburns', 'Smiling', 'Straight_Hair', 'Wavy_Hair', \n",
    "                                'Wearing_Earrings', 'Wearing_Hat', 'Wearing_Lipstick', 'Wearing_Necklace', 'Wearing_Necktie', 'Young']\n",
    "\n",
    "from collections import defaultdict\n",
    "\n",
    "def group_classes(category_array):\n",
    "    \"\"\"\n",
    "    Groups class names based on their corresponding category values in the category_array.\n",
    "    \n",
    "    :param class_names: List of class names\n",
    "    :param category_array: Array of category values\n",
    "    :return: Dictionary with category labels as keys and corresponding class names as values\n",
    "    \"\"\"\n",
    "    if len(class_names) != len(category_array):\n",
    "        raise ValueError(\"class_names and category_array must have the same length\")\n",
    "    \n",
    "    groups = defaultdict(list)\n",
    "    cat_arr = []\n",
    "    \n",
    "    for idx, category in enumerate(category_array):\n",
    "        groups[f\"Category_{category}\"].append(idx)\n",
    "        cat_arr.append(category)\n",
    "\n",
    "    for category, attributes in groups.items():\n",
    "        print(f\"{category}: {attributes}\")\n",
    "\n",
    "    return cat_arr\n",
    "           \n",
    "\n",
    "def group_classes_by_category(class_names, category_array):\n",
    "    \"\"\"\n",
    "    Groups class names based on their corresponding category values in the category_array.\n",
    "    \n",
    "    :param class_names: List of class names\n",
    "    :param category_array: Array of category values\n",
    "    :return: Dictionary with category labels as keys and corresponding class names as values\n",
    "    \"\"\"\n",
    "    if len(class_names) != len(category_array):\n",
    "        raise ValueError(\"class_names and category_array must have the same length\")\n",
    "    \n",
    "    groups = defaultdict(list)\n",
    "    \n",
    "    for name, category in zip(class_names, category_array):\n",
    "        groups[f\"Category_{category}\"].append(name)\n",
    "    \n",
    "    return dict(groups)\n"
   ]
  },
  {
   "cell_type": "code",
   "execution_count": 5,
   "metadata": {},
   "outputs": [],
   "source": [
    "dirname = \"/data/mariammaa/celeba/results_pgd40_saliencymap/\"\n",
    "filename = \"rho_score_full_resnext-lr:0.01-wd:0.0_fanciful-smoke-3.csv\"\n",
    "X = np.genfromtxt(os.path.join(dirname, filename), delimiter=',')\n",
    "\n"
   ]
  },
  {
   "cell_type": "code",
   "execution_count": 6,
   "metadata": {},
   "outputs": [
    {
     "name": "stderr",
     "output_type": "stream",
     "text": [
      "/home/mariammaa/anaconda3/envs/myenv/lib/python3.9/site-packages/sklearn/cluster/_spectral.py:589: UserWarning: The spectral clustering API has changed. ``fit``now constructs an affinity matrix from data. To use a custom affinity matrix, set ``affinity=precomputed``.\n",
      "  warnings.warn(\n"
     ]
    },
    {
     "name": "stdout",
     "output_type": "stream",
     "text": [
      "[1 0 0 1 0 0 0 1 0 0 0 0 0 1 0 0 1 0 0 0 0 0 1 0 0 0 0 0 0 0 1 0 0 0 0 0 0\n",
      " 0 1 0]\n",
      "Category_1: [0, 3, 7, 13, 16, 22, 30, 38]\n",
      "Category_0: [1, 2, 4, 5, 6, 8, 9, 10, 11, 12, 14, 15, 17, 18, 19, 20, 21, 23, 24, 25, 26, 27, 28, 29, 31, 32, 33, 34, 35, 36, 37, 39]\n",
      "Category_1: ['5_o_Clock_Shadow', 'Bags_Under_Eyes', 'Big_Nose', 'Chubby', 'Goatee', 'Mustache', 'Sideburns', 'Wearing_Necktie']\n",
      "Category_0: ['Arched_Eyebrows', 'Attractive', 'Bald', 'Bangs', 'Big_Lips', 'Black_Hair', 'Blond_Hair', 'Blurry', 'Brown_Hair', 'Bushy_Eyebrows', 'Double_Chin', 'Eyeglasses', 'Gray_Hair', 'Heavy_Makeup', 'High_Cheekbones', 'Male', 'Mouth_Slightly_Open', 'Narrow_Eyes', 'No_Beard', 'Oval_Face', 'Pale_Skin', 'Pointy_Nose', 'Receding_Hairline', 'Rosy_Cheeks', 'Smiling', 'Straight_Hair', 'Wavy_Hair', 'Wearing_Earrings', 'Wearing_Hat', 'Wearing_Lipstick', 'Wearing_Necklace', 'Young']\n"
     ]
    }
   ],
   "source": [
    "clustering = SpectralClustering(n_clusters=2,\n",
    "        assign_labels='discretize',\n",
    "        random_state=0).fit(X)\n",
    "print(clustering.labels_)\n",
    "cat_array = group_classes(clustering.labels_)\n",
    "\n",
    "category_array = cat_array\n",
    "\n",
    "class_groups = group_classes_by_category(class_names, category_array)\n",
    "for category, attributes in class_groups.items():\n",
    "    print(f\"{category}: {attributes}\")\n"
   ]
  },
  {
   "cell_type": "code",
   "execution_count": 7,
   "metadata": {},
   "outputs": [
    {
     "name": "stdout",
     "output_type": "stream",
     "text": [
      "[2 0 0 2 2 0 0 2 0 2 2 0 0 2 2 2 2 0 0 0 1 0 2 0 1 0 2 0 2 0 2 0 0 0 0 1 0\n",
      " 0 2 1]\n",
      "Category_2: [0, 3, 4, 7, 9, 10, 13, 14, 15, 16, 22, 26, 28, 30, 38]\n",
      "Category_0: [1, 2, 5, 6, 8, 11, 12, 17, 18, 19, 21, 23, 25, 27, 29, 31, 32, 33, 34, 36, 37]\n",
      "Category_1: [20, 24, 35, 39]\n",
      "Category_2: ['5_o_Clock_Shadow', 'Bags_Under_Eyes', 'Bald', 'Big_Nose', 'Blond_Hair', 'Blurry', 'Chubby', 'Double_Chin', 'Eyeglasses', 'Goatee', 'Mustache', 'Pale_Skin', 'Receding_Hairline', 'Sideburns', 'Wearing_Necktie']\n",
      "Category_0: ['Arched_Eyebrows', 'Attractive', 'Bangs', 'Big_Lips', 'Black_Hair', 'Brown_Hair', 'Bushy_Eyebrows', 'Gray_Hair', 'Heavy_Makeup', 'High_Cheekbones', 'Mouth_Slightly_Open', 'Narrow_Eyes', 'Oval_Face', 'Pointy_Nose', 'Rosy_Cheeks', 'Smiling', 'Straight_Hair', 'Wavy_Hair', 'Wearing_Earrings', 'Wearing_Lipstick', 'Wearing_Necklace']\n",
      "Category_1: ['Male', 'No_Beard', 'Wearing_Hat', 'Young']\n"
     ]
    },
    {
     "name": "stderr",
     "output_type": "stream",
     "text": [
      "/home/mariammaa/anaconda3/envs/myenv/lib/python3.9/site-packages/sklearn/cluster/_spectral.py:589: UserWarning: The spectral clustering API has changed. ``fit``now constructs an affinity matrix from data. To use a custom affinity matrix, set ``affinity=precomputed``.\n",
      "  warnings.warn(\n"
     ]
    }
   ],
   "source": [
    "clustering = SpectralClustering(n_clusters=3,\n",
    "        assign_labels='discretize',\n",
    "        random_state=0).fit(X)\n",
    "print(clustering.labels_)\n",
    "cat_array = group_classes(clustering.labels_)\n",
    "\n",
    "category_array = cat_array\n",
    "\n",
    "class_groups = group_classes_by_category(class_names, category_array)\n",
    "for category, attributes in class_groups.items():\n",
    "    print(f\"{category}: {attributes}\")\n"
   ]
  },
  {
   "cell_type": "code",
   "execution_count": 8,
   "metadata": {},
   "outputs": [
    {
     "name": "stdout",
     "output_type": "stream",
     "text": [
      "[1 2 2 1 1 2 1 1 2 1 1 2 2 0 0 1 1 0 2 0 3 0 1 0 3 2 1 2 1 0 1 0 2 2 2 3 2\n",
      " 2 0 3]\n",
      "Category_1: [0, 3, 4, 6, 7, 9, 10, 15, 16, 22, 26, 28, 30]\n",
      "Category_2: [1, 2, 5, 8, 11, 12, 18, 25, 27, 32, 33, 34, 36, 37]\n",
      "Category_0: [13, 14, 17, 19, 21, 23, 29, 31, 38]\n",
      "Category_3: [20, 24, 35, 39]\n",
      "Category_1: ['5_o_Clock_Shadow', 'Bags_Under_Eyes', 'Bald', 'Big_Lips', 'Big_Nose', 'Blond_Hair', 'Blurry', 'Eyeglasses', 'Goatee', 'Mustache', 'Pale_Skin', 'Receding_Hairline', 'Sideburns']\n",
      "Category_2: ['Arched_Eyebrows', 'Attractive', 'Bangs', 'Black_Hair', 'Brown_Hair', 'Bushy_Eyebrows', 'Heavy_Makeup', 'Oval_Face', 'Pointy_Nose', 'Straight_Hair', 'Wavy_Hair', 'Wearing_Earrings', 'Wearing_Lipstick', 'Wearing_Necklace']\n",
      "Category_0: ['Chubby', 'Double_Chin', 'Gray_Hair', 'High_Cheekbones', 'Mouth_Slightly_Open', 'Narrow_Eyes', 'Rosy_Cheeks', 'Smiling', 'Wearing_Necktie']\n",
      "Category_3: ['Male', 'No_Beard', 'Wearing_Hat', 'Young']\n"
     ]
    },
    {
     "name": "stderr",
     "output_type": "stream",
     "text": [
      "/home/mariammaa/anaconda3/envs/myenv/lib/python3.9/site-packages/sklearn/cluster/_spectral.py:589: UserWarning: The spectral clustering API has changed. ``fit``now constructs an affinity matrix from data. To use a custom affinity matrix, set ``affinity=precomputed``.\n",
      "  warnings.warn(\n"
     ]
    }
   ],
   "source": [
    "clustering = SpectralClustering(n_clusters=4,\n",
    "        assign_labels='discretize',\n",
    "        random_state=0).fit(X)\n",
    "print(clustering.labels_)\n",
    "cat_array = group_classes(clustering.labels_)\n",
    "\n",
    "category_array = cat_array\n",
    "\n",
    "class_groups = group_classes_by_category(class_names, category_array)\n",
    "for category, attributes in class_groups.items():\n",
    "    print(f\"{category}: {attributes}\")\n"
   ]
  },
  {
   "cell_type": "code",
   "execution_count": 9,
   "metadata": {},
   "outputs": [
    {
     "name": "stdout",
     "output_type": "stream",
     "text": [
      "[1 4 4 1 1 4 1 0 2 4 1 2 2 0 0 1 1 0 4 2 3 0 1 0 3 4 1 2 1 0 1 0 2 2 2 4 4\n",
      " 4 0 3]\n",
      "Category_1: [0, 3, 4, 6, 10, 15, 16, 22, 26, 28, 30]\n",
      "Category_4: [1, 2, 5, 9, 18, 25, 35, 36, 37]\n",
      "Category_0: [7, 13, 14, 17, 21, 23, 29, 31, 38]\n",
      "Category_2: [8, 11, 12, 19, 27, 32, 33, 34]\n",
      "Category_3: [20, 24, 39]\n",
      "Category_1: ['5_o_Clock_Shadow', 'Bags_Under_Eyes', 'Bald', 'Big_Lips', 'Blurry', 'Eyeglasses', 'Goatee', 'Mustache', 'Pale_Skin', 'Receding_Hairline', 'Sideburns']\n",
      "Category_4: ['Arched_Eyebrows', 'Attractive', 'Bangs', 'Blond_Hair', 'Heavy_Makeup', 'Oval_Face', 'Wearing_Hat', 'Wearing_Lipstick', 'Wearing_Necklace']\n",
      "Category_0: ['Big_Nose', 'Chubby', 'Double_Chin', 'Gray_Hair', 'Mouth_Slightly_Open', 'Narrow_Eyes', 'Rosy_Cheeks', 'Smiling', 'Wearing_Necktie']\n",
      "Category_2: ['Black_Hair', 'Brown_Hair', 'Bushy_Eyebrows', 'High_Cheekbones', 'Pointy_Nose', 'Straight_Hair', 'Wavy_Hair', 'Wearing_Earrings']\n",
      "Category_3: ['Male', 'No_Beard', 'Young']\n"
     ]
    },
    {
     "name": "stderr",
     "output_type": "stream",
     "text": [
      "/home/mariammaa/anaconda3/envs/myenv/lib/python3.9/site-packages/sklearn/cluster/_spectral.py:589: UserWarning: The spectral clustering API has changed. ``fit``now constructs an affinity matrix from data. To use a custom affinity matrix, set ``affinity=precomputed``.\n",
      "  warnings.warn(\n"
     ]
    }
   ],
   "source": [
    "clustering = SpectralClustering(n_clusters=5,\n",
    "        assign_labels='discretize',\n",
    "        random_state=0).fit(X)\n",
    "print(clustering.labels_)\n",
    "cat_array = group_classes(clustering.labels_)\n",
    "\n",
    "category_array = cat_array\n",
    "\n",
    "class_groups = group_classes_by_category(class_names, category_array)\n",
    "for category, attributes in class_groups.items():\n",
    "    print(f\"{category}: {attributes}\")\n"
   ]
  },
  {
   "cell_type": "code",
   "execution_count": 11,
   "metadata": {},
   "outputs": [
    {
     "name": "stdout",
     "output_type": "stream",
     "text": [
      "[1 2 2 1 1 0 1 5 4 2 1 4 4 5 5 1 1 2 2 4 3 5 1 0 3 2 1 4 1 5 1 0 4 4 4 2 2\n",
      " 2 5 3]\n",
      "Category_1: [0, 3, 4, 6, 10, 15, 16, 22, 26, 28, 30]\n",
      "Category_2: [1, 2, 9, 17, 18, 25, 35, 36, 37]\n",
      "Category_0: [5, 23, 31]\n",
      "Category_5: [7, 13, 14, 21, 29, 38]\n",
      "Category_4: [8, 11, 12, 19, 27, 32, 33, 34]\n",
      "Category_3: [20, 24, 39]\n",
      "Category_1: ['5_o_Clock_Shadow', 'Bags_Under_Eyes', 'Bald', 'Big_Lips', 'Blurry', 'Eyeglasses', 'Goatee', 'Mustache', 'Pale_Skin', 'Receding_Hairline', 'Sideburns']\n",
      "Category_2: ['Arched_Eyebrows', 'Attractive', 'Blond_Hair', 'Gray_Hair', 'Heavy_Makeup', 'Oval_Face', 'Wearing_Hat', 'Wearing_Lipstick', 'Wearing_Necklace']\n",
      "Category_0: ['Bangs', 'Narrow_Eyes', 'Smiling']\n",
      "Category_5: ['Big_Nose', 'Chubby', 'Double_Chin', 'Mouth_Slightly_Open', 'Rosy_Cheeks', 'Wearing_Necktie']\n",
      "Category_4: ['Black_Hair', 'Brown_Hair', 'Bushy_Eyebrows', 'High_Cheekbones', 'Pointy_Nose', 'Straight_Hair', 'Wavy_Hair', 'Wearing_Earrings']\n",
      "Category_3: ['Male', 'No_Beard', 'Young']\n"
     ]
    },
    {
     "name": "stderr",
     "output_type": "stream",
     "text": [
      "/home/mariammaa/anaconda3/envs/myenv/lib/python3.9/site-packages/sklearn/cluster/_spectral.py:589: UserWarning: The spectral clustering API has changed. ``fit``now constructs an affinity matrix from data. To use a custom affinity matrix, set ``affinity=precomputed``.\n",
      "  warnings.warn(\n"
     ]
    }
   ],
   "source": [
    "clustering = SpectralClustering(n_clusters=6,\n",
    "        assign_labels='discretize',\n",
    "        random_state=0).fit(X)\n",
    "print(clustering.labels_)\n",
    "cat_array = group_classes(clustering.labels_)\n",
    "\n",
    "category_array = cat_array\n",
    "\n",
    "class_groups = group_classes_by_category(class_names, category_array)\n",
    "for category, attributes in class_groups.items():\n",
    "    print(f\"{category}: {attributes}\")\n"
   ]
  },
  {
   "cell_type": "code",
   "execution_count": 12,
   "metadata": {},
   "outputs": [
    {
     "name": "stdout",
     "output_type": "stream",
     "text": [
      "[3 1 5 3 3 5 1 2 6 2 1 6 6 2 2 3 3 2 5 5 4 2 3 0 4 1 3 5 1 2 3 0 6 5 5 1 1\n",
      " 1 2 4]\n",
      "Category_3: [0, 3, 4, 15, 16, 22, 26, 30]\n",
      "Category_1: [1, 6, 10, 25, 28, 35, 36, 37]\n",
      "Category_5: [2, 5, 18, 19, 27, 33, 34]\n",
      "Category_2: [7, 9, 13, 14, 17, 21, 29, 38]\n",
      "Category_6: [8, 11, 12, 32]\n",
      "Category_4: [20, 24, 39]\n",
      "Category_0: [23, 31]\n",
      "Category_3: ['5_o_Clock_Shadow', 'Bags_Under_Eyes', 'Bald', 'Eyeglasses', 'Goatee', 'Mustache', 'Pale_Skin', 'Sideburns']\n",
      "Category_1: ['Arched_Eyebrows', 'Big_Lips', 'Blurry', 'Oval_Face', 'Receding_Hairline', 'Wearing_Hat', 'Wearing_Lipstick', 'Wearing_Necklace']\n",
      "Category_5: ['Attractive', 'Bangs', 'Heavy_Makeup', 'High_Cheekbones', 'Pointy_Nose', 'Wavy_Hair', 'Wearing_Earrings']\n",
      "Category_2: ['Big_Nose', 'Blond_Hair', 'Chubby', 'Double_Chin', 'Gray_Hair', 'Mouth_Slightly_Open', 'Rosy_Cheeks', 'Wearing_Necktie']\n",
      "Category_6: ['Black_Hair', 'Brown_Hair', 'Bushy_Eyebrows', 'Straight_Hair']\n",
      "Category_4: ['Male', 'No_Beard', 'Young']\n",
      "Category_0: ['Narrow_Eyes', 'Smiling']\n"
     ]
    },
    {
     "name": "stderr",
     "output_type": "stream",
     "text": [
      "/home/mariammaa/anaconda3/envs/myenv/lib/python3.9/site-packages/sklearn/cluster/_spectral.py:589: UserWarning: The spectral clustering API has changed. ``fit``now constructs an affinity matrix from data. To use a custom affinity matrix, set ``affinity=precomputed``.\n",
      "  warnings.warn(\n"
     ]
    }
   ],
   "source": [
    "clustering = SpectralClustering(n_clusters=7,\n",
    "        assign_labels='discretize',\n",
    "        random_state=0).fit(X)\n",
    "print(clustering.labels_)\n",
    "cat_array = group_classes(clustering.labels_)\n",
    "\n",
    "category_array = cat_array\n",
    "\n",
    "class_groups = group_classes_by_category(class_names, category_array)\n",
    "for category, attributes in class_groups.items():\n",
    "    print(f\"{category}: {attributes}\")\n"
   ]
  },
  {
   "cell_type": "code",
   "execution_count": 13,
   "metadata": {},
   "outputs": [
    {
     "name": "stdout",
     "output_type": "stream",
     "text": [
      "[4 5 5 4 4 4 4 2 3 4 3 3 3 2 2 4 0 2 5 7 1 6 4 4 1 5 4 7 2 7 2 0 3 4 7 2 5\n",
      " 4 7 1]\n",
      "Category_4: [0, 3, 4, 5, 6, 9, 15, 22, 23, 26, 33, 37]\n",
      "Category_5: [1, 2, 18, 25, 36]\n",
      "Category_2: [7, 13, 14, 17, 28, 30, 35]\n",
      "Category_3: [8, 10, 11, 12, 32]\n",
      "Category_0: [16, 31]\n",
      "Category_7: [19, 27, 29, 34, 38]\n",
      "Category_1: [20, 24, 39]\n",
      "Category_6: [21]\n",
      "Category_4: ['5_o_Clock_Shadow', 'Bags_Under_Eyes', 'Bald', 'Bangs', 'Big_Lips', 'Blond_Hair', 'Eyeglasses', 'Mustache', 'Narrow_Eyes', 'Pale_Skin', 'Wavy_Hair', 'Wearing_Necklace']\n",
      "Category_5: ['Arched_Eyebrows', 'Attractive', 'Heavy_Makeup', 'Oval_Face', 'Wearing_Lipstick']\n",
      "Category_2: ['Big_Nose', 'Chubby', 'Double_Chin', 'Gray_Hair', 'Receding_Hairline', 'Sideburns', 'Wearing_Hat']\n",
      "Category_3: ['Black_Hair', 'Blurry', 'Brown_Hair', 'Bushy_Eyebrows', 'Straight_Hair']\n",
      "Category_0: ['Goatee', 'Smiling']\n",
      "Category_7: ['High_Cheekbones', 'Pointy_Nose', 'Rosy_Cheeks', 'Wearing_Earrings', 'Wearing_Necktie']\n",
      "Category_1: ['Male', 'No_Beard', 'Young']\n",
      "Category_6: ['Mouth_Slightly_Open']\n"
     ]
    },
    {
     "name": "stderr",
     "output_type": "stream",
     "text": [
      "/home/mariammaa/anaconda3/envs/myenv/lib/python3.9/site-packages/sklearn/cluster/_spectral.py:589: UserWarning: The spectral clustering API has changed. ``fit``now constructs an affinity matrix from data. To use a custom affinity matrix, set ``affinity=precomputed``.\n",
      "  warnings.warn(\n"
     ]
    }
   ],
   "source": [
    "clustering = SpectralClustering(n_clusters=8,\n",
    "        assign_labels='discretize',\n",
    "        random_state=0).fit(X)\n",
    "print(clustering.labels_)\n",
    "cat_array = group_classes(clustering.labels_)\n",
    "\n",
    "category_array = cat_array\n",
    "\n",
    "class_groups = group_classes_by_category(class_names, category_array)\n",
    "for category, attributes in class_groups.items():\n",
    "    print(f\"{category}: {attributes}\")\n"
   ]
  },
  {
   "cell_type": "code",
   "execution_count": null,
   "metadata": {},
   "outputs": [],
   "source": []
  }
 ],
 "metadata": {
  "kernelspec": {
   "display_name": "myenv",
   "language": "python",
   "name": "python3"
  },
  "language_info": {
   "codemirror_mode": {
    "name": "ipython",
    "version": 3
   },
   "file_extension": ".py",
   "mimetype": "text/x-python",
   "name": "python",
   "nbconvert_exporter": "python",
   "pygments_lexer": "ipython3",
   "version": "3.9.7"
  }
 },
 "nbformat": 4,
 "nbformat_minor": 2
}
