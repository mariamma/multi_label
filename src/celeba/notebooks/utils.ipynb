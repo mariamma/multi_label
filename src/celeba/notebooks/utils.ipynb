{
 "cells": [
  {
   "cell_type": "code",
   "execution_count": 1,
   "metadata": {},
   "outputs": [],
   "source": [
    "from sklearn.cluster import SpectralClustering\n",
    "import numpy as np\n",
    "import os"
   ]
  },
  {
   "cell_type": "code",
   "execution_count": 2,
   "metadata": {},
   "outputs": [],
   "source": [
    "class_names = ['5_o_Clock_Shadow', 'Arched_Eyebrows', 'Attractive', 'Bags_Under_Eyes', 'Bald', 'Bangs',\n",
    "                                'Big_Lips', 'Big_Nose', 'Black_Hair', 'Blond_Hair', 'Blurry', 'Brown_Hair', 'Bushy_Eyebrows',      \n",
    "                                'Chubby', 'Double_Chin', 'Eyeglasses', 'Goatee', 'Gray_Hair', 'Heavy_Makeup', 'High_Cheekbones',       \n",
    "                                'Male', 'Mouth_Slightly_Open', 'Mustache', 'Narrow_Eyes', 'No_Beard', 'Oval_Face', 'Pale_Skin', \n",
    "                                'Pointy_Nose', 'Receding_Hairline', 'Rosy_Cheeks', 'Sideburns', 'Smiling', 'Straight_Hair', 'Wavy_Hair', \n",
    "                                'Wearing_Earrings', 'Wearing_Hat', 'Wearing_Lipstick', 'Wearing_Necklace', 'Wearing_Necktie', 'Young']\n",
    "\n",
    "from collections import defaultdict\n",
    "\n",
    "def group_classes(category_array):\n",
    "    \"\"\"\n",
    "    Groups class names based on their corresponding category values in the category_array.\n",
    "    \n",
    "    :param class_names: List of class names\n",
    "    :param category_array: Array of category values\n",
    "    :return: Dictionary with category labels as keys and corresponding class names as values\n",
    "    \"\"\"\n",
    "    if len(class_names) != len(category_array):\n",
    "        raise ValueError(\"class_names and category_array must have the same length\")\n",
    "    \n",
    "    groups = defaultdict(list)\n",
    "    \n",
    "    for idx, category in enumerate(category_array):\n",
    "        groups[f\"Category_{category}\"].append(idx)\n",
    "    \n",
    "    for category, attributes in groups.items():\n",
    "        print(f\"{category}: {attributes}\")\n",
    "\n",
    "    # return dict(groups)\n",
    "           "
   ]
  },
  {
   "cell_type": "code",
   "execution_count": 3,
   "metadata": {},
   "outputs": [],
   "source": [
    "dirname = \"/data/mariammaa/celeba/results/\"\n",
    "filename = \"rho_score_fullfull_resnext-lr:0.01-wd:0.0_fanciful-smoke-3.csv\"\n",
    "X = np.genfromtxt(os.path.join(dirname, filename), delimiter=',')\n",
    "\n"
   ]
  },
  {
   "cell_type": "code",
   "execution_count": 35,
   "metadata": {},
   "outputs": [
    {
     "name": "stdout",
     "output_type": "stream",
     "text": [
      "[1 0 0 1 1 0 0 1 0 0 1 0 1 1 1 1 1 1 0 0 1 0 1 0 0 0 1 0 1 0 1 0 0 0 0 1 0\n",
      " 0 1 0]\n",
      "Category_1: [0, 3, 4, 7, 10, 12, 13, 14, 15, 16, 17, 20, 22, 26, 28, 30, 35, 38]\n",
      "Category_0: [1, 2, 5, 6, 8, 9, 11, 18, 19, 21, 23, 24, 25, 27, 29, 31, 32, 33, 34, 36, 37, 39]\n"
     ]
    },
    {
     "name": "stderr",
     "output_type": "stream",
     "text": [
      "/home/mariammaa/anaconda3/envs/myenv/lib/python3.9/site-packages/sklearn/cluster/_spectral.py:589: UserWarning: The spectral clustering API has changed. ``fit``now constructs an affinity matrix from data. To use a custom affinity matrix, set ``affinity=precomputed``.\n",
      "  warnings.warn(\n"
     ]
    }
   ],
   "source": [
    "clustering = SpectralClustering(n_clusters=2,\n",
    "        assign_labels='discretize',\n",
    "        random_state=0).fit(X)\n",
    "print(clustering.labels_)\n",
    "group_classes(clustering.labels_)"
   ]
  },
  {
   "cell_type": "code",
   "execution_count": 36,
   "metadata": {},
   "outputs": [
    {
     "name": "stdout",
     "output_type": "stream",
     "text": [
      "Category_2: [0, 3, 7, 8, 12, 16, 20, 22, 30, 38]\n",
      "Category_0: [1, 2, 5, 11, 18, 19, 21, 24, 25, 27, 31, 32, 33, 34, 36, 39]\n",
      "Category_1: [4, 6, 9, 10, 13, 14, 15, 17, 23, 26, 28, 29, 35, 37]\n"
     ]
    },
    {
     "name": "stderr",
     "output_type": "stream",
     "text": [
      "/home/mariammaa/anaconda3/envs/myenv/lib/python3.9/site-packages/sklearn/cluster/_spectral.py:589: UserWarning: The spectral clustering API has changed. ``fit``now constructs an affinity matrix from data. To use a custom affinity matrix, set ``affinity=precomputed``.\n",
      "  warnings.warn(\n"
     ]
    }
   ],
   "source": [
    "clustering = SpectralClustering(n_clusters=3,\n",
    "        assign_labels='discretize',\n",
    "        random_state=0).fit(X)\n",
    "clustering.labels_\n",
    "group_classes(clustering.labels_)"
   ]
  },
  {
   "cell_type": "code",
   "execution_count": 9,
   "metadata": {},
   "outputs": [
    {
     "name": "stderr",
     "output_type": "stream",
     "text": [
      "/home/mariammaa/anaconda3/envs/myenv/lib/python3.9/site-packages/sklearn/cluster/_spectral.py:589: UserWarning: The spectral clustering API has changed. ``fit``now constructs an affinity matrix from data. To use a custom affinity matrix, set ``affinity=precomputed``.\n",
      "  warnings.warn(\n"
     ]
    },
    {
     "data": {
      "text/plain": [
       "array([3, 2, 0, 2, 2, 2, 2, 3, 0, 2, 1, 2, 0, 1, 1, 1, 3, 1, 0, 0, 3, 0,\n",
       "       3, 2, 2, 0, 1, 2, 2, 1, 3, 0, 2, 2, 0, 2, 0, 1, 3, 2])"
      ]
     },
     "execution_count": 9,
     "metadata": {},
     "output_type": "execute_result"
    }
   ],
   "source": [
    "clustering = SpectralClustering(n_clusters=4,\n",
    "        assign_labels='discretize',\n",
    "        random_state=0).fit(X)\n",
    "clustering.labels_"
   ]
  },
  {
   "cell_type": "code",
   "execution_count": 37,
   "metadata": {},
   "outputs": [
    {
     "name": "stdout",
     "output_type": "stream",
     "text": [
      "[3 2 0 2 2 2 2 3 0 2 1 2 0 1 1 1 3 1 0 0 3 0 3 2 2 0 1 2 2 1 3 0 2 2 0 2 0\n",
      " 1 3 2]\n",
      "Category_3: [0, 7, 16, 20, 22, 30, 38]\n",
      "Category_2: [1, 3, 4, 5, 6, 9, 11, 23, 24, 27, 28, 32, 33, 35, 39]\n",
      "Category_0: [2, 8, 12, 18, 19, 21, 25, 31, 34, 36]\n",
      "Category_1: [10, 13, 14, 15, 17, 26, 29, 37]\n"
     ]
    },
    {
     "name": "stderr",
     "output_type": "stream",
     "text": [
      "/home/mariammaa/anaconda3/envs/myenv/lib/python3.9/site-packages/sklearn/cluster/_spectral.py:589: UserWarning: The spectral clustering API has changed. ``fit``now constructs an affinity matrix from data. To use a custom affinity matrix, set ``affinity=precomputed``.\n",
      "  warnings.warn(\n"
     ]
    }
   ],
   "source": [
    "clustering = SpectralClustering(n_clusters=4,\n",
    "        assign_labels='discretize',\n",
    "        random_state=0).fit(X)\n",
    "print(clustering.labels_)\n",
    "group_classes(clustering.labels_)"
   ]
  },
  {
   "cell_type": "code",
   "execution_count": 38,
   "metadata": {},
   "outputs": [
    {
     "name": "stdout",
     "output_type": "stream",
     "text": [
      "[3 1 1 4 2 1 1 2 4 1 2 1 3 2 2 2 3 2 0 0 4 0 3 2 4 0 1 1 2 0 3 0 1 2 0 2 0\n",
      " 1 3 4]\n",
      "Category_3: [0, 12, 16, 22, 30, 38]\n",
      "Category_1: [1, 2, 5, 6, 9, 11, 26, 27, 32, 37]\n",
      "Category_4: [3, 8, 20, 24, 39]\n",
      "Category_2: [4, 7, 10, 13, 14, 15, 17, 23, 28, 33, 35]\n",
      "Category_0: [18, 19, 21, 25, 29, 31, 34, 36]\n"
     ]
    },
    {
     "name": "stderr",
     "output_type": "stream",
     "text": [
      "/home/mariammaa/anaconda3/envs/myenv/lib/python3.9/site-packages/sklearn/cluster/_spectral.py:589: UserWarning: The spectral clustering API has changed. ``fit``now constructs an affinity matrix from data. To use a custom affinity matrix, set ``affinity=precomputed``.\n",
      "  warnings.warn(\n"
     ]
    }
   ],
   "source": [
    "clustering = SpectralClustering(n_clusters=5,\n",
    "        assign_labels='discretize',\n",
    "        random_state=0).fit(X)\n",
    "# clustering.labels_\n",
    "print(clustering.labels_)\n",
    "group_classes(clustering.labels_)"
   ]
  },
  {
   "cell_type": "code",
   "execution_count": 4,
   "metadata": {},
   "outputs": [
    {
     "name": "stdout",
     "output_type": "stream",
     "text": [
      "[1 4 2 3 5 2 3 3 0 2 5 2 1 5 5 5 1 5 4 0 3 0 1 3 0 0 2 2 5 5 1 0 2 5 4 2 4\n",
      " 4 1 3]\n",
      "Category_1: [0, 12, 16, 22, 30, 38]\n",
      "Category_4: [1, 18, 34, 36, 37]\n",
      "Category_2: [2, 5, 9, 11, 26, 27, 32, 35]\n",
      "Category_3: [3, 6, 7, 20, 23, 39]\n",
      "Category_5: [4, 10, 13, 14, 15, 17, 28, 29, 33]\n",
      "Category_0: [8, 19, 21, 24, 25, 31]\n"
     ]
    },
    {
     "name": "stderr",
     "output_type": "stream",
     "text": [
      "/home/mariammaa/anaconda3/envs/myenv/lib/python3.9/site-packages/sklearn/cluster/_spectral.py:589: UserWarning: The spectral clustering API has changed. ``fit``now constructs an affinity matrix from data. To use a custom affinity matrix, set ``affinity=precomputed``.\n",
      "  warnings.warn(\n"
     ]
    }
   ],
   "source": [
    "clustering = SpectralClustering(n_clusters=6,\n",
    "        assign_labels='discretize',\n",
    "        random_state=0).fit(X)\n",
    "# clustering.labels_\n",
    "print(clustering.labels_)\n",
    "group_classes(clustering.labels_)"
   ]
  },
  {
   "cell_type": "code",
   "execution_count": null,
   "metadata": {},
   "outputs": [
    {
     "name": "stderr",
     "output_type": "stream",
     "text": [
      "/home/mariammaa/anaconda3/envs/myenv/lib/python3.9/site-packages/sklearn/cluster/_spectral.py:589: UserWarning: The spectral clustering API has changed. ``fit``now constructs an affinity matrix from data. To use a custom affinity matrix, set ``affinity=precomputed``.\n",
      "  warnings.warn(\n"
     ]
    },
    {
     "data": {
      "text/plain": [
       "array([1, 2, 5, 5, 4, 4, 2, 3, 5, 6, 3, 6, 1, 3, 3, 3, 1, 6, 2, 0, 1, 0,\n",
       "       1, 3, 5, 0, 6, 2, 4, 0, 1, 0, 3, 4, 2, 4, 2, 2, 1, 5])"
      ]
     },
     "execution_count": 14,
     "metadata": {},
     "output_type": "execute_result"
    }
   ],
   "source": [
    "clustering = SpectralClustering(n_clusters=7,\n",
    "        assign_labels='discretize',\n",
    "        random_state=0).fit(X)\n",
    "clustering.labels_"
   ]
  },
  {
   "cell_type": "code",
   "execution_count": 40,
   "metadata": {},
   "outputs": [
    {
     "name": "stdout",
     "output_type": "stream",
     "text": [
      "[1 2 5 5 4 4 2 3 5 6 3 6 1 3 3 3 1 6 2 0 1 0 1 3 5 0 6 2 4 0 1 0 3 4 2 4 2\n",
      " 2 1 5]\n",
      "Category_1: [0, 12, 16, 20, 22, 30, 38]\n",
      "Category_2: [1, 6, 18, 27, 34, 36, 37]\n",
      "Category_5: [2, 3, 8, 24, 39]\n",
      "Category_4: [4, 5, 28, 33, 35]\n",
      "Category_3: [7, 10, 13, 14, 15, 23, 32]\n",
      "Category_6: [9, 11, 17, 26]\n",
      "Category_0: [19, 21, 25, 29, 31]\n"
     ]
    },
    {
     "name": "stderr",
     "output_type": "stream",
     "text": [
      "/home/mariammaa/anaconda3/envs/myenv/lib/python3.9/site-packages/sklearn/cluster/_spectral.py:589: UserWarning: The spectral clustering API has changed. ``fit``now constructs an affinity matrix from data. To use a custom affinity matrix, set ``affinity=precomputed``.\n",
      "  warnings.warn(\n"
     ]
    }
   ],
   "source": [
    "clustering = SpectralClustering(n_clusters=7,\n",
    "        assign_labels='discretize',\n",
    "        random_state=0).fit(X)\n",
    "clustering.labels_\n",
    "print(clustering.labels_)\n",
    "group_classes(clustering.labels_)"
   ]
  },
  {
   "cell_type": "code",
   "execution_count": 16,
   "metadata": {},
   "outputs": [
    {
     "name": "stderr",
     "output_type": "stream",
     "text": [
      "/home/mariammaa/anaconda3/envs/myenv/lib/python3.9/site-packages/sklearn/cluster/_spectral.py:589: UserWarning: The spectral clustering API has changed. ``fit``now constructs an affinity matrix from data. To use a custom affinity matrix, set ``affinity=precomputed``.\n",
      "  warnings.warn(\n"
     ]
    },
    {
     "data": {
      "text/plain": [
       "array([4, 6, 2, 1, 7, 2, 1, 1, 1, 7, 3, 3, 3, 1, 1, 3, 4, 7, 6, 0, 4, 0,\n",
       "       4, 1, 0, 0, 3, 2, 7, 3, 4, 0, 5, 2, 6, 7, 6, 3, 4, 2])"
      ]
     },
     "execution_count": 16,
     "metadata": {},
     "output_type": "execute_result"
    }
   ],
   "source": [
    "clustering = SpectralClustering(n_clusters=8,\n",
    "        assign_labels='discretize',\n",
    "        random_state=0).fit(X)\n",
    "clustering.labels_"
   ]
  },
  {
   "cell_type": "code",
   "execution_count": 41,
   "metadata": {},
   "outputs": [
    {
     "name": "stdout",
     "output_type": "stream",
     "text": [
      "[4 6 2 1 7 2 1 1 1 7 3 3 3 1 1 3 4 7 6 0 4 0 4 1 0 0 3 2 7 3 4 0 5 2 6 7 6\n",
      " 3 4 2]\n",
      "Category_4: [0, 16, 20, 22, 30, 38]\n",
      "Category_6: [1, 18, 34, 36]\n",
      "Category_2: [2, 5, 27, 33, 39]\n",
      "Category_1: [3, 6, 7, 8, 13, 14, 23]\n",
      "Category_7: [4, 9, 17, 28, 35]\n",
      "Category_3: [10, 11, 12, 15, 26, 29, 37]\n",
      "Category_0: [19, 21, 24, 25, 31]\n",
      "Category_5: [32]\n"
     ]
    },
    {
     "name": "stderr",
     "output_type": "stream",
     "text": [
      "/home/mariammaa/anaconda3/envs/myenv/lib/python3.9/site-packages/sklearn/cluster/_spectral.py:589: UserWarning: The spectral clustering API has changed. ``fit``now constructs an affinity matrix from data. To use a custom affinity matrix, set ``affinity=precomputed``.\n",
      "  warnings.warn(\n"
     ]
    }
   ],
   "source": [
    "clustering = SpectralClustering(n_clusters=8,\n",
    "        assign_labels='discretize',\n",
    "        random_state=0).fit(X)\n",
    "clustering.labels_\n",
    "print(clustering.labels_)\n",
    "group_classes(clustering.labels_)"
   ]
  },
  {
   "cell_type": "code",
   "execution_count": 18,
   "metadata": {},
   "outputs": [
    {
     "name": "stderr",
     "output_type": "stream",
     "text": [
      "/home/mariammaa/anaconda3/envs/myenv/lib/python3.9/site-packages/sklearn/cluster/_spectral.py:589: UserWarning: The spectral clustering API has changed. ``fit``now constructs an affinity matrix from data. To use a custom affinity matrix, set ``affinity=precomputed``.\n",
      "  warnings.warn(\n"
     ]
    },
    {
     "data": {
      "text/plain": [
       "array([2, 4, 6, 8, 5, 5, 7, 8, 7, 5, 7, 6, 2, 3, 3, 7, 2, 5, 4, 0, 2, 0,\n",
       "       2, 7, 0, 0, 6, 8, 8, 3, 2, 0, 1, 6, 4, 5, 4, 4, 2, 8])"
      ]
     },
     "execution_count": 18,
     "metadata": {},
     "output_type": "execute_result"
    }
   ],
   "source": [
    "clustering = SpectralClustering(n_clusters=9,\n",
    "        assign_labels='discretize',\n",
    "        random_state=0).fit(X)\n",
    "clustering.labels_"
   ]
  },
  {
   "cell_type": "code",
   "execution_count": 42,
   "metadata": {},
   "outputs": [
    {
     "name": "stdout",
     "output_type": "stream",
     "text": [
      "[2 4 6 8 5 5 7 8 7 5 7 6 2 3 3 7 2 5 4 0 2 0 2 7 0 0 6 8 8 3 2 0 1 6 4 5 4\n",
      " 4 2 8]\n",
      "Category_2: [0, 12, 16, 20, 22, 30, 38]\n",
      "Category_4: [1, 18, 34, 36, 37]\n",
      "Category_6: [2, 11, 26, 33]\n",
      "Category_8: [3, 7, 27, 28, 39]\n",
      "Category_5: [4, 5, 9, 17, 35]\n",
      "Category_7: [6, 8, 10, 15, 23]\n",
      "Category_3: [13, 14, 29]\n",
      "Category_0: [19, 21, 24, 25, 31]\n",
      "Category_1: [32]\n"
     ]
    },
    {
     "name": "stderr",
     "output_type": "stream",
     "text": [
      "/home/mariammaa/anaconda3/envs/myenv/lib/python3.9/site-packages/sklearn/cluster/_spectral.py:589: UserWarning: The spectral clustering API has changed. ``fit``now constructs an affinity matrix from data. To use a custom affinity matrix, set ``affinity=precomputed``.\n",
      "  warnings.warn(\n"
     ]
    }
   ],
   "source": [
    "clustering = SpectralClustering(n_clusters=9,\n",
    "        assign_labels='discretize',\n",
    "        random_state=0).fit(X)\n",
    "clustering.labels_\n",
    "print(clustering.labels_)\n",
    "group_classes(clustering.labels_)"
   ]
  },
  {
   "cell_type": "code",
   "execution_count": null,
   "metadata": {},
   "outputs": [],
   "source": []
  },
  {
   "cell_type": "code",
   "execution_count": 11,
   "metadata": {},
   "outputs": [
    {
     "name": "stdout",
     "output_type": "stream",
     "text": [
      "Category_3: ['5_o_Clock_Shadow', 'Big_Nose', 'Goatee', 'Male', 'Mustache', 'Sideburns', 'Wearing_Necktie']\n",
      "Category_2: ['Arched_Eyebrows', 'Bags_Under_Eyes', 'Bald', 'Bangs', 'Big_Lips', 'Blond_Hair', 'Brown_Hair', 'Narrow_Eyes', 'No_Beard', 'Pointy_Nose', 'Receding_Hairline', 'Straight_Hair', 'Wavy_Hair', 'Wearing_Hat', 'Young']\n",
      "Category_0: ['Attractive', 'Black_Hair', 'Bushy_Eyebrows', 'Heavy_Makeup', 'High_Cheekbones', 'Mouth_Slightly_Open', 'Oval_Face', 'Smiling', 'Wearing_Earrings', 'Wearing_Lipstick']\n",
      "Category_1: ['Blurry', 'Chubby', 'Double_Chin', 'Eyeglasses', 'Gray_Hair', 'Pale_Skin', 'Rosy_Cheeks', 'Wearing_Necklace']\n"
     ]
    }
   ],
   "source": [
    "from collections import defaultdict\n",
    "\n",
    "def group_classes_by_category(class_names, category_array):\n",
    "    \"\"\"\n",
    "    Groups class names based on their corresponding category values in the category_array.\n",
    "    \n",
    "    :param class_names: List of class names\n",
    "    :param category_array: Array of category values\n",
    "    :return: Dictionary with category labels as keys and corresponding class names as values\n",
    "    \"\"\"\n",
    "    if len(class_names) != len(category_array):\n",
    "        raise ValueError(\"class_names and category_array must have the same length\")\n",
    "    \n",
    "    groups = defaultdict(list)\n",
    "    \n",
    "    for name, category in zip(class_names, category_array):\n",
    "        groups[f\"Category_{category}\"].append(name)\n",
    "    \n",
    "    return dict(groups)\n",
    "\n",
    "# Example usage\n",
    "class_names = ['5_o_Clock_Shadow', 'Arched_Eyebrows', 'Attractive', 'Bags_Under_Eyes', 'Bald', 'Bangs',\n",
    "               'Big_Lips', 'Big_Nose', 'Black_Hair', 'Blond_Hair', 'Blurry', 'Brown_Hair', 'Bushy_Eyebrows',\n",
    "               'Chubby', 'Double_Chin', 'Eyeglasses', 'Goatee', 'Gray_Hair', 'Heavy_Makeup', 'High_Cheekbones',\n",
    "               'Male', 'Mouth_Slightly_Open', 'Mustache', 'Narrow_Eyes', 'No_Beard', 'Oval_Face', 'Pale_Skin',\n",
    "               'Pointy_Nose', 'Receding_Hairline', 'Rosy_Cheeks', 'Sideburns', 'Smiling', 'Straight_Hair', 'Wavy_Hair',\n",
    "               'Wearing_Earrings', 'Wearing_Hat', 'Wearing_Lipstick', 'Wearing_Necklace', 'Wearing_Necktie', 'Young']\n",
    "\n",
    "category_array = [3, 2, 0, 2, 2, 2, 2, 3, 0, 2, 1, 2, 0, 1, 1, 1, 3, 1, 0, 0, 3, 0,\n",
    "                  3, 2, 2, 0, 1, 2, 2, 1, 3, 0, 2, 2, 0, 2, 0, 1, 3, 2]\n",
    "\n",
    "class_groups = group_classes_by_category(class_names, category_array)\n",
    "for category, attributes in class_groups.items():\n",
    "    print(f\"{category}: {attributes}\")\n"
   ]
  },
  {
   "cell_type": "code",
   "execution_count": 13,
   "metadata": {},
   "outputs": [
    {
     "name": "stdout",
     "output_type": "stream",
     "text": [
      "Category_3: ['5_o_Clock_Shadow', 'Bushy_Eyebrows', 'Goatee', 'Mustache', 'Sideburns', 'Wearing_Necktie']\n",
      "Category_1: ['Arched_Eyebrows', 'Attractive', 'Bangs', 'Big_Lips', 'Blond_Hair', 'Brown_Hair', 'Pale_Skin', 'Pointy_Nose', 'Straight_Hair', 'Wearing_Necklace']\n",
      "Category_4: ['Bags_Under_Eyes', 'Black_Hair', 'Male', 'No_Beard', 'Young']\n",
      "Category_2: ['Bald', 'Big_Nose', 'Blurry', 'Chubby', 'Double_Chin', 'Eyeglasses', 'Gray_Hair', 'Narrow_Eyes', 'Receding_Hairline', 'Wavy_Hair', 'Wearing_Hat']\n",
      "Category_0: ['Heavy_Makeup', 'High_Cheekbones', 'Mouth_Slightly_Open', 'Oval_Face', 'Rosy_Cheeks', 'Smiling', 'Wearing_Earrings', 'Wearing_Lipstick']\n"
     ]
    }
   ],
   "source": [
    "category_array = [3, 1, 1, 4, 2, 1, 1, 2, 4, 1, 2, 1, 3, 2, 2, 2, 3, 2, 0, 0, 4, 0,\n",
    "       3, 2, 4, 0, 1, 1, 2, 0, 3, 0, 1, 2, 0, 2, 0, 1, 3, 4]\n",
    "\n",
    "class_groups = group_classes_by_category(class_names, category_array)\n",
    "for category, attributes in class_groups.items():\n",
    "    print(f\"{category}: {attributes}\")\n"
   ]
  },
  {
   "cell_type": "code",
   "execution_count": 15,
   "metadata": {},
   "outputs": [
    {
     "name": "stdout",
     "output_type": "stream",
     "text": [
      "Category_1: ['5_o_Clock_Shadow', 'Bushy_Eyebrows', 'Goatee', 'Male', 'Mustache', 'Sideburns', 'Wearing_Necktie']\n",
      "Category_2: ['Arched_Eyebrows', 'Big_Lips', 'Heavy_Makeup', 'Pointy_Nose', 'Wearing_Earrings', 'Wearing_Lipstick', 'Wearing_Necklace']\n",
      "Category_5: ['Attractive', 'Bags_Under_Eyes', 'Black_Hair', 'No_Beard', 'Young']\n",
      "Category_4: ['Bald', 'Bangs', 'Receding_Hairline', 'Wavy_Hair', 'Wearing_Hat']\n",
      "Category_3: ['Big_Nose', 'Blurry', 'Chubby', 'Double_Chin', 'Eyeglasses', 'Narrow_Eyes', 'Straight_Hair']\n",
      "Category_6: ['Blond_Hair', 'Brown_Hair', 'Gray_Hair', 'Pale_Skin']\n",
      "Category_0: ['High_Cheekbones', 'Mouth_Slightly_Open', 'Oval_Face', 'Rosy_Cheeks', 'Smiling']\n"
     ]
    }
   ],
   "source": [
    "category_array = [1, 2, 5, 5, 4, 4, 2, 3, 5, 6, 3, 6, 1, 3, 3, 3, 1, 6, 2, 0, 1, 0,\n",
    "       1, 3, 5, 0, 6, 2, 4, 0, 1, 0, 3, 4, 2, 4, 2, 2, 1, 5]\n",
    "\n",
    "class_groups = group_classes_by_category(class_names, category_array)\n",
    "for category, attributes in class_groups.items():\n",
    "    print(f\"{category}: {attributes}\")\n"
   ]
  },
  {
   "cell_type": "code",
   "execution_count": 17,
   "metadata": {},
   "outputs": [
    {
     "name": "stdout",
     "output_type": "stream",
     "text": [
      "Category_4: ['5_o_Clock_Shadow', 'Goatee', 'Male', 'Mustache', 'Sideburns', 'Wearing_Necktie']\n",
      "Category_6: ['Arched_Eyebrows', 'Heavy_Makeup', 'Wearing_Earrings', 'Wearing_Lipstick']\n",
      "Category_2: ['Attractive', 'Bangs', 'Pointy_Nose', 'Wavy_Hair', 'Young']\n",
      "Category_1: ['Bags_Under_Eyes', 'Big_Lips', 'Big_Nose', 'Black_Hair', 'Chubby', 'Double_Chin', 'Narrow_Eyes']\n",
      "Category_7: ['Bald', 'Blond_Hair', 'Gray_Hair', 'Receding_Hairline', 'Wearing_Hat']\n",
      "Category_3: ['Blurry', 'Brown_Hair', 'Bushy_Eyebrows', 'Eyeglasses', 'Pale_Skin', 'Rosy_Cheeks', 'Wearing_Necklace']\n",
      "Category_0: ['High_Cheekbones', 'Mouth_Slightly_Open', 'No_Beard', 'Oval_Face', 'Smiling']\n",
      "Category_5: ['Straight_Hair']\n"
     ]
    }
   ],
   "source": [
    "category_array = [4, 6, 2, 1, 7, 2, 1, 1, 1, 7, 3, 3, 3, 1, 1, 3, 4, 7, 6, 0, 4, 0,\n",
    "       4, 1, 0, 0, 3, 2, 7, 3, 4, 0, 5, 2, 6, 7, 6, 3, 4, 2]\n",
    "\n",
    "class_groups = group_classes_by_category(class_names, category_array)\n",
    "for category, attributes in class_groups.items():\n",
    "    print(f\"{category}: {attributes}\")\n"
   ]
  },
  {
   "cell_type": "code",
   "execution_count": 19,
   "metadata": {},
   "outputs": [
    {
     "name": "stdout",
     "output_type": "stream",
     "text": [
      "Category_2: ['5_o_Clock_Shadow', 'Bushy_Eyebrows', 'Goatee', 'Male', 'Mustache', 'Sideburns', 'Wearing_Necktie']\n",
      "Category_4: ['Arched_Eyebrows', 'Heavy_Makeup', 'Wearing_Earrings', 'Wearing_Lipstick', 'Wearing_Necklace']\n",
      "Category_6: ['Attractive', 'Brown_Hair', 'Pale_Skin', 'Wavy_Hair']\n",
      "Category_8: ['Bags_Under_Eyes', 'Big_Nose', 'Pointy_Nose', 'Receding_Hairline', 'Young']\n",
      "Category_5: ['Bald', 'Bangs', 'Blond_Hair', 'Gray_Hair', 'Wearing_Hat']\n",
      "Category_7: ['Big_Lips', 'Black_Hair', 'Blurry', 'Eyeglasses', 'Narrow_Eyes']\n",
      "Category_3: ['Chubby', 'Double_Chin', 'Rosy_Cheeks']\n",
      "Category_0: ['High_Cheekbones', 'Mouth_Slightly_Open', 'No_Beard', 'Oval_Face', 'Smiling']\n",
      "Category_1: ['Straight_Hair']\n"
     ]
    }
   ],
   "source": [
    "category_array = [2, 4, 6, 8, 5, 5, 7, 8, 7, 5, 7, 6, 2, 3, 3, 7, 2, 5, 4, 0, 2, 0,\n",
    "       2, 7, 0, 0, 6, 8, 8, 3, 2, 0, 1, 6, 4, 5, 4, 4, 2, 8]\n",
    "class_groups = group_classes_by_category(class_names, category_array)\n",
    "for category, attributes in class_groups.items():\n",
    "    print(f\"{category}: {attributes}\")\n"
   ]
  },
  {
   "cell_type": "code",
   "execution_count": 21,
   "metadata": {},
   "outputs": [
    {
     "name": "stderr",
     "output_type": "stream",
     "text": [
      "/home/mariammaa/anaconda3/envs/myenv/lib/python3.9/site-packages/sklearn/cluster/_spectral.py:589: UserWarning: The spectral clustering API has changed. ``fit``now constructs an affinity matrix from data. To use a custom affinity matrix, set ``affinity=precomputed``.\n",
      "  warnings.warn(\n"
     ]
    },
    {
     "name": "stdout",
     "output_type": "stream",
     "text": [
      "Category_2: ['5_o_Clock_Shadow', 'Bushy_Eyebrows', 'Goatee', 'Male', 'Mustache', 'Sideburns', 'Wearing_Necktie']\n",
      "Category_0: ['Arched_Eyebrows', 'Attractive', 'Bangs', 'Blond_Hair', 'Brown_Hair', 'Heavy_Makeup', 'Pale_Skin', 'Pointy_Nose', 'Straight_Hair', 'Wearing_Earrings', 'Wearing_Lipstick', 'Wearing_Necklace']\n",
      "Category_3: ['Bags_Under_Eyes', 'Bald', 'Big_Lips', 'Big_Nose', 'Blurry', 'Chubby', 'Double_Chin', 'Eyeglasses', 'Gray_Hair', 'Narrow_Eyes', 'Receding_Hairline', 'Wavy_Hair', 'Wearing_Hat']\n",
      "Category_1: ['Black_Hair', 'High_Cheekbones', 'Mouth_Slightly_Open', 'Oval_Face', 'Rosy_Cheeks', 'Smiling']\n",
      "Category_4: ['No_Beard', 'Young']\n"
     ]
    }
   ],
   "source": [
    "clustering = SpectralClustering(n_clusters=5,\n",
    "        assign_labels='kmeans',\n",
    "        random_state=0).fit(X)\n",
    "clustering.labels_\n",
    "category_array = clustering.labels_\n",
    "class_groups = group_classes_by_category(class_names, category_array)\n",
    "for category, attributes in class_groups.items():\n",
    "    print(f\"{category}: {attributes}\")\n"
   ]
  },
  {
   "cell_type": "code",
   "execution_count": 24,
   "metadata": {},
   "outputs": [
    {
     "name": "stdout",
     "output_type": "stream",
     "text": [
      "[1 8 6 8 2 8 8 2 0 5 7 5 1 2 2 7 1 2 0 0 1 0 1 8 6 0 7 4 2 3 1 0 4 0 3 5 0\n",
      " 3 1 6]\n",
      "Category_1: ['5_o_Clock_Shadow', 'Bushy_Eyebrows', 'Goatee', 'Male', 'Mustache', 'Sideburns', 'Wearing_Necktie']\n",
      "Category_8: ['Arched_Eyebrows', 'Bags_Under_Eyes', 'Bangs', 'Big_Lips', 'Narrow_Eyes']\n",
      "Category_6: ['Attractive', 'No_Beard', 'Young']\n",
      "Category_2: ['Bald', 'Big_Nose', 'Chubby', 'Double_Chin', 'Gray_Hair', 'Receding_Hairline']\n",
      "Category_0: ['Black_Hair', 'Heavy_Makeup', 'High_Cheekbones', 'Mouth_Slightly_Open', 'Oval_Face', 'Smiling', 'Wavy_Hair', 'Wearing_Lipstick']\n",
      "Category_5: ['Blond_Hair', 'Brown_Hair', 'Wearing_Hat']\n",
      "Category_7: ['Blurry', 'Eyeglasses', 'Pale_Skin']\n",
      "Category_4: ['Pointy_Nose', 'Straight_Hair']\n",
      "Category_3: ['Rosy_Cheeks', 'Wearing_Earrings', 'Wearing_Necklace']\n"
     ]
    },
    {
     "name": "stderr",
     "output_type": "stream",
     "text": [
      "/home/mariammaa/anaconda3/envs/myenv/lib/python3.9/site-packages/sklearn/cluster/_spectral.py:589: UserWarning: The spectral clustering API has changed. ``fit``now constructs an affinity matrix from data. To use a custom affinity matrix, set ``affinity=precomputed``.\n",
      "  warnings.warn(\n"
     ]
    }
   ],
   "source": [
    "clustering = SpectralClustering(n_clusters=9,\n",
    "        assign_labels='discretize',\n",
    "        affinity='nearest_neighbors',\n",
    "        random_state=0).fit(X)\n",
    "print(clustering.labels_)\n",
    "category_array = clustering.labels_\n",
    "class_groups = group_classes_by_category(class_names, category_array)\n",
    "for category, attributes in class_groups.items():\n",
    "    print(f\"{category}: {attributes}\")\n"
   ]
  },
  {
   "cell_type": "code",
   "execution_count": null,
   "metadata": {},
   "outputs": [],
   "source": []
  },
  {
   "cell_type": "code",
   "execution_count": 3,
   "metadata": {},
   "outputs": [],
   "source": [
    "result_file_list = ['vulnerability__cluster2-0_3_4_7_10_12_13_14_15_16_17_20_22_26_28_30_35_38resnext-lr:0.01-wd:0.0_faithful-paper-20.csv',\n",
    "'vulnerability__cluster21_2_5_6_8_9_11_18_19_21_23_24_25_27_29_31_32_33_34_36_37_39resnext-lr:0.01-wd:0.0_visionary-star-13.csv',\n",
    "'vulnerability__cluster30_3_7_8_12_16_20_22_30_38resnext-lr:0.01-wd:0.0_radiant-paper-14.csv',\n",
    "'vulnerability__cluster31_2_5_11_18_19_21_24_25_27_31_32_33_34_36_39resnext-lr:0.01-wd:0.0_zesty-dragon-15.csv',\n",
    "'vulnerability__cluster34_6_9_10_13_14_15_17_23_26_28_29_35_37resnext-lr:0.01-wd:0.0_upbeat-feather-16.csv',\n",
    "'vulnerability__cluster40_7_16_20_22_30_38resnext-lr:0.01-wd:0.0_unique-terrain-17.csv',\n",
    "'vulnerability__cluster4-10_13_14_15_17_26_29_37resnext-lr:0.01-wd:0.0_misty-dream-21.csv',\n",
    "'vulnerability__cluster41_3_4_5_6_9_11_23_24_27_28_32_33_35_39resnext-lr:0.01-wd:0.0_stilted-frog-18.csv',\n",
    "'vulnerability__cluster42_8_12_18_19_21_25_31_34_36resnext-lr:0.01-wd:0.0_eager-river-19.csv',\n",
    "'vulnerability__cluster5-0_12_16_22_30_38resnext-lr:0.01-wd:0.0_decent-deluge-22.csv',\n",
    "'vulnerability__cluster5-1_2_5_6_9_11_26_27_32_37resnext-lr:0.01-wd:0.0_light-cosmos-23.csv',\n",
    "'vulnerability__cluster5-18_19_21_25_29_31_34_36resnext-lr:0.01-wd:0.0_exalted-serenity-26.csv',\n",
    "'vulnerability__cluster5-3_8_20_24_39resnext-lr:0.01-wd:0.0_eager-dew-24.csv',\n",
    "'vulnerability__cluster5-4_7_10_13_14_15_17_23_28_33_35resnext-lr:0.01-wd:0.0_vibrant-brook-25.csv',\n",
    "'vulnerability__cluster7-0_12_16_20_22_30_38resnext-lr:0.01-wd:0.0_colorful-donkey-33.csv',\n",
    "'vulnerability__cluster7-1_6_18_27_34_36_37resnext-lr:0.01-wd:0.0_misunderstood-leaf-34.csv',\n",
    "'vulnerability__cluster7-19_21_25_29_31resnext-lr:0.01-wd:0.0_easy-wind-39.csv',\n",
    "'vulnerability__cluster7-2_3_8_24_39resnext-lr:0.01-wd:0.0_super-dawn-35.csv',\n",
    "'vulnerability__cluster7-4_5_28_33_35resnext-lr:0.01-wd:0.0_fanciful-salad-36.csv',\n",
    "'vulnerability__cluster7-7_10_13_14_15_23_32resnext-lr:0.01-wd:0.0_eager-snow-37.csv',\n",
    "'vulnerability__cluster7-9_11_17_26resnext-lr:0.01-wd:0.0_faithful-shadow-38.csv']"
   ]
  },
  {
   "cell_type": "code",
   "execution_count": 16,
   "metadata": {},
   "outputs": [],
   "source": [
    "import os\n",
    "import pandas as pd\n",
    "\n",
    "def get_group_acscore():\n",
    "    res_dirname = \"/data/mariammaa/celeba/results/\"\n",
    "    res_list = [0]* len(result_file_list)\n",
    "    index = 0\n",
    "    for x in result_file_list:\n",
    "        print(x)\n",
    "        filename = os.path.join(res_dirname, x)\n",
    "        df = pd.read_csv(filename, header=None)\n",
    "        print(df[0].mean())\n",
    "        res_list[index] = df[0].mean()\n",
    "        index += 1\n",
    "    return res_list    "
   ]
  },
  {
   "cell_type": "code",
   "execution_count": 17,
   "metadata": {},
   "outputs": [
    {
     "name": "stdout",
     "output_type": "stream",
     "text": [
      "vulnerability__cluster2-0_3_4_7_10_12_13_14_15_16_17_20_22_26_28_30_35_38resnext-lr:0.01-wd:0.0_faithful-paper-20.csv\n",
      "0.6105406681696574\n",
      "vulnerability__cluster21_2_5_6_8_9_11_18_19_21_23_24_25_27_29_31_32_33_34_36_37_39resnext-lr:0.01-wd:0.0_visionary-star-13.csv\n",
      "0.7287812395529314\n",
      "vulnerability__cluster30_3_7_8_12_16_20_22_30_38resnext-lr:0.01-wd:0.0_radiant-paper-14.csv\n",
      "0.5863283395767211\n",
      "vulnerability__cluster31_2_5_11_18_19_21_24_25_27_31_32_33_34_36_39resnext-lr:0.01-wd:0.0_zesty-dragon-15.csv\n",
      "0.6581656374037266\n",
      "vulnerability__cluster34_6_9_10_13_14_15_17_23_26_28_29_35_37resnext-lr:0.01-wd:0.0_upbeat-feather-16.csv\n",
      "0.6278671409402575\n",
      "vulnerability__cluster40_7_16_20_22_30_38resnext-lr:0.01-wd:0.0_unique-terrain-17.csv\n",
      "0.5347050172942025\n",
      "vulnerability__cluster4-10_13_14_15_17_26_29_37resnext-lr:0.01-wd:0.0_misty-dream-21.csv\n",
      "0.554046519100666\n",
      "vulnerability__cluster41_3_4_5_6_9_11_23_24_27_28_32_33_35_39resnext-lr:0.01-wd:0.0_stilted-frog-18.csv\n",
      "0.680449120203654\n",
      "vulnerability__cluster42_8_12_18_19_21_25_31_34_36resnext-lr:0.01-wd:0.0_eager-river-19.csv\n",
      "0.6042136371135711\n",
      "vulnerability__cluster5-0_12_16_22_30_38resnext-lr:0.01-wd:0.0_decent-deluge-22.csv\n",
      "0.49886984129746753\n",
      "vulnerability__cluster5-1_2_5_6_9_11_26_27_32_37resnext-lr:0.01-wd:0.0_light-cosmos-23.csv\n",
      "0.6098236858844757\n",
      "vulnerability__cluster5-18_19_21_25_29_31_34_36resnext-lr:0.01-wd:0.0_exalted-serenity-26.csv\n",
      "0.5768882110714912\n",
      "vulnerability__cluster5-3_8_20_24_39resnext-lr:0.01-wd:0.0_eager-dew-24.csv\n",
      "0.5658194780349731\n",
      "vulnerability__cluster5-4_7_10_13_14_15_17_23_28_33_35resnext-lr:0.01-wd:0.0_vibrant-brook-25.csv\n",
      "0.5928365967490457\n",
      "vulnerability__cluster7-0_12_16_20_22_30_38resnext-lr:0.01-wd:0.0_colorful-donkey-33.csv\n",
      "0.5337908267974854\n",
      "vulnerability__cluster7-1_6_18_27_34_36_37resnext-lr:0.01-wd:0.0_misunderstood-leaf-34.csv\n",
      "0.6260133726256234\n",
      "vulnerability__cluster7-19_21_25_29_31resnext-lr:0.01-wd:0.0_easy-wind-39.csv\n",
      "0.4907299876213074\n",
      "vulnerability__cluster7-2_3_8_24_39resnext-lr:0.01-wd:0.0_super-dawn-35.csv\n",
      "0.6517355442047119\n",
      "vulnerability__cluster7-4_5_28_33_35resnext-lr:0.01-wd:0.0_fanciful-salad-36.csv\n",
      "0.4482429802417755\n",
      "vulnerability__cluster7-7_10_13_14_15_23_32resnext-lr:0.01-wd:0.0_eager-snow-37.csv\n",
      "0.5567935620035444\n",
      "vulnerability__cluster7-9_11_17_26resnext-lr:0.01-wd:0.0_faithful-shadow-38.csv\n",
      "0.3663001209497452\n"
     ]
    }
   ],
   "source": [
    "res_list = get_group_acscore()"
   ]
  },
  {
   "cell_type": "code",
   "execution_count": 18,
   "metadata": {},
   "outputs": [],
   "source": [
    "def get_res(res_list, start, end):\n",
    "    sum = 0\n",
    "    cnt = 0\n",
    "    for i in range(start, end):\n",
    "        sum += res_list[i]\n",
    "        cnt += 1\n",
    "    print(sum/cnt)"
   ]
  },
  {
   "cell_type": "code",
   "execution_count": 19,
   "metadata": {},
   "outputs": [
    {
     "name": "stdout",
     "output_type": "stream",
     "text": [
      "[0.6105406681696574, 0.7287812395529314, 0.5863283395767211, 0.6581656374037266, 0.6278671409402575, 0.5347050172942025, 0.554046519100666, 0.680449120203654, 0.6042136371135711, 0.49886984129746753, 0.6098236858844757, 0.5768882110714912, 0.5658194780349731, 0.5928365967490457, 0.5337908267974854, 0.6260133726256234, 0.4907299876213074, 0.6517355442047119, 0.4482429802417755, 0.5567935620035444, 0.3663001209497452]\n"
     ]
    }
   ],
   "source": [
    "print(res_list)"
   ]
  },
  {
   "cell_type": "code",
   "execution_count": 21,
   "metadata": {},
   "outputs": [
    {
     "name": "stdout",
     "output_type": "stream",
     "text": [
      "0.6696609538612943\n",
      "0.6241203726402351\n",
      "0.5933535734280234\n",
      "0.5688475626074906\n",
      "0.5248009134920275\n"
     ]
    }
   ],
   "source": [
    "get_res(res_list, 0, 2)\n",
    "get_res(res_list, 2,5)\n",
    "get_res(res_list, 5,9)\n",
    "get_res(res_list, 9,14)\n",
    "get_res(res_list, 14,21)"
   ]
  },
  {
   "cell_type": "code",
   "execution_count": null,
   "metadata": {},
   "outputs": [],
   "source": [
    "[0.6696609538612943, 0.6241203726402351, 0.5933535734280234, 0.5688475626074906, 0.5248009134920275]"
   ]
  }
 ],
 "metadata": {
  "kernelspec": {
   "display_name": "myenv",
   "language": "python",
   "name": "python3"
  },
  "language_info": {
   "codemirror_mode": {
    "name": "ipython",
    "version": 3
   },
   "file_extension": ".py",
   "mimetype": "text/x-python",
   "name": "python",
   "nbconvert_exporter": "python",
   "pygments_lexer": "ipython3",
   "version": "3.9.7"
  }
 },
 "nbformat": 4,
 "nbformat_minor": 2
}
