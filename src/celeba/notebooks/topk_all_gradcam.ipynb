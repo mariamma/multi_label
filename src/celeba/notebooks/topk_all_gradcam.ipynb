{
 "cells": [
  {
   "cell_type": "code",
   "execution_count": 1,
   "metadata": {},
   "outputs": [],
   "source": [
    "from sklearn.cluster import SpectralClustering\n",
    "import numpy as np\n",
    "import os"
   ]
  },
  {
   "cell_type": "code",
   "execution_count": 2,
   "metadata": {},
   "outputs": [],
   "source": [
    "class_names = ['5_o_Clock_Shadow', 'Arched_Eyebrows', 'Attractive', 'Bags_Under_Eyes', 'Bald', 'Bangs',\n",
    "                                'Big_Lips', 'Big_Nose', 'Black_Hair', 'Blond_Hair', 'Blurry', 'Brown_Hair', 'Bushy_Eyebrows',      \n",
    "                                'Chubby', 'Double_Chin', 'Eyeglasses', 'Goatee', 'Gray_Hair', 'Heavy_Makeup', 'High_Cheekbones',       \n",
    "                                'Male', 'Mouth_Slightly_Open', 'Mustache', 'Narrow_Eyes', 'No_Beard', 'Oval_Face', 'Pale_Skin', \n",
    "                                'Pointy_Nose', 'Receding_Hairline', 'Rosy_Cheeks', 'Sideburns', 'Smiling', 'Straight_Hair', 'Wavy_Hair', \n",
    "                                'Wearing_Earrings', 'Wearing_Hat', 'Wearing_Lipstick', 'Wearing_Necklace', 'Wearing_Necktie', 'Young']\n",
    "\n",
    "from collections import defaultdict\n",
    "\n",
    "def group_classes(category_array):\n",
    "    \"\"\"\n",
    "    Groups class names based on their corresponding category values in the category_array.\n",
    "    \n",
    "    :param class_names: List of class names\n",
    "    :param category_array: Array of category values\n",
    "    :return: Dictionary with category labels as keys and corresponding class names as values\n",
    "    \"\"\"\n",
    "    if len(class_names) != len(category_array):\n",
    "        raise ValueError(\"class_names and category_array must have the same length\")\n",
    "    \n",
    "    groups = defaultdict(list)\n",
    "    \n",
    "    for idx, category in enumerate(category_array):\n",
    "        groups[f\"Category_{category}\"].append(idx)\n",
    "    \n",
    "    for category, attributes in groups.items():\n",
    "        print(f\"{category}: {attributes}\")\n",
    "\n",
    "    # return dict(groups)\n",
    "           "
   ]
  },
  {
   "cell_type": "code",
   "execution_count": 3,
   "metadata": {},
   "outputs": [],
   "source": [
    "dirname = \"/data/mariammaa/celeba/results_gradcam/\"\n",
    "filename = \"rho_score_full_resnext-lr:0.01-wd:0.0_fanciful-smoke-3.csv\"\n",
    "X = np.genfromtxt(os.path.join(dirname, filename), delimiter=',')\n",
    "\n"
   ]
  },
  {
   "cell_type": "code",
   "execution_count": 4,
   "metadata": {},
   "outputs": [
    {
     "name": "stderr",
     "output_type": "stream",
     "text": [
      "/home/mariammaa/anaconda3/envs/myenv/lib/python3.9/site-packages/sklearn/cluster/_spectral.py:589: UserWarning: The spectral clustering API has changed. ``fit``now constructs an affinity matrix from data. To use a custom affinity matrix, set ``affinity=precomputed``.\n",
      "  warnings.warn(\n"
     ]
    },
    {
     "name": "stdout",
     "output_type": "stream",
     "text": [
      "[0 0 0 1 0 0 1 0 0 1 1 1 1 1 1 1 0 1 0 0 0 0 0 1 0 1 1 1 1 1 0 0 1 1 0 0 0\n",
      " 1 0 0]\n",
      "Category_0: [0, 1, 2, 4, 5, 7, 8, 16, 18, 19, 20, 21, 22, 24, 30, 31, 34, 35, 36, 38, 39]\n",
      "Category_1: [3, 6, 9, 10, 11, 12, 13, 14, 15, 17, 23, 25, 26, 27, 28, 29, 32, 33, 37]\n"
     ]
    }
   ],
   "source": [
    "clustering = SpectralClustering(n_clusters=2,\n",
    "        assign_labels='discretize',\n",
    "        random_state=0).fit(X)\n",
    "print(clustering.labels_)\n",
    "group_classes(clustering.labels_)"
   ]
  },
  {
   "cell_type": "code",
   "execution_count": 5,
   "metadata": {},
   "outputs": [
    {
     "name": "stdout",
     "output_type": "stream",
     "text": [
      "[2 0 0 2 2 0 1 2 0 1 1 1 2 2 1 2 2 2 0 0 2 0 2 1 0 2 1 1 1 1 2 0 1 1 0 0 0\n",
      " 1 2 0]\n",
      "Category_2: [0, 3, 4, 7, 12, 13, 15, 16, 17, 20, 22, 25, 30, 38]\n",
      "Category_0: [1, 2, 5, 8, 18, 19, 21, 24, 31, 34, 35, 36, 39]\n",
      "Category_1: [6, 9, 10, 11, 14, 23, 26, 27, 28, 29, 32, 33, 37]\n"
     ]
    },
    {
     "name": "stderr",
     "output_type": "stream",
     "text": [
      "/home/mariammaa/anaconda3/envs/myenv/lib/python3.9/site-packages/sklearn/cluster/_spectral.py:589: UserWarning: The spectral clustering API has changed. ``fit``now constructs an affinity matrix from data. To use a custom affinity matrix, set ``affinity=precomputed``.\n",
      "  warnings.warn(\n"
     ]
    }
   ],
   "source": [
    "clustering = SpectralClustering(n_clusters=3,\n",
    "        assign_labels='discretize',\n",
    "        random_state=0).fit(X)\n",
    "print(clustering.labels_)\n",
    "group_classes(clustering.labels_)"
   ]
  },
  {
   "cell_type": "code",
   "execution_count": 6,
   "metadata": {},
   "outputs": [
    {
     "name": "stdout",
     "output_type": "stream",
     "text": [
      "[4 6 6 3 1 5 5 3 7 5 2 2 4 1 1 1 4 1 6 0 4 0 4 7 0 0 2 2 5 2 4 0 7 5 6 5 6\n",
      " 2 4 0]\n",
      "Category_4: [0, 12, 16, 20, 22, 30, 38]\n",
      "Category_6: [1, 2, 18, 34, 36]\n",
      "Category_3: [3, 7]\n",
      "Category_1: [4, 13, 14, 15, 17]\n",
      "Category_5: [5, 6, 9, 28, 33, 35]\n",
      "Category_7: [8, 23, 32]\n",
      "Category_2: [10, 11, 26, 27, 29, 37]\n",
      "Category_0: [19, 21, 24, 25, 31, 39]\n"
     ]
    },
    {
     "name": "stderr",
     "output_type": "stream",
     "text": [
      "/home/mariammaa/anaconda3/envs/myenv/lib/python3.9/site-packages/sklearn/cluster/_spectral.py:589: UserWarning: The spectral clustering API has changed. ``fit``now constructs an affinity matrix from data. To use a custom affinity matrix, set ``affinity=precomputed``.\n",
      "  warnings.warn(\n"
     ]
    }
   ],
   "source": [
    "clustering = SpectralClustering(n_clusters=8,\n",
    "        assign_labels='discretize',\n",
    "        random_state=0).fit(X)\n",
    "print(clustering.labels_)\n",
    "group_classes(clustering.labels_)"
   ]
  },
  {
   "cell_type": "code",
   "execution_count": null,
   "metadata": {},
   "outputs": [
    {
     "name": "stdout",
     "output_type": "stream",
     "text": [
      "Category_2: ['5_o_Clock_Shadow', 'Bushy_Eyebrows', 'Goatee', 'Mustache', 'Sideburns', 'Wearing_Necktie']\n",
      "Category_4: ['Arched_Eyebrows', 'Big_Lips', 'Heavy_Makeup', 'Wearing_Earrings', 'Wearing_Lipstick', 'Wearing_Necklace']\n",
      "Category_6: ['Attractive', 'Black_Hair', 'Male', 'No_Beard', 'Young']\n",
      "Category_5: ['Bags_Under_Eyes', 'Big_Nose', 'Chubby', 'Double_Chin', 'Narrow_Eyes']\n",
      "Category_3: ['Bald', 'Bangs', 'Blond_Hair', 'Gray_Hair', 'Receding_Hairline', 'Wavy_Hair', 'Wearing_Hat']\n",
      "Category_1: ['Blurry', 'Brown_Hair', 'Pale_Skin', 'Pointy_Nose', 'Straight_Hair']\n",
      "Category_0: ['Eyeglasses', 'High_Cheekbones', 'Mouth_Slightly_Open', 'Oval_Face', 'Rosy_Cheeks', 'Smiling']\n"
     ]
    }
   ],
   "source": [
    "from collections import defaultdict\n",
    "\n",
    "def group_classes_by_category(class_names, category_array):\n",
    "    \"\"\"\n",
    "    Groups class names based on their corresponding category values in the category_array.\n",
    "    \n",
    "    :param class_names: List of class names\n",
    "    :param category_array: Array of category values\n",
    "    :return: Dictionary with category labels as keys and corresponding class names as values\n",
    "    \"\"\"\n",
    "    if len(class_names) != len(category_array):\n",
    "        raise ValueError(\"class_names and category_array must have the same length\")\n",
    "    \n",
    "    groups = defaultdict(list)\n",
    "    \n",
    "    for name, category in zip(class_names, category_array):\n",
    "        groups[f\"Category_{category}\"].append(name)\n",
    "    \n",
    "    return dict(groups)\n",
    "\n",
    "# Example usage\n",
    "class_names = ['5_o_Clock_Shadow', 'Arched_Eyebrows', 'Attractive', 'Bags_Under_Eyes', 'Bald', 'Bangs',\n",
    "               'Big_Lips', 'Big_Nose', 'Black_Hair', 'Blond_Hair', 'Blurry', 'Brown_Hair', 'Bushy_Eyebrows',\n",
    "               'Chubby', 'Double_Chin', 'Eyeglasses', 'Goatee', 'Gray_Hair', 'Heavy_Makeup', 'High_Cheekbones',\n",
    "               'Male', 'Mouth_Slightly_Open', 'Mustache', 'Narrow_Eyes', 'No_Beard', 'Oval_Face', 'Pale_Skin',\n",
    "               'Pointy_Nose', 'Receding_Hairline', 'Rosy_Cheeks', 'Sideburns', 'Smiling', 'Straight_Hair', 'Wavy_Hair',\n",
    "               'Wearing_Earrings', 'Wearing_Hat', 'Wearing_Lipstick', 'Wearing_Necklace', 'Wearing_Necktie', 'Young']\n",
    "\n",
    "category_array = [4, 6, 6, 3, 1, 5, 5, 3, 7, 5, 2, 2, 4, 1, 1, 1, 4, 1, 6, 0, 4, 0, 4, 7, 0, \n",
    "                  0, 2, 2, 5, 2, 4, 0, 7, 5, 6, 5, 6, 2, 4, 0]\n",
    "\n",
    "class_groups = group_classes_by_category(class_names, category_array)\n",
    "for category, attributes in class_groups.items():\n",
    "    print(f\"{category}: {attributes}\")\n"
   ]
  },
  {
   "cell_type": "code",
   "execution_count": null,
   "metadata": {},
   "outputs": [],
   "source": []
  }
 ],
 "metadata": {
  "kernelspec": {
   "display_name": "myenv",
   "language": "python",
   "name": "python3"
  },
  "language_info": {
   "codemirror_mode": {
    "name": "ipython",
    "version": 3
   },
   "file_extension": ".py",
   "mimetype": "text/x-python",
   "name": "python",
   "nbconvert_exporter": "python",
   "pygments_lexer": "ipython3",
   "version": "3.9.7"
  }
 },
 "nbformat": 4,
 "nbformat_minor": 2
}
