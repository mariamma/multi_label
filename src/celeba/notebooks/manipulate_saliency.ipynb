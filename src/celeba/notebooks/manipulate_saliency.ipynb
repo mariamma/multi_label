{
 "cells": [
  {
   "cell_type": "code",
   "execution_count": 1,
   "metadata": {},
   "outputs": [],
   "source": [
    "from sklearn.cluster import SpectralClustering\n",
    "import numpy as np\n",
    "import os"
   ]
  },
  {
   "cell_type": "code",
   "execution_count": 2,
   "metadata": {},
   "outputs": [],
   "source": [
    "class_names = ['5_o_Clock_Shadow', 'Arched_Eyebrows', 'Attractive', 'Bags_Under_Eyes', 'Bald', 'Bangs',\n",
    "                                'Big_Lips', 'Big_Nose', 'Black_Hair', 'Blond_Hair', 'Blurry', 'Brown_Hair', 'Bushy_Eyebrows',      \n",
    "                                'Chubby', 'Double_Chin', 'Eyeglasses', 'Goatee', 'Gray_Hair', 'Heavy_Makeup', 'High_Cheekbones',       \n",
    "                                'Male', 'Mouth_Slightly_Open', 'Mustache', 'Narrow_Eyes', 'No_Beard', 'Oval_Face', 'Pale_Skin', \n",
    "                                'Pointy_Nose', 'Receding_Hairline', 'Rosy_Cheeks', 'Sideburns', 'Smiling', 'Straight_Hair', 'Wavy_Hair', \n",
    "                                'Wearing_Earrings', 'Wearing_Hat', 'Wearing_Lipstick', 'Wearing_Necklace', 'Wearing_Necktie', 'Young']\n",
    "\n",
    "from collections import defaultdict\n",
    "\n",
    "def group_classes(category_array):\n",
    "    \"\"\"\n",
    "    Groups class names based on their corresponding category values in the category_array.    \n",
    "    :param class_names: List of class names\n",
    "    :param category_array: Array of category values\n",
    "    :return: Dictionary with category labels as keys and corresponding class names as values\n",
    "    \"\"\"\n",
    "    if len(class_names) != len(category_array):\n",
    "        raise ValueError(\"class_names and category_array must have the same length\")\n",
    "    \n",
    "    groups = defaultdict(list)\n",
    "    cat_arr = []\n",
    "    \n",
    "    for idx, category in enumerate(category_array):\n",
    "        groups[f\"Category_{category}\"].append(idx)\n",
    "        cat_arr.append(category)\n",
    "\n",
    "    for category, attributes in groups.items():\n",
    "        print(f\"{category}: {attributes}\")\n",
    "\n",
    "    return cat_arr\n",
    "           \n",
    "\n",
    "def group_classes_by_category(class_names, category_array):\n",
    "    \"\"\"\n",
    "    Groups class names based on their corresponding category values in the category_array.\n",
    "    \n",
    "    :param class_names: List of class names\n",
    "    :param category_array: Array of category values\n",
    "    :return: Dictionary with category labels as keys and corresponding class names as values\n",
    "    \"\"\"\n",
    "    if len(class_names) != len(category_array):\n",
    "        raise ValueError(\"class_names and category_array must have the same length\")\n",
    "    \n",
    "    groups = defaultdict(list)\n",
    "    \n",
    "    for name, category in zip(class_names, category_array):\n",
    "        groups[f\"Category_{category}\"].append(name)\n",
    "    \n",
    "    return dict(groups)\n"
   ]
  },
  {
   "cell_type": "code",
   "execution_count": 3,
   "metadata": {},
   "outputs": [],
   "source": [
    "dirname = \"/data/mariammaa/celeba/results_manipulate_saliencymap/\"\n",
    "filename = \"rho_score_full_resnext-lr:0.01-wd:0.0_fanciful-smoke-3.csv\"\n",
    "X = np.genfromtxt(os.path.join(dirname, filename), delimiter=',')\n",
    "\n"
   ]
  },
  {
   "cell_type": "code",
   "execution_count": 4,
   "metadata": {},
   "outputs": [
    {
     "name": "stdout",
     "output_type": "stream",
     "text": [
      "[1 0 0 1 1 0 0 1 0 0 1 0 1 1 1 1 1 1 0 0 1 0 1 0 0 0 1 0 1 0 1 0 0 0 0 1 0\n",
      " 0 1 0]\n",
      "Category_1: [0, 3, 4, 7, 10, 12, 13, 14, 15, 16, 17, 20, 22, 26, 28, 30, 35, 38]\n",
      "Category_0: [1, 2, 5, 6, 8, 9, 11, 18, 19, 21, 23, 24, 25, 27, 29, 31, 32, 33, 34, 36, 37, 39]\n"
     ]
    },
    {
     "name": "stderr",
     "output_type": "stream",
     "text": [
      "/home/mariammaa/anaconda3/envs/myenv/lib/python3.9/site-packages/sklearn/cluster/_spectral.py:589: UserWarning: The spectral clustering API has changed. ``fit``now constructs an affinity matrix from data. To use a custom affinity matrix, set ``affinity=precomputed``.\n",
      "  warnings.warn(\n"
     ]
    }
   ],
   "source": [
    "clustering = SpectralClustering(n_clusters=2,\n",
    "        assign_labels='discretize',\n",
    "        random_state=0).fit(X)\n",
    "print(clustering.labels_)\n",
    "cat_array = group_classes(clustering.labels_)"
   ]
  },
  {
   "cell_type": "code",
   "execution_count": 5,
   "metadata": {},
   "outputs": [
    {
     "name": "stdout",
     "output_type": "stream",
     "text": [
      "Category_1: ['5_o_Clock_Shadow', 'Bags_Under_Eyes', 'Bald', 'Big_Nose', 'Blurry', 'Bushy_Eyebrows', 'Chubby', 'Double_Chin', 'Eyeglasses', 'Goatee', 'Gray_Hair', 'Male', 'Mustache', 'Pale_Skin', 'Receding_Hairline', 'Sideburns', 'Wearing_Hat', 'Wearing_Necktie']\n",
      "Category_0: ['Arched_Eyebrows', 'Attractive', 'Bangs', 'Big_Lips', 'Black_Hair', 'Blond_Hair', 'Brown_Hair', 'Heavy_Makeup', 'High_Cheekbones', 'Mouth_Slightly_Open', 'Narrow_Eyes', 'No_Beard', 'Oval_Face', 'Pointy_Nose', 'Rosy_Cheeks', 'Smiling', 'Straight_Hair', 'Wavy_Hair', 'Wearing_Earrings', 'Wearing_Lipstick', 'Wearing_Necklace', 'Young']\n"
     ]
    }
   ],
   "source": [
    "category_array = cat_array\n",
    "\n",
    "class_groups = group_classes_by_category(class_names, category_array)\n",
    "for category, attributes in class_groups.items():\n",
    "    print(f\"{category}: {attributes}\")\n"
   ]
  },
  {
   "cell_type": "code",
   "execution_count": 6,
   "metadata": {},
   "outputs": [
    {
     "name": "stdout",
     "output_type": "stream",
     "text": [
      "[2 1 0 2 1 1 1 2 0 1 1 0 2 1 1 2 2 1 0 0 2 0 2 1 0 0 1 0 1 1 2 0 0 1 1 1 0\n",
      " 1 2 0]\n",
      "Category_2: [0, 3, 7, 12, 15, 16, 20, 22, 30, 38]\n",
      "Category_1: [1, 4, 5, 6, 9, 10, 13, 14, 17, 23, 26, 28, 29, 33, 34, 35, 37]\n",
      "Category_0: [2, 8, 11, 18, 19, 21, 24, 25, 27, 31, 32, 36, 39]\n",
      "Category_2: ['5_o_Clock_Shadow', 'Bags_Under_Eyes', 'Big_Nose', 'Bushy_Eyebrows', 'Eyeglasses', 'Goatee', 'Male', 'Mustache', 'Sideburns', 'Wearing_Necktie']\n",
      "Category_1: ['Arched_Eyebrows', 'Bald', 'Bangs', 'Big_Lips', 'Blond_Hair', 'Blurry', 'Chubby', 'Double_Chin', 'Gray_Hair', 'Narrow_Eyes', 'Pale_Skin', 'Receding_Hairline', 'Rosy_Cheeks', 'Wavy_Hair', 'Wearing_Earrings', 'Wearing_Hat', 'Wearing_Necklace']\n",
      "Category_0: ['Attractive', 'Black_Hair', 'Brown_Hair', 'Heavy_Makeup', 'High_Cheekbones', 'Mouth_Slightly_Open', 'No_Beard', 'Oval_Face', 'Pointy_Nose', 'Smiling', 'Straight_Hair', 'Wearing_Lipstick', 'Young']\n"
     ]
    },
    {
     "name": "stderr",
     "output_type": "stream",
     "text": [
      "/home/mariammaa/anaconda3/envs/myenv/lib/python3.9/site-packages/sklearn/cluster/_spectral.py:589: UserWarning: The spectral clustering API has changed. ``fit``now constructs an affinity matrix from data. To use a custom affinity matrix, set ``affinity=precomputed``.\n",
      "  warnings.warn(\n"
     ]
    }
   ],
   "source": [
    "clustering = SpectralClustering(n_clusters=3,\n",
    "        assign_labels='discretize',\n",
    "        random_state=0).fit(X)\n",
    "print(clustering.labels_)\n",
    "cat_array = group_classes(clustering.labels_)\n",
    "\n",
    "category_array = cat_array\n",
    "\n",
    "class_groups = group_classes_by_category(class_names, category_array)\n",
    "for category, attributes in class_groups.items():\n",
    "    print(f\"{category}: {attributes}\")\n"
   ]
  },
  {
   "cell_type": "code",
   "execution_count": 7,
   "metadata": {},
   "outputs": [
    {
     "name": "stdout",
     "output_type": "stream",
     "text": [
      "[2 1 0 1 3 1 1 2 2 1 3 1 2 3 3 3 2 3 0 0 2 0 2 1 1 0 3 1 3 3 2 0 2 1 0 1 0\n",
      " 1 2 1]\n",
      "Category_2: [0, 7, 8, 12, 16, 20, 22, 30, 32, 38]\n",
      "Category_1: [1, 3, 5, 6, 9, 11, 23, 24, 27, 33, 35, 37, 39]\n",
      "Category_0: [2, 18, 19, 21, 25, 31, 34, 36]\n",
      "Category_3: [4, 10, 13, 14, 15, 17, 26, 28, 29]\n",
      "Category_2: ['5_o_Clock_Shadow', 'Big_Nose', 'Black_Hair', 'Bushy_Eyebrows', 'Goatee', 'Male', 'Mustache', 'Sideburns', 'Straight_Hair', 'Wearing_Necktie']\n",
      "Category_1: ['Arched_Eyebrows', 'Bags_Under_Eyes', 'Bangs', 'Big_Lips', 'Blond_Hair', 'Brown_Hair', 'Narrow_Eyes', 'No_Beard', 'Pointy_Nose', 'Wavy_Hair', 'Wearing_Hat', 'Wearing_Necklace', 'Young']\n",
      "Category_0: ['Attractive', 'Heavy_Makeup', 'High_Cheekbones', 'Mouth_Slightly_Open', 'Oval_Face', 'Smiling', 'Wearing_Earrings', 'Wearing_Lipstick']\n",
      "Category_3: ['Bald', 'Blurry', 'Chubby', 'Double_Chin', 'Eyeglasses', 'Gray_Hair', 'Pale_Skin', 'Receding_Hairline', 'Rosy_Cheeks']\n"
     ]
    },
    {
     "name": "stderr",
     "output_type": "stream",
     "text": [
      "/home/mariammaa/anaconda3/envs/myenv/lib/python3.9/site-packages/sklearn/cluster/_spectral.py:589: UserWarning: The spectral clustering API has changed. ``fit``now constructs an affinity matrix from data. To use a custom affinity matrix, set ``affinity=precomputed``.\n",
      "  warnings.warn(\n"
     ]
    }
   ],
   "source": [
    "clustering = SpectralClustering(n_clusters=4,\n",
    "        assign_labels='discretize',\n",
    "        random_state=0).fit(X)\n",
    "print(clustering.labels_)\n",
    "cat_array = group_classes(clustering.labels_)\n",
    "\n",
    "category_array = cat_array\n",
    "\n",
    "class_groups = group_classes_by_category(class_names, category_array)\n",
    "for category, attributes in class_groups.items():\n",
    "    print(f\"{category}: {attributes}\")\n"
   ]
  },
  {
   "cell_type": "code",
   "execution_count": 8,
   "metadata": {},
   "outputs": [
    {
     "name": "stdout",
     "output_type": "stream",
     "text": [
      "[1 3 4 4 2 4 3 2 4 2 2 4 1 2 2 0 1 2 3 0 4 0 1 2 4 0 2 4 2 3 1 0 4 2 3 2 3\n",
      " 3 1 4]\n",
      "Category_1: [0, 12, 16, 22, 30, 38]\n",
      "Category_3: [1, 6, 18, 29, 34, 36, 37]\n",
      "Category_4: [2, 3, 5, 8, 11, 20, 24, 27, 32, 39]\n",
      "Category_2: [4, 7, 9, 10, 13, 14, 17, 23, 26, 28, 33, 35]\n",
      "Category_0: [15, 19, 21, 25, 31]\n",
      "Category_1: ['5_o_Clock_Shadow', 'Bushy_Eyebrows', 'Goatee', 'Mustache', 'Sideburns', 'Wearing_Necktie']\n",
      "Category_3: ['Arched_Eyebrows', 'Big_Lips', 'Heavy_Makeup', 'Rosy_Cheeks', 'Wearing_Earrings', 'Wearing_Lipstick', 'Wearing_Necklace']\n",
      "Category_4: ['Attractive', 'Bags_Under_Eyes', 'Bangs', 'Black_Hair', 'Brown_Hair', 'Male', 'No_Beard', 'Pointy_Nose', 'Straight_Hair', 'Young']\n",
      "Category_2: ['Bald', 'Big_Nose', 'Blond_Hair', 'Blurry', 'Chubby', 'Double_Chin', 'Gray_Hair', 'Narrow_Eyes', 'Pale_Skin', 'Receding_Hairline', 'Wavy_Hair', 'Wearing_Hat']\n",
      "Category_0: ['Eyeglasses', 'High_Cheekbones', 'Mouth_Slightly_Open', 'Oval_Face', 'Smiling']\n"
     ]
    },
    {
     "name": "stderr",
     "output_type": "stream",
     "text": [
      "/home/mariammaa/anaconda3/envs/myenv/lib/python3.9/site-packages/sklearn/cluster/_spectral.py:589: UserWarning: The spectral clustering API has changed. ``fit``now constructs an affinity matrix from data. To use a custom affinity matrix, set ``affinity=precomputed``.\n",
      "  warnings.warn(\n"
     ]
    }
   ],
   "source": [
    "clustering = SpectralClustering(n_clusters=5,\n",
    "        assign_labels='discretize',\n",
    "        random_state=0).fit(X)\n",
    "print(clustering.labels_)\n",
    "cat_array = group_classes(clustering.labels_)\n",
    "\n",
    "category_array = cat_array\n",
    "\n",
    "class_groups = group_classes_by_category(class_names, category_array)\n",
    "for category, attributes in class_groups.items():\n",
    "    print(f\"{category}: {attributes}\")\n"
   ]
  },
  {
   "cell_type": "code",
   "execution_count": 9,
   "metadata": {},
   "outputs": [
    {
     "name": "stdout",
     "output_type": "stream",
     "text": [
      "[1 3 4 5 5 2 5 5 4 2 5 2 1 5 5 0 1 2 3 0 4 0 1 5 4 0 2 4 5 0 1 0 4 5 3 2 3\n",
      " 3 1 4]\n",
      "Category_1: [0, 12, 16, 22, 30, 38]\n",
      "Category_3: [1, 18, 34, 36, 37]\n",
      "Category_4: [2, 8, 20, 24, 27, 32, 39]\n",
      "Category_5: [3, 4, 6, 7, 10, 13, 14, 23, 28, 33]\n",
      "Category_2: [5, 9, 11, 17, 26, 35]\n",
      "Category_0: [15, 19, 21, 25, 29, 31]\n",
      "Category_1: ['5_o_Clock_Shadow', 'Bushy_Eyebrows', 'Goatee', 'Mustache', 'Sideburns', 'Wearing_Necktie']\n",
      "Category_3: ['Arched_Eyebrows', 'Heavy_Makeup', 'Wearing_Earrings', 'Wearing_Lipstick', 'Wearing_Necklace']\n",
      "Category_4: ['Attractive', 'Black_Hair', 'Male', 'No_Beard', 'Pointy_Nose', 'Straight_Hair', 'Young']\n",
      "Category_5: ['Bags_Under_Eyes', 'Bald', 'Big_Lips', 'Big_Nose', 'Blurry', 'Chubby', 'Double_Chin', 'Narrow_Eyes', 'Receding_Hairline', 'Wavy_Hair']\n",
      "Category_2: ['Bangs', 'Blond_Hair', 'Brown_Hair', 'Gray_Hair', 'Pale_Skin', 'Wearing_Hat']\n",
      "Category_0: ['Eyeglasses', 'High_Cheekbones', 'Mouth_Slightly_Open', 'Oval_Face', 'Rosy_Cheeks', 'Smiling']\n"
     ]
    },
    {
     "name": "stderr",
     "output_type": "stream",
     "text": [
      "/home/mariammaa/anaconda3/envs/myenv/lib/python3.9/site-packages/sklearn/cluster/_spectral.py:589: UserWarning: The spectral clustering API has changed. ``fit``now constructs an affinity matrix from data. To use a custom affinity matrix, set ``affinity=precomputed``.\n",
      "  warnings.warn(\n"
     ]
    }
   ],
   "source": [
    "clustering = SpectralClustering(n_clusters=6,\n",
    "        assign_labels='discretize',\n",
    "        random_state=0).fit(X)\n",
    "print(clustering.labels_)\n",
    "cat_array = group_classes(clustering.labels_)\n",
    "\n",
    "category_array = cat_array\n",
    "\n",
    "class_groups = group_classes_by_category(class_names, category_array)\n",
    "for category, attributes in class_groups.items():\n",
    "    print(f\"{category}: {attributes}\")\n"
   ]
  },
  {
   "cell_type": "code",
   "execution_count": 10,
   "metadata": {},
   "outputs": [
    {
     "name": "stdout",
     "output_type": "stream",
     "text": [
      "[2 3 4 5 1 1 5 5 4 1 5 1 2 5 5 0 2 1 3 0 4 0 2 5 4 0 1 4 5 3 2 0 4 6 3 1 3\n",
      " 3 2 4]\n",
      "Category_2: [0, 12, 16, 22, 30, 38]\n",
      "Category_3: [1, 18, 29, 34, 36, 37]\n",
      "Category_4: [2, 8, 20, 24, 27, 32, 39]\n",
      "Category_5: [3, 6, 7, 10, 13, 14, 23, 28]\n",
      "Category_1: [4, 5, 9, 11, 17, 26, 35]\n",
      "Category_0: [15, 19, 21, 25, 31]\n",
      "Category_6: [33]\n",
      "Category_2: ['5_o_Clock_Shadow', 'Bushy_Eyebrows', 'Goatee', 'Mustache', 'Sideburns', 'Wearing_Necktie']\n",
      "Category_3: ['Arched_Eyebrows', 'Heavy_Makeup', 'Rosy_Cheeks', 'Wearing_Earrings', 'Wearing_Lipstick', 'Wearing_Necklace']\n",
      "Category_4: ['Attractive', 'Black_Hair', 'Male', 'No_Beard', 'Pointy_Nose', 'Straight_Hair', 'Young']\n",
      "Category_5: ['Bags_Under_Eyes', 'Big_Lips', 'Big_Nose', 'Blurry', 'Chubby', 'Double_Chin', 'Narrow_Eyes', 'Receding_Hairline']\n",
      "Category_1: ['Bald', 'Bangs', 'Blond_Hair', 'Brown_Hair', 'Gray_Hair', 'Pale_Skin', 'Wearing_Hat']\n",
      "Category_0: ['Eyeglasses', 'High_Cheekbones', 'Mouth_Slightly_Open', 'Oval_Face', 'Smiling']\n",
      "Category_6: ['Wavy_Hair']\n"
     ]
    },
    {
     "name": "stderr",
     "output_type": "stream",
     "text": [
      "/home/mariammaa/anaconda3/envs/myenv/lib/python3.9/site-packages/sklearn/cluster/_spectral.py:589: UserWarning: The spectral clustering API has changed. ``fit``now constructs an affinity matrix from data. To use a custom affinity matrix, set ``affinity=precomputed``.\n",
      "  warnings.warn(\n"
     ]
    }
   ],
   "source": [
    "clustering = SpectralClustering(n_clusters=7,\n",
    "        assign_labels='discretize',\n",
    "        random_state=0).fit(X)\n",
    "print(clustering.labels_)\n",
    "cat_array = group_classes(clustering.labels_)\n",
    "\n",
    "category_array = cat_array\n",
    "\n",
    "class_groups = group_classes_by_category(class_names, category_array)\n",
    "for category, attributes in class_groups.items():\n",
    "    print(f\"{category}: {attributes}\")\n"
   ]
  },
  {
   "cell_type": "code",
   "execution_count": 11,
   "metadata": {},
   "outputs": [
    {
     "name": "stdout",
     "output_type": "stream",
     "text": [
      "[3 4 0 1 7 5 4 1 1 2 6 2 3 6 6 6 3 7 4 0 1 0 3 6 1 0 2 1 7 4 3 0 2 5 4 5 4\n",
      " 4 3 1]\n",
      "Category_3: [0, 12, 16, 22, 30, 38]\n",
      "Category_4: [1, 6, 18, 29, 34, 36, 37]\n",
      "Category_0: [2, 19, 21, 25, 31]\n",
      "Category_1: [3, 7, 8, 20, 24, 27, 39]\n",
      "Category_7: [4, 17, 28]\n",
      "Category_5: [5, 33, 35]\n",
      "Category_2: [9, 11, 26, 32]\n",
      "Category_6: [10, 13, 14, 15, 23]\n",
      "Category_3: ['5_o_Clock_Shadow', 'Bushy_Eyebrows', 'Goatee', 'Mustache', 'Sideburns', 'Wearing_Necktie']\n",
      "Category_4: ['Arched_Eyebrows', 'Big_Lips', 'Heavy_Makeup', 'Rosy_Cheeks', 'Wearing_Earrings', 'Wearing_Lipstick', 'Wearing_Necklace']\n",
      "Category_0: ['Attractive', 'High_Cheekbones', 'Mouth_Slightly_Open', 'Oval_Face', 'Smiling']\n",
      "Category_1: ['Bags_Under_Eyes', 'Big_Nose', 'Black_Hair', 'Male', 'No_Beard', 'Pointy_Nose', 'Young']\n",
      "Category_7: ['Bald', 'Gray_Hair', 'Receding_Hairline']\n",
      "Category_5: ['Bangs', 'Wavy_Hair', 'Wearing_Hat']\n",
      "Category_2: ['Blond_Hair', 'Brown_Hair', 'Pale_Skin', 'Straight_Hair']\n",
      "Category_6: ['Blurry', 'Chubby', 'Double_Chin', 'Eyeglasses', 'Narrow_Eyes']\n"
     ]
    },
    {
     "name": "stderr",
     "output_type": "stream",
     "text": [
      "/home/mariammaa/anaconda3/envs/myenv/lib/python3.9/site-packages/sklearn/cluster/_spectral.py:589: UserWarning: The spectral clustering API has changed. ``fit``now constructs an affinity matrix from data. To use a custom affinity matrix, set ``affinity=precomputed``.\n",
      "  warnings.warn(\n"
     ]
    }
   ],
   "source": [
    "clustering = SpectralClustering(n_clusters=8,\n",
    "        assign_labels='discretize',\n",
    "        random_state=0).fit(X)\n",
    "print(clustering.labels_)\n",
    "cat_array = group_classes(clustering.labels_)\n",
    "\n",
    "category_array = cat_array\n",
    "\n",
    "class_groups = group_classes_by_category(class_names, category_array)\n",
    "for category, attributes in class_groups.items():\n",
    "    print(f\"{category}: {attributes}\")\n"
   ]
  },
  {
   "cell_type": "code",
   "execution_count": null,
   "metadata": {},
   "outputs": [],
   "source": []
  }
 ],
 "metadata": {
  "kernelspec": {
   "display_name": "myenv",
   "language": "python",
   "name": "python3"
  },
  "language_info": {
   "codemirror_mode": {
    "name": "ipython",
    "version": 3
   },
   "file_extension": ".py",
   "mimetype": "text/x-python",
   "name": "python",
   "nbconvert_exporter": "python",
   "pygments_lexer": "ipython3",
   "version": "3.9.7"
  }
 },
 "nbformat": 4,
 "nbformat_minor": 2
}
