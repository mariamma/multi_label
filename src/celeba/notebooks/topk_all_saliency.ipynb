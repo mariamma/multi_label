{
 "cells": [
  {
   "cell_type": "code",
   "execution_count": 1,
   "metadata": {},
   "outputs": [],
   "source": [
    "from sklearn.cluster import SpectralClustering\n",
    "import numpy as np\n",
    "import os"
   ]
  },
  {
   "cell_type": "code",
   "execution_count": 2,
   "metadata": {},
   "outputs": [],
   "source": [
    "class_names = ['5_o_Clock_Shadow', 'Arched_Eyebrows', 'Attractive', 'Bags_Under_Eyes', 'Bald', 'Bangs',\n",
    "                                'Big_Lips', 'Big_Nose', 'Black_Hair', 'Blond_Hair', 'Blurry', 'Brown_Hair', 'Bushy_Eyebrows',      \n",
    "                                'Chubby', 'Double_Chin', 'Eyeglasses', 'Goatee', 'Gray_Hair', 'Heavy_Makeup', 'High_Cheekbones',       \n",
    "                                'Male', 'Mouth_Slightly_Open', 'Mustache', 'Narrow_Eyes', 'No_Beard', 'Oval_Face', 'Pale_Skin', \n",
    "                                'Pointy_Nose', 'Receding_Hairline', 'Rosy_Cheeks', 'Sideburns', 'Smiling', 'Straight_Hair', 'Wavy_Hair', \n",
    "                                'Wearing_Earrings', 'Wearing_Hat', 'Wearing_Lipstick', 'Wearing_Necklace', 'Wearing_Necktie', 'Young']\n",
    "\n",
    "from collections import defaultdict\n",
    "\n",
    "def group_classes(category_array):\n",
    "    \"\"\"\n",
    "    Groups class names based on their corresponding category values in the category_array.\n",
    "    \n",
    "    :param class_names: List of class names\n",
    "    :param category_array: Array of category values\n",
    "    :return: Dictionary with category labels as keys and corresponding class names as values\n",
    "    \"\"\"\n",
    "    if len(class_names) != len(category_array):\n",
    "        raise ValueError(\"class_names and category_array must have the same length\")\n",
    "    \n",
    "    groups = defaultdict(list)\n",
    "    \n",
    "    for idx, category in enumerate(category_array):\n",
    "        groups[f\"Category_{category}\"].append(idx)\n",
    "    \n",
    "    for category, attributes in groups.items():\n",
    "        print(f\"{category}: {attributes}\")\n",
    "\n",
    "    # return dict(groups)\n",
    "           "
   ]
  },
  {
   "cell_type": "code",
   "execution_count": 3,
   "metadata": {},
   "outputs": [],
   "source": [
    "dirname = \"/data/mariammaa/celeba/results/\"\n",
    "filename = \"rho_score_full_resnext-lr:0.01-wd:0.0_fanciful-smoke-3.csv\"\n",
    "X = np.genfromtxt(os.path.join(dirname, filename), delimiter=',')\n",
    "\n"
   ]
  },
  {
   "cell_type": "code",
   "execution_count": 4,
   "metadata": {},
   "outputs": [
    {
     "name": "stderr",
     "output_type": "stream",
     "text": [
      "/home/mariammaa/anaconda3/envs/myenv/lib/python3.9/site-packages/sklearn/cluster/_spectral.py:589: UserWarning: The spectral clustering API has changed. ``fit``now constructs an affinity matrix from data. To use a custom affinity matrix, set ``affinity=precomputed``.\n",
      "  warnings.warn(\n"
     ]
    },
    {
     "name": "stdout",
     "output_type": "stream",
     "text": [
      "[1 0 0 1 1 0 1 1 0 1 1 0 1 1 1 1 1 1 0 0 0 0 1 1 0 0 1 0 1 1 1 0 0 0 0 1 0\n",
      " 1 1 0]\n",
      "Category_1: [0, 3, 4, 6, 7, 9, 10, 12, 13, 14, 15, 16, 17, 22, 23, 26, 28, 29, 30, 35, 37, 38]\n",
      "Category_0: [1, 2, 5, 8, 11, 18, 19, 20, 21, 24, 25, 27, 31, 32, 33, 34, 36, 39]\n"
     ]
    }
   ],
   "source": [
    "clustering = SpectralClustering(n_clusters=2,\n",
    "        assign_labels='discretize',\n",
    "        random_state=0).fit(X)\n",
    "print(clustering.labels_)\n",
    "group_classes(clustering.labels_)"
   ]
  },
  {
   "cell_type": "code",
   "execution_count": 5,
   "metadata": {},
   "outputs": [
    {
     "name": "stdout",
     "output_type": "stream",
     "text": [
      "Category_2: [0, 3, 7, 12, 16, 20, 22, 30, 38]\n",
      "Category_0: [1, 2, 5, 8, 18, 19, 21, 24, 25, 27, 31, 32, 33, 36, 39]\n",
      "Category_1: [4, 6, 9, 10, 11, 13, 14, 15, 17, 23, 26, 28, 29, 34, 35, 37]\n"
     ]
    },
    {
     "name": "stderr",
     "output_type": "stream",
     "text": [
      "/home/mariammaa/anaconda3/envs/myenv/lib/python3.9/site-packages/sklearn/cluster/_spectral.py:589: UserWarning: The spectral clustering API has changed. ``fit``now constructs an affinity matrix from data. To use a custom affinity matrix, set ``affinity=precomputed``.\n",
      "  warnings.warn(\n"
     ]
    }
   ],
   "source": [
    "clustering = SpectralClustering(n_clusters=3,\n",
    "        assign_labels='discretize',\n",
    "        random_state=0).fit(X)\n",
    "clustering.labels_\n",
    "group_classes(clustering.labels_)"
   ]
  },
  {
   "cell_type": "code",
   "execution_count": 7,
   "metadata": {},
   "outputs": [
    {
     "name": "stdout",
     "output_type": "stream",
     "text": [
      "Category_3: [0, 16, 20, 22, 30, 38]\n",
      "Category_2: [1, 3, 4, 5, 6, 7, 9, 23, 24, 28, 33, 35]\n",
      "Category_0: [2, 8, 12, 18, 19, 21, 25, 27, 31, 32, 34, 36, 39]\n",
      "Category_1: [10, 11, 13, 14, 15, 17, 26, 29, 37]\n"
     ]
    },
    {
     "name": "stderr",
     "output_type": "stream",
     "text": [
      "/home/mariammaa/anaconda3/envs/myenv/lib/python3.9/site-packages/sklearn/cluster/_spectral.py:589: UserWarning: The spectral clustering API has changed. ``fit``now constructs an affinity matrix from data. To use a custom affinity matrix, set ``affinity=precomputed``.\n",
      "  warnings.warn(\n"
     ]
    }
   ],
   "source": [
    "clustering = SpectralClustering(n_clusters=4,\n",
    "        assign_labels='discretize',\n",
    "        random_state=0).fit(X)\n",
    "clustering.labels_\n",
    "group_classes(clustering.labels_)"
   ]
  },
  {
   "cell_type": "code",
   "execution_count": 8,
   "metadata": {},
   "outputs": [
    {
     "name": "stdout",
     "output_type": "stream",
     "text": [
      "[1 3 4 2 2 4 2 2 0 3 3 3 1 2 2 0 1 2 3 0 1 0 1 2 4 0 3 3 2 3 1 0 1 2 3 2 3\n",
      " 3 1 4]\n",
      "Category_1: [0, 12, 16, 20, 22, 30, 32, 38]\n",
      "Category_3: [1, 9, 10, 11, 18, 26, 27, 29, 34, 36, 37]\n",
      "Category_4: [2, 5, 24, 39]\n",
      "Category_2: [3, 4, 6, 7, 13, 14, 17, 23, 28, 33, 35]\n",
      "Category_0: [8, 15, 19, 21, 25, 31]\n"
     ]
    },
    {
     "name": "stderr",
     "output_type": "stream",
     "text": [
      "/home/mariammaa/anaconda3/envs/myenv/lib/python3.9/site-packages/sklearn/cluster/_spectral.py:589: UserWarning: The spectral clustering API has changed. ``fit``now constructs an affinity matrix from data. To use a custom affinity matrix, set ``affinity=precomputed``.\n",
      "  warnings.warn(\n"
     ]
    }
   ],
   "source": [
    "clustering = SpectralClustering(n_clusters=5,\n",
    "        assign_labels='discretize',\n",
    "        random_state=0).fit(X)\n",
    "# clustering.labels_\n",
    "print(clustering.labels_)\n",
    "group_classes(clustering.labels_)"
   ]
  },
  {
   "cell_type": "code",
   "execution_count": 9,
   "metadata": {},
   "outputs": [
    {
     "name": "stdout",
     "output_type": "stream",
     "text": [
      "[2 4 5 1 1 5 4 1 0 3 3 3 2 1 1 0 2 3 4 0 2 0 2 4 5 0 3 5 1 3 2 0 5 1 4 1 4\n",
      " 4 2 5]\n",
      "Category_2: [0, 12, 16, 20, 22, 30, 38]\n",
      "Category_4: [1, 6, 18, 23, 34, 36, 37]\n",
      "Category_5: [2, 5, 24, 27, 32, 39]\n",
      "Category_1: [3, 4, 7, 13, 14, 28, 33, 35]\n",
      "Category_0: [8, 15, 19, 21, 25, 31]\n",
      "Category_3: [9, 10, 11, 17, 26, 29]\n"
     ]
    },
    {
     "name": "stderr",
     "output_type": "stream",
     "text": [
      "/home/mariammaa/anaconda3/envs/myenv/lib/python3.9/site-packages/sklearn/cluster/_spectral.py:589: UserWarning: The spectral clustering API has changed. ``fit``now constructs an affinity matrix from data. To use a custom affinity matrix, set ``affinity=precomputed``.\n",
      "  warnings.warn(\n"
     ]
    }
   ],
   "source": [
    "clustering = SpectralClustering(n_clusters=6,\n",
    "        assign_labels='discretize',\n",
    "        random_state=0).fit(X)\n",
    "# clustering.labels_\n",
    "print(clustering.labels_)\n",
    "group_classes(clustering.labels_)"
   ]
  },
  {
   "cell_type": "code",
   "execution_count": 14,
   "metadata": {},
   "outputs": [
    {
     "name": "stdout",
     "output_type": "stream",
     "text": [
      "[2 4 6 5 3 3 4 5 6 3 1 1 2 5 5 0 2 3 4 0 6 0 2 5 6 0 1 1 3 0 2 0 1 3 4 3 4\n",
      " 4 2 6]\n",
      "Category_2: [0, 12, 16, 22, 30, 38]\n",
      "Category_4: [1, 6, 18, 34, 36, 37]\n",
      "Category_6: [2, 8, 20, 24, 39]\n",
      "Category_5: [3, 7, 13, 14, 23]\n",
      "Category_3: [4, 5, 9, 17, 28, 33, 35]\n",
      "Category_1: [10, 11, 26, 27, 32]\n",
      "Category_0: [15, 19, 21, 25, 29, 31]\n"
     ]
    },
    {
     "name": "stderr",
     "output_type": "stream",
     "text": [
      "/home/mariammaa/anaconda3/envs/myenv/lib/python3.9/site-packages/sklearn/cluster/_spectral.py:589: UserWarning: The spectral clustering API has changed. ``fit``now constructs an affinity matrix from data. To use a custom affinity matrix, set ``affinity=precomputed``.\n",
      "  warnings.warn(\n"
     ]
    }
   ],
   "source": [
    "clustering = SpectralClustering(n_clusters=7,\n",
    "        assign_labels='discretize',\n",
    "        random_state=0).fit(X)\n",
    "print(clustering.labels_)\n",
    "group_classes(clustering.labels_)"
   ]
  },
  {
   "cell_type": "code",
   "execution_count": 17,
   "metadata": {},
   "outputs": [
    {
     "name": "stdout",
     "output_type": "stream",
     "text": [
      "[1 5 7 6 2 2 3 6 7 2 3 3 3 6 6 0 1 2 5 0 7 0 1 3 7 0 3 3 2 3 1 0 4 0 5 2 5\n",
      " 3 1 7]\n",
      "Category_1: [0, 16, 22, 30, 38]\n",
      "Category_5: [1, 18, 34, 36]\n",
      "Category_7: [2, 8, 20, 24, 39]\n",
      "Category_6: [3, 7, 13, 14]\n",
      "Category_2: [4, 5, 9, 17, 28, 35]\n",
      "Category_3: [6, 10, 11, 12, 23, 26, 27, 29, 37]\n",
      "Category_0: [15, 19, 21, 25, 31, 33]\n",
      "Category_4: [32]\n"
     ]
    },
    {
     "name": "stderr",
     "output_type": "stream",
     "text": [
      "/home/mariammaa/anaconda3/envs/myenv/lib/python3.9/site-packages/sklearn/cluster/_spectral.py:589: UserWarning: The spectral clustering API has changed. ``fit``now constructs an affinity matrix from data. To use a custom affinity matrix, set ``affinity=precomputed``.\n",
      "  warnings.warn(\n"
     ]
    }
   ],
   "source": [
    "clustering = SpectralClustering(n_clusters=8,\n",
    "        assign_labels='discretize',\n",
    "        random_state=0).fit(X)\n",
    "print(clustering.labels_)\n",
    "group_classes(clustering.labels_)"
   ]
  },
  {
   "cell_type": "code",
   "execution_count": 18,
   "metadata": {},
   "outputs": [
    {
     "name": "stdout",
     "output_type": "stream",
     "text": [
      "[2 3 0 3 7 7 3 8 4 1 4 1 2 4 4 4 2 1 6 0 5 0 2 4 5 0 1 3 7 0 2 0 5 7 6 7 6\n",
      " 3 8 5]\n",
      "Category_2: [0, 12, 16, 22, 30]\n",
      "Category_3: [1, 3, 6, 27, 37]\n",
      "Category_0: [2, 19, 21, 25, 29, 31]\n",
      "Category_7: [4, 5, 28, 33, 35]\n",
      "Category_8: [7, 38]\n",
      "Category_4: [8, 10, 13, 14, 15, 23]\n",
      "Category_1: [9, 11, 17, 26]\n",
      "Category_6: [18, 34, 36]\n",
      "Category_5: [20, 24, 32, 39]\n"
     ]
    },
    {
     "name": "stderr",
     "output_type": "stream",
     "text": [
      "/home/mariammaa/anaconda3/envs/myenv/lib/python3.9/site-packages/sklearn/cluster/_spectral.py:589: UserWarning: The spectral clustering API has changed. ``fit``now constructs an affinity matrix from data. To use a custom affinity matrix, set ``affinity=precomputed``.\n",
      "  warnings.warn(\n"
     ]
    }
   ],
   "source": [
    "clustering = SpectralClustering(n_clusters=9,\n",
    "        assign_labels='discretize',\n",
    "        random_state=0).fit(X)\n",
    "print(clustering.labels_)\n",
    "group_classes(clustering.labels_)"
   ]
  },
  {
   "cell_type": "code",
   "execution_count": 20,
   "metadata": {},
   "outputs": [
    {
     "name": "stdout",
     "output_type": "stream",
     "text": [
      "[1 3 7 3 9 5 3 3 4 5 2 7 7 2 0 2 1 5 8 0 4 0 1 2 4 8 5 7 9 0 1 0 4 6 8 5 8\n",
      " 3 1 4]\n",
      "Category_1: [0, 16, 22, 30, 38]\n",
      "Category_3: [1, 3, 6, 7, 37]\n",
      "Category_7: [2, 11, 12, 27]\n",
      "Category_9: [4, 28]\n",
      "Category_5: [5, 9, 17, 26, 35]\n",
      "Category_4: [8, 20, 24, 32, 39]\n",
      "Category_2: [10, 13, 15, 23]\n",
      "Category_0: [14, 19, 21, 29, 31]\n",
      "Category_8: [18, 25, 34, 36]\n",
      "Category_6: [33]\n"
     ]
    },
    {
     "name": "stderr",
     "output_type": "stream",
     "text": [
      "/home/mariammaa/anaconda3/envs/myenv/lib/python3.9/site-packages/sklearn/cluster/_spectral.py:589: UserWarning: The spectral clustering API has changed. ``fit``now constructs an affinity matrix from data. To use a custom affinity matrix, set ``affinity=precomputed``.\n",
      "  warnings.warn(\n"
     ]
    }
   ],
   "source": [
    "clustering = SpectralClustering(n_clusters=10,\n",
    "        assign_labels='discretize',\n",
    "        random_state=0).fit(X)\n",
    "print(clustering.labels_)\n",
    "group_classes(clustering.labels_)"
   ]
  },
  {
   "cell_type": "code",
   "execution_count": null,
   "metadata": {},
   "outputs": [],
   "source": []
  },
  {
   "cell_type": "code",
   "execution_count": 32,
   "metadata": {},
   "outputs": [
    {
     "name": "stdout",
     "output_type": "stream",
     "text": [
      "Category_2: ['5_o_Clock_Shadow', 'Bushy_Eyebrows', 'Goatee', 'Mustache', 'Sideburns', 'Wearing_Necktie']\n",
      "Category_4: ['Arched_Eyebrows', 'Big_Lips', 'Heavy_Makeup', 'Wearing_Earrings', 'Wearing_Lipstick', 'Wearing_Necklace']\n",
      "Category_6: ['Attractive', 'Black_Hair', 'Male', 'No_Beard', 'Young']\n",
      "Category_5: ['Bags_Under_Eyes', 'Big_Nose', 'Chubby', 'Double_Chin', 'Narrow_Eyes']\n",
      "Category_3: ['Bald', 'Bangs', 'Blond_Hair', 'Gray_Hair', 'Receding_Hairline', 'Wavy_Hair', 'Wearing_Hat']\n",
      "Category_1: ['Blurry', 'Brown_Hair', 'Pale_Skin', 'Pointy_Nose', 'Straight_Hair']\n",
      "Category_0: ['Eyeglasses', 'High_Cheekbones', 'Mouth_Slightly_Open', 'Oval_Face', 'Rosy_Cheeks', 'Smiling']\n"
     ]
    }
   ],
   "source": [
    "from collections import defaultdict\n",
    "\n",
    "def group_classes_by_category(class_names, category_array):\n",
    "    \"\"\"\n",
    "    Groups class names based on their corresponding category values in the category_array.\n",
    "    \n",
    "    :param class_names: List of class names\n",
    "    :param category_array: Array of category values\n",
    "    :return: Dictionary with category labels as keys and corresponding class names as values\n",
    "    \"\"\"\n",
    "    if len(class_names) != len(category_array):\n",
    "        raise ValueError(\"class_names and category_array must have the same length\")\n",
    "    \n",
    "    groups = defaultdict(list)\n",
    "    \n",
    "    for name, category in zip(class_names, category_array):\n",
    "        groups[f\"Category_{category}\"].append(name)\n",
    "    \n",
    "    return dict(groups)\n",
    "\n",
    "# Example usage\n",
    "class_names = ['5_o_Clock_Shadow', 'Arched_Eyebrows', 'Attractive', 'Bags_Under_Eyes', 'Bald', 'Bangs',\n",
    "               'Big_Lips', 'Big_Nose', 'Black_Hair', 'Blond_Hair', 'Blurry', 'Brown_Hair', 'Bushy_Eyebrows',\n",
    "               'Chubby', 'Double_Chin', 'Eyeglasses', 'Goatee', 'Gray_Hair', 'Heavy_Makeup', 'High_Cheekbones',\n",
    "               'Male', 'Mouth_Slightly_Open', 'Mustache', 'Narrow_Eyes', 'No_Beard', 'Oval_Face', 'Pale_Skin',\n",
    "               'Pointy_Nose', 'Receding_Hairline', 'Rosy_Cheeks', 'Sideburns', 'Smiling', 'Straight_Hair', 'Wavy_Hair',\n",
    "               'Wearing_Earrings', 'Wearing_Hat', 'Wearing_Lipstick', 'Wearing_Necklace', 'Wearing_Necktie', 'Young']\n",
    "\n",
    "category_array = [2, 4, 6, 5, 3, 3, 4, 5, 6, 3, 1, 1, 2, 5, 5, 0, 2, 3, 4, 0, 6, 0, 2, 5, 6, \n",
    "                  0, 1, 1, 3, 0, 2, 0, 1, 3, 4, 3, 4, 4, 2, 6]\n",
    "\n",
    "class_groups = group_classes_by_category(class_names, category_array)\n",
    "for category, attributes in class_groups.items():\n",
    "    print(f\"{category}: {attributes}\")\n"
   ]
  },
  {
   "cell_type": "code",
   "execution_count": 34,
   "metadata": {},
   "outputs": [
    {
     "name": "stdout",
     "output_type": "stream",
     "text": [
      "Category_1: ['5_o_Clock_Shadow', 'Bags_Under_Eyes', 'Bald', 'Big_Lips', 'Big_Nose', 'Blond_Hair', 'Blurry', 'Bushy_Eyebrows', 'Chubby', 'Double_Chin', 'Eyeglasses', 'Goatee', 'Gray_Hair', 'Mustache', 'Narrow_Eyes', 'Pale_Skin', 'Receding_Hairline', 'Rosy_Cheeks', 'Sideburns', 'Wearing_Hat', 'Wearing_Necklace', 'Wearing_Necktie']\n",
      "Category_0: ['Arched_Eyebrows', 'Attractive', 'Bangs', 'Black_Hair', 'Brown_Hair', 'Heavy_Makeup', 'High_Cheekbones', 'Male', 'Mouth_Slightly_Open', 'No_Beard', 'Oval_Face', 'Pointy_Nose', 'Smiling', 'Straight_Hair', 'Wavy_Hair', 'Wearing_Earrings', 'Wearing_Lipstick', 'Young']\n"
     ]
    }
   ],
   "source": [
    "category_array = [1,0,0,1,1,0,1,1,0,1,1,0,1,1,1,1,1,1,0,0,0,0,1,1,0,0,1,0,1,1,1,0,0,0,0,1,0\n",
    ",1,1,0]\n",
    "\n",
    "class_groups = group_classes_by_category(class_names, category_array)\n",
    "for category, attributes in class_groups.items():\n",
    "    print(f\"{category}: {attributes}\")\n"
   ]
  },
  {
   "cell_type": "code",
   "execution_count": 19,
   "metadata": {},
   "outputs": [
    {
     "name": "stdout",
     "output_type": "stream",
     "text": [
      "Category_2: ['5_o_Clock_Shadow', 'Bushy_Eyebrows', 'Goatee', 'Mustache', 'Sideburns']\n",
      "Category_3: ['Arched_Eyebrows', 'Bags_Under_Eyes', 'Big_Lips', 'Pointy_Nose', 'Wearing_Necklace']\n",
      "Category_0: ['Attractive', 'High_Cheekbones', 'Mouth_Slightly_Open', 'Oval_Face', 'Rosy_Cheeks', 'Smiling']\n",
      "Category_7: ['Bald', 'Bangs', 'Receding_Hairline', 'Wavy_Hair', 'Wearing_Hat']\n",
      "Category_8: ['Big_Nose', 'Wearing_Necktie']\n",
      "Category_4: ['Black_Hair', 'Blurry', 'Chubby', 'Double_Chin', 'Eyeglasses', 'Narrow_Eyes']\n",
      "Category_1: ['Blond_Hair', 'Brown_Hair', 'Gray_Hair', 'Pale_Skin']\n",
      "Category_6: ['Heavy_Makeup', 'Wearing_Earrings', 'Wearing_Lipstick']\n",
      "Category_5: ['Male', 'No_Beard', 'Straight_Hair', 'Young']\n"
     ]
    }
   ],
   "source": [
    "category_array = [2,3,0,3,7,7,3,8,4,1,4,1,2,4,4,4,2,1,6,0,5,0,2,4,5,0,1,3,7,0,2,0,5,7,6,7,6\n",
    ",3,8,5]\n",
    "\n",
    "class_groups = group_classes_by_category(class_names, category_array)\n",
    "for category, attributes in class_groups.items():\n",
    "    print(f\"{category}: {attributes}\")\n"
   ]
  },
  {
   "cell_type": "code",
   "execution_count": 21,
   "metadata": {},
   "outputs": [
    {
     "name": "stdout",
     "output_type": "stream",
     "text": [
      "Category_1: ['5_o_Clock_Shadow', 'Goatee', 'Mustache', 'Sideburns', 'Wearing_Necktie']\n",
      "Category_3: ['Arched_Eyebrows', 'Bags_Under_Eyes', 'Big_Lips', 'Big_Nose', 'Wearing_Necklace']\n",
      "Category_7: ['Attractive', 'Brown_Hair', 'Bushy_Eyebrows', 'Pointy_Nose']\n",
      "Category_9: ['Bald', 'Receding_Hairline']\n",
      "Category_5: ['Bangs', 'Blond_Hair', 'Gray_Hair', 'Pale_Skin', 'Wearing_Hat']\n",
      "Category_4: ['Black_Hair', 'Male', 'No_Beard', 'Straight_Hair', 'Young']\n",
      "Category_2: ['Blurry', 'Chubby', 'Eyeglasses', 'Narrow_Eyes']\n",
      "Category_0: ['Double_Chin', 'High_Cheekbones', 'Mouth_Slightly_Open', 'Rosy_Cheeks', 'Smiling']\n",
      "Category_8: ['Heavy_Makeup', 'Oval_Face', 'Wearing_Earrings', 'Wearing_Lipstick']\n",
      "Category_6: ['Wavy_Hair']\n"
     ]
    }
   ],
   "source": [
    "\n",
    "category_array = [1,3,7,3,9,5,3,3,4,5,2,7,7,2,0,2,1,5,8,0,4,0,1,2,4,8,5,7,9,0,1,0,4,6,8,5,8\n",
    ",3,1,4]\n",
    "\n",
    "class_groups = group_classes_by_category(class_names, category_array)\n",
    "for category, attributes in class_groups.items():\n",
    "    print(f\"{category}: {attributes}\")\n"
   ]
  },
  {
   "cell_type": "code",
   "execution_count": null,
   "metadata": {},
   "outputs": [],
   "source": []
  },
  {
   "cell_type": "code",
   "execution_count": 1,
   "metadata": {},
   "outputs": [],
   "source": [
    "result_saliency_file_list = [\n",
    "'vulnerability__cluster2-0_3_4_6_7_9_10_12_13_14_15_16_17_22_23_26_28_29_30_35_37_38resnext-lr:0.01-wd:0.0_silver-glade-40.csv',\n",
    "'vulnerability__cluster2-1_2_5_8_11_18_19_20_21_24_25_27_31_32_33_34_36_39resnext-lr:0.01-wd:0.0_lilac-elevator-41.csv',\n",
    "'vulnerability__cluster3-0_3_7_12_16_20_22_30_38resnext-lr:0.01-wd:0.0_super-aardvark-42.csv',\n",
    "'vulnerability__cluster3-1_2_5_8_18_19_21_24_25_27_31_32_33_36_39resnext-lr:0.01-wd:0.0_dutiful-cherry-43.csv',\n",
    "'vulnerability__cluster3-4_6_9_10_11_13_14_15_17_23_26_28_29_34_35_37resnext-lr:0.01-wd:0.0_dandy-glade-44.csv',\n",
    "'vulnerability__cluster4-0_16_20_22_30_38resnext-lr:0.01-wd:0.0_lemon-thunder-45.csv',\n",
    "'vulnerability__cluster4-10_11_13_14_15_17_26_29_37resnext-lr:0.01-wd:0.0_neat-lake-48.csv',\n",
    "'vulnerability__cluster4-1_3_4_5_6_7_9_23_24_28_33_35resnext-lr:0.01-wd:0.0_colorful-dew-46.csv',\n",
    "'vulnerability__cluster4-2_8_12_18_19_21_25_27_31_32_34_36_39resnext-lr:0.01-wd:0.0_fanciful-pond-47.csv',\n",
    "'vulnerability__cluster5-0_12_16_20_22_30_32_38resnext-lr:0.01-wd:0.0_neat-sun-49.csv',\n",
    "'vulnerability__cluster5-2_5_24_39resnext-lr:0.01-wd:0.0_grateful-cherry-51.csv',\n",
    "'vulnerability__cluster5-3_4_6_7_13_14_17_23_28_33_35resnext-lr:0.01-wd:0.0_scarlet-snow-52.csv',\n",
    "'vulnerability__cluster5-8_15_19_21_25_31resnext-lr:0.01-wd:0.0_golden-wind-53.csv',\n",
    "'vulnerability__cluster6-0_12_16_20_22_30_38resnext-lr:0.01-wd:0.0_fanciful-night-54.csv',\n",
    "'vulnerability__cluster6-1_6_18_23_34_36_37resnext-lr:0.01-wd:0.0_astral-morning-55.csv',\n",
    "'vulnerability__cluster6-3_4_7_13_14_28_33_35resnext-lr:0.01-wd:0.0_daily-fire-57.csv',\n",
    "'vulnerability__cluster6-8_15_19_21_25_31resnext-lr:0.01-wd:0.0_colorful-sky-58.csv',\n",
    "'vulnerability__cluster6-9_10_11_17_26_29resnext-lr:0.01-wd:0.0_silver-gorge-59.csv',\n",
    "'vulnerability__cluster7-0_12_16_22_30_38resnext-lr:0.01-wd:0.0_major-disco-60.csv',\n",
    "'vulnerability__cluster7-10_11_26_27_32resnext-lr:0.01-wd:0.0_zesty-spaceship-65.csv',\n",
    "'vulnerability__cluster7-15_19_21_25_29_31resnext-lr:0.01-wd:0.0_prime-bird-66.csv',\n",
    "'vulnerability__cluster7-1_6_18_34_36_37resnext-lr:0.01-wd:0.0_dark-salad-61.csv',\n",
    "'vulnerability__cluster7-2_8_20_24_39resnext-lr:0.01-wd:0.0_likely-energy-62.csv',\n",
    "'vulnerability__cluster7-3_7_13_14_23resnext-lr:0.01-wd:0.0_whole-resonance-63.csv',\n",
    "'vulnerability__cluster7-4_5_9_17_28_33_35resnext-lr:0.01-wd:0.0_lyric-bee-64.csv',\n",
    "'vulnerability__cluster8-0_16_22_30_38resnext-lr:0.01-wd:0.0_driven-grass-67.csv',\n",
    "'vulnerability__cluster8-1_18_34_36resnext-lr:0.01-wd:0.0_distinctive-lion-68.csv',\n",
    "'vulnerability__cluster8-15_19_21_25_31_33resnext-lr:0.01-wd:0.0_lucky-eon-73.csv',\n",
    "'vulnerability__cluster8-2_8_20_24_39resnext-lr:0.01-wd:0.0_copper-frost-69.csv',\n",
    "'vulnerability__cluster8-3_7_13_14resnext-lr:0.01-wd:0.0_young-dawn-70.csv',\n",
    "'vulnerability__cluster8-6_10_11_12_23_26_27_29_37resnext-lr:0.01-wd:0.0_azure-bee-72.csv'\n",
    "]"
   ]
  },
  {
   "cell_type": "code",
   "execution_count": 14,
   "metadata": {},
   "outputs": [],
   "source": [
    "import os\n",
    "import pandas as pd\n",
    "import matplotlib.pyplot as plt\n",
    "import numpy as np\n",
    "\n",
    "def get_group_acscore(res_dirname, result_file_list):\n",
    "    \n",
    "    res_list = [0]* len(result_file_list)\n",
    "    index = 0\n",
    "    for x in result_file_list:\n",
    "        print(x)\n",
    "        filename = os.path.join(res_dirname, x)\n",
    "        df = pd.read_csv(filename, header=None)\n",
    "        df.replace([np.inf, -np.inf], np.nan, inplace=True)\n",
    "        print(df[0].mean())\n",
    "        res_list[index] = df[0].mean(skipna=True)\n",
    "        index += 1\n",
    "    return res_list    "
   ]
  },
  {
   "cell_type": "code",
   "execution_count": 3,
   "metadata": {},
   "outputs": [
    {
     "name": "stdout",
     "output_type": "stream",
     "text": [
      "vulnerability__cluster2-0_3_4_6_7_9_10_12_13_14_15_16_17_22_23_26_28_29_30_35_37_38resnext-lr:0.01-wd:0.0_silver-glade-40.csv\n",
      "0.6731901304288344\n",
      "vulnerability__cluster2-1_2_5_8_11_18_19_20_21_24_25_27_31_32_33_34_36_39resnext-lr:0.01-wd:0.0_lilac-elevator-41.csv\n",
      "0.676901595460044\n",
      "vulnerability__cluster3-0_3_7_12_16_20_22_30_38resnext-lr:0.01-wd:0.0_super-aardvark-42.csv\n",
      "0.5741159386105008\n",
      "vulnerability__cluster3-1_2_5_8_18_19_21_24_25_27_31_32_33_36_39resnext-lr:0.01-wd:0.0_dutiful-cherry-43.csv\n",
      "0.6345614353815715\n",
      "vulnerability__cluster3-4_6_9_10_11_13_14_15_17_23_26_28_29_34_35_37resnext-lr:0.01-wd:0.0_dandy-glade-44.csv\n",
      "0.6422603316605091\n",
      "vulnerability__cluster4-0_16_20_22_30_38resnext-lr:0.01-wd:0.0_lemon-thunder-45.csv\n",
      "0.5704611043135325\n",
      "vulnerability__cluster4-10_11_13_14_15_17_26_29_37resnext-lr:0.01-wd:0.0_neat-lake-48.csv\n",
      "0.5833577579922147\n",
      "vulnerability__cluster4-1_3_4_5_6_7_9_23_24_28_33_35resnext-lr:0.01-wd:0.0_colorful-dew-46.csv\n",
      "0.6758340199788412\n",
      "vulnerability__cluster4-2_8_12_18_19_21_25_27_31_32_34_36_39resnext-lr:0.01-wd:0.0_fanciful-pond-47.csv\n",
      "0.6233698863249558\n",
      "vulnerability__cluster5-0_12_16_20_22_30_32_38resnext-lr:0.01-wd:0.0_neat-sun-49.csv\n",
      "0.5606516748666763\n",
      "vulnerability__cluster5-2_5_24_39resnext-lr:0.01-wd:0.0_grateful-cherry-51.csv\n",
      "0.5860814303159714\n",
      "vulnerability__cluster5-3_4_6_7_13_14_17_23_28_33_35resnext-lr:0.01-wd:0.0_scarlet-snow-52.csv\n",
      "0.6238512071696195\n",
      "vulnerability__cluster5-8_15_19_21_25_31resnext-lr:0.01-wd:0.0_golden-wind-53.csv\n",
      "0.5499337315559387\n",
      "vulnerability__cluster6-0_12_16_20_22_30_38resnext-lr:0.01-wd:0.0_fanciful-night-54.csv\n",
      "0.5327950460570199\n",
      "vulnerability__cluster6-1_6_18_23_34_36_37resnext-lr:0.01-wd:0.0_astral-morning-55.csv\n",
      "0.6312290004321507\n",
      "vulnerability__cluster6-3_4_7_13_14_28_33_35resnext-lr:0.01-wd:0.0_daily-fire-57.csv\n",
      "0.5406731888651848\n",
      "vulnerability__cluster6-8_15_19_21_25_31resnext-lr:0.01-wd:0.0_colorful-sky-58.csv\n",
      "0.5387781063715616\n",
      "vulnerability__cluster6-9_10_11_17_26_29resnext-lr:0.01-wd:0.0_silver-gorge-59.csv\n",
      "0.5433469216028849\n",
      "vulnerability__cluster7-0_12_16_22_30_38resnext-lr:0.01-wd:0.0_major-disco-60.csv\n",
      "0.5130224724610647\n",
      "vulnerability__cluster7-10_11_26_27_32resnext-lr:0.01-wd:0.0_zesty-spaceship-65.csv\n",
      "0.5799614071846009\n",
      "vulnerability__cluster7-15_19_21_25_29_31resnext-lr:0.01-wd:0.0_prime-bird-66.csv\n",
      "0.522426038980484\n",
      "vulnerability__cluster7-1_6_18_34_36_37resnext-lr:0.01-wd:0.0_dark-salad-61.csv\n",
      "0.6092836161454519\n",
      "vulnerability__cluster7-2_8_20_24_39resnext-lr:0.01-wd:0.0_likely-energy-62.csv\n",
      "0.6065776705741882\n",
      "vulnerability__cluster7-3_7_13_14_23resnext-lr:0.01-wd:0.0_whole-resonance-63.csv\n",
      "0.49006789922714233\n",
      "vulnerability__cluster7-4_5_9_17_28_33_35resnext-lr:0.01-wd:0.0_lyric-bee-64.csv\n",
      "0.4461833153452192\n",
      "vulnerability__cluster8-0_16_22_30_38resnext-lr:0.01-wd:0.0_driven-grass-67.csv\n",
      "0.47657627463340757\n",
      "vulnerability__cluster8-1_18_34_36resnext-lr:0.01-wd:0.0_distinctive-lion-68.csv\n",
      "0.5795430690050125\n",
      "vulnerability__cluster8-15_19_21_25_31_33resnext-lr:0.01-wd:0.0_lucky-eon-73.csv\n",
      "0.558563768863678\n",
      "vulnerability__cluster8-2_8_20_24_39resnext-lr:0.01-wd:0.0_copper-frost-69.csv\n",
      "0.6037191152572632\n",
      "vulnerability__cluster8-3_7_13_14resnext-lr:0.01-wd:0.0_young-dawn-70.csv\n",
      "0.398268386721611\n",
      "vulnerability__cluster8-6_10_11_12_23_26_27_29_37resnext-lr:0.01-wd:0.0_azure-bee-72.csv\n",
      "0.6444498234324985\n"
     ]
    }
   ],
   "source": [
    "res_dirname = '/data/mariammaa/celeba/results_saliencymap/'\n",
    "res_list = get_group_acscore(res_dirname, result_saliency_file_list)"
   ]
  },
  {
   "cell_type": "code",
   "execution_count": 3,
   "metadata": {},
   "outputs": [],
   "source": [
    "def get_res(res_list, start, end):\n",
    "    sum = 0\n",
    "    cnt = 0\n",
    "    for i in range(start, end):\n",
    "        sum += res_list[i]\n",
    "        cnt += 1\n",
    "    print(sum/cnt)\n",
    "    return sum/cnt"
   ]
  },
  {
   "cell_type": "code",
   "execution_count": 3,
   "metadata": {},
   "outputs": [
    {
     "ename": "NameError",
     "evalue": "name 'res_list' is not defined",
     "output_type": "error",
     "traceback": [
      "\u001b[0;31m---------------------------------------------------------------------------\u001b[0m",
      "\u001b[0;31mNameError\u001b[0m                                 Traceback (most recent call last)",
      "Input \u001b[0;32mIn [3]\u001b[0m, in \u001b[0;36m<cell line: 1>\u001b[0;34m()\u001b[0m\n\u001b[0;32m----> 1\u001b[0m \u001b[38;5;28mlen\u001b[39m(\u001b[43mres_list\u001b[49m)\n",
      "\u001b[0;31mNameError\u001b[0m: name 'res_list' is not defined"
     ]
    }
   ],
   "source": [
    "len(res_list)"
   ]
  },
  {
   "cell_type": "code",
   "execution_count": 7,
   "metadata": {},
   "outputs": [
    {
     "name": "stdout",
     "output_type": "stream",
     "text": [
      "0.6750458629444391\n",
      "0.6169792352175271\n",
      "0.6132556921523861\n",
      "0.5801295109770515\n",
      "0.5573644526657604\n",
      "0.538217488559736\n",
      "0.5435200729855785\n"
     ]
    }
   ],
   "source": [
    "get_res(res_list, 0, 2) #2\n",
    "get_res(res_list, 2,5) #3\n",
    "get_res(res_list, 5,9) #4\n",
    "get_res(res_list, 9,13) #5\n",
    "get_res(res_list, 13,18) #6\n",
    "get_res(res_list, 18,25) #7\n",
    "get_res(res_list, 25,31) #8"
   ]
  },
  {
   "cell_type": "code",
   "execution_count": 4,
   "metadata": {},
   "outputs": [],
   "source": [
    "\n",
    "SMALL_SIZE = 8\n",
    "MEDIUM_SIZE = 10\n",
    "BIGGER_SIZE = 12\n",
    "VERYBIGGER_SIZE = 14\n",
    "\n",
    "plt.rc('font', size=MEDIUM_SIZE)          # controls default text sizes\n",
    "plt.rc('axes', titlesize=SMALL_SIZE)     # fontsize of the axes title\n",
    "plt.rc('axes', labelsize=VERYBIGGER_SIZE)    # fontsize of the x and y labels\n",
    "plt.rc('xtick', labelsize=SMALL_SIZE)    # fontsize of the tick labels\n",
    "plt.rc('ytick', labelsize=SMALL_SIZE)    # fontsize of the tick labels\n",
    "plt.rc('legend', fontsize=SMALL_SIZE)    # legend fontsize\n",
    "plt.rc('figure', titlesize=BIGGER_SIZE)  # fontsize of the figure title"
   ]
  },
  {
   "cell_type": "code",
   "execution_count": 40,
   "metadata": {},
   "outputs": [
    {
     "data": {
      "image/png": "[encoded data removed]",
      "text/plain": [
       "<Figure size 432x288 with 1 Axes>"
      ]
     },
     "metadata": {
      "needs_background": "light"
     },
     "output_type": "display_data"
    }
   ],
   "source": [
    "\n",
    "av_saliency = [0.6750458629444391, 0.6169792352175271, 0.6132556921523861, 0.5801295109770515, 0.5573644526657604, 0.538217488559736, 0.5435200729855785]\n",
    "clusters = [2,3,4,5,6,7,8]\n",
    "plt.plot(clusters, av_saliency)\n",
    "plt.ylabel('AV Score')\n",
    "plt.xlabel('#Clusters')\n",
    "plt.show()"
   ]
  },
  {
   "cell_type": "code",
   "execution_count": null,
   "metadata": {},
   "outputs": [],
   "source": []
  },
  {
   "cell_type": "code",
   "execution_count": 9,
   "metadata": {},
   "outputs": [],
   "source": [
    "result_gradcam_file_list = [\n",
    "'vulnerability__cluster2-0_3_4_6_7_9_10_12_13_14_15_16_17_22_23_26_28_29_30_35_37_38resnext-lr:0.01-wd:0.0_silver-glade-40.csv',\n",
    "'vulnerability__cluster2-1_2_5_8_11_18_19_20_21_24_25_27_31_32_33_34_36_39resnext-lr:0.01-wd:0.0_lilac-elevator-41.csv',\n",
    "'vulnerability__cluster3-0_3_7_12_16_20_22_30_38resnext-lr:0.01-wd:0.0_super-aardvark-42.csv',\n",
    "'vulnerability__cluster3-1_2_5_8_18_19_21_24_25_27_31_32_33_36_39resnext-lr:0.01-wd:0.0_dutiful-cherry-43.csv',\n",
    "'vulnerability__cluster3-4_6_9_10_11_13_14_15_17_23_26_28_29_34_35_37resnext-lr:0.01-wd:0.0_dandy-glade-44.csv',\n",
    "'vulnerability__cluster4-0_16_20_22_30_38resnext-lr:0.01-wd:0.0_lemon-thunder-45.csv',\n",
    "'vulnerability__cluster4-10_11_13_14_15_17_26_29_37resnext-lr:0.01-wd:0.0_neat-lake-48.csv',\n",
    "'vulnerability__cluster4-1_3_4_5_6_7_9_23_24_28_33_35resnext-lr:0.01-wd:0.0_colorful-dew-46.csv',\n",
    "'vulnerability__cluster4-2_8_12_18_19_21_25_27_31_32_34_36_39resnext-lr:0.01-wd:0.0_fanciful-pond-47.csv',\n",
    "'vulnerability__cluster5-0_12_16_20_22_30_32_38resnext-lr:0.01-wd:0.0_neat-sun-49.csv',\n",
    "'vulnerability__cluster5-2_5_24_39resnext-lr:0.01-wd:0.0_grateful-cherry-51.csv',\n",
    "'vulnerability__cluster5-3_4_6_7_13_14_17_23_28_33_35resnext-lr:0.01-wd:0.0_scarlet-snow-52.csv',\n",
    "'vulnerability__cluster5-8_15_19_21_25_31resnext-lr:0.01-wd:0.0_golden-wind-53.csv',\n",
    "'vulnerability__cluster6-0_12_16_20_22_30_38resnext-lr:0.01-wd:0.0_fanciful-night-54.csv',\n",
    "'vulnerability__cluster6-1_6_18_23_34_36_37resnext-lr:0.01-wd:0.0_astral-morning-55.csv',\n",
    "'vulnerability__cluster6-3_4_7_13_14_28_33_35resnext-lr:0.01-wd:0.0_daily-fire-57.csv',\n",
    "'vulnerability__cluster6-8_15_19_21_25_31resnext-lr:0.01-wd:0.0_colorful-sky-58.csv',\n",
    "'vulnerability__cluster6-9_10_11_17_26_29resnext-lr:0.01-wd:0.0_silver-gorge-59.csv',\n",
    "'vulnerability__cluster7-0_12_16_22_30_38resnext-lr:0.01-wd:0.0_major-disco-60.csv',\n",
    "'vulnerability__cluster7-10_11_26_27_32resnext-lr:0.01-wd:0.0_zesty-spaceship-65.csv',\n",
    "'vulnerability__cluster7-15_19_21_25_29_31resnext-lr:0.01-wd:0.0_prime-bird-66.csv',\n",
    "'vulnerability__cluster7-1_6_18_34_36_37resnext-lr:0.01-wd:0.0_dark-salad-61.csv',\n",
    "'vulnerability__cluster7-2_8_20_24_39resnext-lr:0.01-wd:0.0_likely-energy-62.csv',\n",
    "'vulnerability__cluster7-3_7_13_14_23resnext-lr:0.01-wd:0.0_whole-resonance-63.csv',\n",
    "'vulnerability__cluster7-4_5_9_17_28_33_35resnext-lr:0.01-wd:0.0_lyric-bee-64.csv',\n",
    "'vulnerability__cluster8-0_16_22_30_38resnext-lr:0.01-wd:0.0_driven-grass-67.csv',\n",
    "'vulnerability__cluster8-1_18_34_36resnext-lr:0.01-wd:0.0_distinctive-lion-68.csv',\n",
    "'vulnerability__cluster8-15_19_21_25_31_33resnext-lr:0.01-wd:0.0_lucky-eon-73.csv',\n",
    "'vulnerability__cluster8-2_8_20_24_39resnext-lr:0.01-wd:0.0_copper-frost-69.csv',\n",
    "'vulnerability__cluster8-3_7_13_14resnext-lr:0.01-wd:0.0_young-dawn-70.csv',\n",
    "'vulnerability__cluster8-6_10_11_12_23_26_27_29_37resnext-lr:0.01-wd:0.0_azure-bee-72.csv'\n",
    "]"
   ]
  },
  {
   "cell_type": "code",
   "execution_count": 13,
   "metadata": {},
   "outputs": [
    {
     "name": "stdout",
     "output_type": "stream",
     "text": [
      "vulnerability__cluster2-0_3_4_6_7_9_10_12_13_14_15_16_17_22_23_26_28_29_30_35_37_38resnext-lr:0.01-wd:0.0_silver-glade-40.csv\n",
      "0.07409339990805495\n",
      "vulnerability__cluster2-1_2_5_8_11_18_19_20_21_24_25_27_31_32_33_34_36_39resnext-lr:0.01-wd:0.0_lilac-elevator-41.csv\n",
      "0.09222330504821406\n",
      "vulnerability__cluster3-0_3_7_12_16_20_22_30_38resnext-lr:0.01-wd:0.0_super-aardvark-42.csv\n",
      "0.06235767197277811\n",
      "vulnerability__cluster3-1_2_5_8_18_19_21_24_25_27_31_32_33_36_39resnext-lr:0.01-wd:0.0_dutiful-cherry-43.csv\n",
      "0.0811183994015058\n",
      "vulnerability__cluster3-4_6_9_10_11_13_14_15_17_23_26_28_29_34_35_37resnext-lr:0.01-wd:0.0_dandy-glade-44.csv\n",
      "0.0769364326260984\n",
      "vulnerability__cluster4-0_16_20_22_30_38resnext-lr:0.01-wd:0.0_lemon-thunder-45.csv\n",
      "0.055157662058869995\n",
      "vulnerability__cluster4-10_11_13_14_15_17_26_29_37resnext-lr:0.01-wd:0.0_neat-lake-48.csv\n",
      "0.06327444894446267\n",
      "vulnerability__cluster4-1_3_4_5_6_7_9_23_24_28_33_35resnext-lr:0.01-wd:0.0_colorful-dew-46.csv\n",
      "0.07855026579151551\n",
      "vulnerability__cluster4-2_8_12_18_19_21_25_27_31_32_34_36_39resnext-lr:0.01-wd:0.0_fanciful-pond-47.csv\n",
      "0.0862677489908842\n",
      "vulnerability__cluster5-0_12_16_20_22_30_32_38resnext-lr:0.01-wd:0.0_neat-sun-49.csv\n",
      "0.056302330922335386\n",
      "vulnerability__cluster5-2_5_24_39resnext-lr:0.01-wd:0.0_grateful-cherry-51.csv\n",
      "0.0616694837808609\n",
      "vulnerability__cluster5-3_4_6_7_13_14_17_23_28_33_35resnext-lr:0.01-wd:0.0_scarlet-snow-52.csv\n",
      "0.06146367300640453\n",
      "vulnerability__cluster5-8_15_19_21_25_31resnext-lr:0.01-wd:0.0_golden-wind-53.csv\n",
      "0.05806311344106992\n",
      "vulnerability__cluster6-0_12_16_20_22_30_38resnext-lr:0.01-wd:0.0_fanciful-night-54.csv\n",
      "0.05184357240796089\n",
      "vulnerability__cluster6-1_6_18_23_34_36_37resnext-lr:0.01-wd:0.0_astral-morning-55.csv\n",
      "0.08164070865937642\n",
      "vulnerability__cluster6-3_4_7_13_14_28_33_35resnext-lr:0.01-wd:0.0_daily-fire-57.csv\n",
      "0.04645008058287203\n",
      "vulnerability__cluster6-8_15_19_21_25_31resnext-lr:0.01-wd:0.0_colorful-sky-58.csv\n",
      "0.058927769462267555\n",
      "vulnerability__cluster6-9_10_11_17_26_29resnext-lr:0.01-wd:0.0_silver-gorge-59.csv\n",
      "0.05903186338643233\n",
      "vulnerability__cluster7-0_12_16_22_30_38resnext-lr:0.01-wd:0.0_major-disco-60.csv\n",
      "0.05622750148177147\n",
      "vulnerability__cluster7-10_11_26_27_32resnext-lr:0.01-wd:0.0_zesty-spaceship-65.csv\n",
      "0.08111101388931274\n",
      "vulnerability__cluster7-15_19_21_25_29_31resnext-lr:0.01-wd:0.0_prime-bird-66.csv\n",
      "0.057443175464868546\n",
      "vulnerability__cluster7-1_6_18_34_36_37resnext-lr:0.01-wd:0.0_dark-salad-61.csv\n",
      "0.07432882487773895\n",
      "vulnerability__cluster7-2_8_20_24_39resnext-lr:0.01-wd:0.0_likely-energy-62.csv\n",
      "0.06855902746319771\n",
      "vulnerability__cluster7-3_7_13_14_23resnext-lr:0.01-wd:0.0_whole-resonance-63.csv\n",
      "0.05942531228065491\n",
      "vulnerability__cluster7-4_5_9_17_28_33_35resnext-lr:0.01-wd:0.0_lyric-bee-64.csv\n",
      "0.030568673674549376\n",
      "vulnerability__cluster8-0_16_22_30_38resnext-lr:0.01-wd:0.0_driven-grass-67.csv\n",
      "0.04817177355289459\n",
      "vulnerability__cluster8-1_18_34_36resnext-lr:0.01-wd:0.0_distinctive-lion-68.csv\n",
      "0.07706499099731445\n",
      "vulnerability__cluster8-15_19_21_25_31_33resnext-lr:0.01-wd:0.0_lucky-eon-73.csv\n",
      "0.0658680871129036\n",
      "vulnerability__cluster8-2_8_20_24_39resnext-lr:0.01-wd:0.0_copper-frost-69.csv\n",
      "0.06328541040420532\n",
      "vulnerability__cluster8-3_7_13_14resnext-lr:0.01-wd:0.0_young-dawn-70.csv\n",
      "0.0370212085545063\n",
      "vulnerability__cluster8-6_10_11_12_23_26_27_29_37resnext-lr:0.01-wd:0.0_azure-bee-72.csv\n",
      "0.10315343075328404\n"
     ]
    }
   ],
   "source": [
    "res_dirname = '/data/mariammaa/celeba/results_gradcam/'\n",
    "res_list_gradcam = get_group_acscore(res_dirname, result_gradcam_file_list)"
   ]
  },
  {
   "cell_type": "code",
   "execution_count": 14,
   "metadata": {},
   "outputs": [
    {
     "name": "stdout",
     "output_type": "stream",
     "text": [
      "0.08315835247813451\n",
      "0.0734708346667941\n",
      "0.0708125314464331\n",
      "0.05937465028766769\n",
      "0.05957879889978185\n",
      "0.061094789876013376\n",
      "0.06576081689585138\n"
     ]
    }
   ],
   "source": [
    "get_res(res_list_gradcam, 0, 2) #2\n",
    "get_res(res_list_gradcam, 2,5) #3\n",
    "get_res(res_list_gradcam, 5,9) #4\n",
    "get_res(res_list_gradcam, 9,13) #5\n",
    "get_res(res_list_gradcam, 13,18) #6\n",
    "get_res(res_list_gradcam, 18,25) #7\n",
    "get_res(res_list_gradcam, 25,31) #8"
   ]
  },
  {
   "cell_type": "code",
   "execution_count": 30,
   "metadata": {},
   "outputs": [
    {
     "data": {
      "image/png": "[encoded data removed]",
      "text/plain": [
       "<Figure size 432x288 with 1 Axes>"
      ]
     },
     "metadata": {
      "needs_background": "light"
     },
     "output_type": "display_data"
    }
   ],
   "source": [
    "gradcam_av = [0.08, 0.07, 0.070, 0.06, 0.06, 0.06, 0.06]\n",
    "clusters = [2,3,4,5,6,7,8]\n",
    "plt.plot(clusters, gradcam_av)\n",
    "plt.ylabel('AV Score')\n",
    "plt.xlabel('#Clusters')\n",
    "plt.show()"
   ]
  },
  {
   "cell_type": "code",
   "execution_count": 21,
   "metadata": {},
   "outputs": [],
   "source": [
    "result_ig_file_list = [\n",
    "'vulnerability__cluster2-0_3_4_6_7_9_10_12_13_14_15_16_17_22_23_26_28_29_30_35_37_38resnext-lr:0.01-wd:0.0_silver-glade-40.csv',\n",
    "'vulnerability__cluster2-1_2_5_8_11_18_19_20_21_24_25_27_31_32_33_34_36_39resnext-lr:0.01-wd:0.0_lilac-elevator-41.csv',\n",
    "'vulnerability__cluster3-0_3_7_12_16_20_22_30_38resnext-lr:0.01-wd:0.0_super-aardvark-42.csv',\n",
    "'vulnerability__cluster3-1_2_5_8_18_19_21_24_25_27_31_32_33_36_39resnext-lr:0.01-wd:0.0_dutiful-cherry-43.csv',\n",
    "'vulnerability__cluster3-4_6_9_10_11_13_14_15_17_23_26_28_29_34_35_37resnext-lr:0.01-wd:0.0_dandy-glade-44.csv',\n",
    "'vulnerability__cluster4-0_16_20_22_30_38resnext-lr:0.01-wd:0.0_lemon-thunder-45.csv',\n",
    "'vulnerability__cluster4-10_11_13_14_15_17_26_29_37resnext-lr:0.01-wd:0.0_neat-lake-48.csv',\n",
    "'vulnerability__cluster4-1_3_4_5_6_7_9_23_24_28_33_35resnext-lr:0.01-wd:0.0_colorful-dew-46.csv',\n",
    "'vulnerability__cluster4-2_8_12_18_19_21_25_27_31_32_34_36_39resnext-lr:0.01-wd:0.0_fanciful-pond-47.csv',\n",
    "'vulnerability__cluster5-0_12_16_20_22_30_32_38resnext-lr:0.01-wd:0.0_neat-sun-49.csv',\n",
    "'vulnerability__cluster5-2_5_24_39resnext-lr:0.01-wd:0.0_grateful-cherry-51.csv',\n",
    "'vulnerability__cluster5-3_4_6_7_13_14_17_23_28_33_35resnext-lr:0.01-wd:0.0_scarlet-snow-52.csv',\n",
    "'vulnerability__cluster5-8_15_19_21_25_31resnext-lr:0.01-wd:0.0_golden-wind-53.csv',\n",
    "'vulnerability__cluster6-0_12_16_20_22_30_38resnext-lr:0.01-wd:0.0_fanciful-night-54.csv',\n",
    "'vulnerability__cluster6-1_6_18_23_34_36_37resnext-lr:0.01-wd:0.0_astral-morning-55.csv',\n",
    "'vulnerability__cluster6-3_4_7_13_14_28_33_35resnext-lr:0.01-wd:0.0_daily-fire-57.csv',\n",
    "'vulnerability__cluster6-8_15_19_21_25_31resnext-lr:0.01-wd:0.0_colorful-sky-58.csv',\n",
    "'vulnerability__cluster6-9_10_11_17_26_29resnext-lr:0.01-wd:0.0_silver-gorge-59.csv',\n",
    "'vulnerability__cluster8-0_16_22_30_38resnext-lr:0.01-wd:0.0_driven-grass-67.csv',\n",
    "'vulnerability__cluster8-1_18_34_36resnext-lr:0.01-wd:0.0_distinctive-lion-68.csv',\n",
    "'vulnerability__cluster8-15_19_21_25_31_33resnext-lr:0.01-wd:0.0_lucky-eon-73.csv',\n",
    "'vulnerability__cluster8-2_8_20_24_39resnext-lr:0.01-wd:0.0_copper-frost-69.csv',\n",
    "'vulnerability__cluster8-3_7_13_14resnext-lr:0.01-wd:0.0_young-dawn-70.csv',\n",
    "'vulnerability__cluster8-6_10_11_12_23_26_27_29_37resnext-lr:0.01-wd:0.0_azure-bee-72.csv']"
   ]
  },
  {
   "cell_type": "code",
   "execution_count": 22,
   "metadata": {},
   "outputs": [
    {
     "name": "stdout",
     "output_type": "stream",
     "text": [
      "vulnerability__cluster2-0_3_4_6_7_9_10_12_13_14_15_16_17_22_23_26_28_29_30_35_37_38resnext-lr:0.01-wd:0.0_silver-glade-40.csv\n",
      "0.4555197778073224\n",
      "vulnerability__cluster2-1_2_5_8_11_18_19_20_21_24_25_27_31_32_33_34_36_39resnext-lr:0.01-wd:0.0_lilac-elevator-41.csv\n",
      "0.44460513028833604\n",
      "vulnerability__cluster3-0_3_7_12_16_20_22_30_38resnext-lr:0.01-wd:0.0_super-aardvark-42.csv\n",
      "0.373467355966568\n",
      "vulnerability__cluster3-1_2_5_8_18_19_21_24_25_27_31_32_33_36_39resnext-lr:0.01-wd:0.0_dutiful-cherry-43.csv\n",
      "0.41096346179644266\n",
      "vulnerability__cluster3-4_6_9_10_11_13_14_15_17_23_26_28_29_34_35_37resnext-lr:0.01-wd:0.0_dandy-glade-44.csv\n",
      "0.43140031583607197\n",
      "vulnerability__cluster4-0_16_20_22_30_38resnext-lr:0.01-wd:0.0_lemon-thunder-45.csv\n",
      "0.4017018874486287\n",
      "vulnerability__cluster4-10_11_13_14_15_17_26_29_37resnext-lr:0.01-wd:0.0_neat-lake-48.csv\n",
      "0.40967214438650346\n",
      "vulnerability__cluster4-1_3_4_5_6_7_9_23_24_28_33_35resnext-lr:0.01-wd:0.0_colorful-dew-46.csv\n",
      "0.4482636551062266\n",
      "vulnerability__cluster4-2_8_12_18_19_21_25_27_31_32_34_36_39resnext-lr:0.01-wd:0.0_fanciful-pond-47.csv\n",
      "0.41009218188432545\n",
      "vulnerability__cluster5-0_12_16_20_22_30_32_38resnext-lr:0.01-wd:0.0_neat-sun-49.csv\n",
      "0.37725117057561874\n",
      "vulnerability__cluster5-2_5_24_39resnext-lr:0.01-wd:0.0_grateful-cherry-51.csv\n",
      "0.3856075331568718\n",
      "vulnerability__cluster5-3_4_6_7_13_14_17_23_28_33_35resnext-lr:0.01-wd:0.0_scarlet-snow-52.csv\n",
      "0.3785473379221829\n",
      "vulnerability__cluster5-8_15_19_21_25_31resnext-lr:0.01-wd:0.0_golden-wind-53.csv\n",
      "0.36446278790632886\n",
      "vulnerability__cluster6-0_12_16_20_22_30_38resnext-lr:0.01-wd:0.0_fanciful-night-54.csv\n",
      "0.36754085762160166\n",
      "vulnerability__cluster6-1_6_18_23_34_36_37resnext-lr:0.01-wd:0.0_astral-morning-55.csv\n",
      "0.42336501819746836\n",
      "vulnerability__cluster6-3_4_7_13_14_28_33_35resnext-lr:0.01-wd:0.0_daily-fire-57.csv\n",
      "0.3617011681199074\n",
      "vulnerability__cluster6-8_15_19_21_25_31resnext-lr:0.01-wd:0.0_colorful-sky-58.csv\n",
      "0.3455805629491806\n",
      "vulnerability__cluster6-9_10_11_17_26_29resnext-lr:0.01-wd:0.0_silver-gorge-59.csv\n",
      "0.3694501717885335\n",
      "vulnerability__cluster8-0_16_22_30_38resnext-lr:0.01-wd:0.0_driven-grass-67.csv\n",
      "0.3249494194984436\n",
      "vulnerability__cluster8-1_18_34_36resnext-lr:0.01-wd:0.0_distinctive-lion-68.csv\n",
      "0.4062311574816704\n",
      "vulnerability__cluster8-15_19_21_25_31_33resnext-lr:0.01-wd:0.0_lucky-eon-73.csv\n",
      "0.36785279711087543\n",
      "vulnerability__cluster8-2_8_20_24_39resnext-lr:0.01-wd:0.0_copper-frost-69.csv\n",
      "0.3910991311073303\n",
      "vulnerability__cluster8-3_7_13_14resnext-lr:0.01-wd:0.0_young-dawn-70.csv\n",
      "0.2674102634191513\n",
      "vulnerability__cluster8-6_10_11_12_23_26_27_29_37resnext-lr:0.01-wd:0.0_azure-bee-72.csv\n",
      "0.43681951695018345\n"
     ]
    }
   ],
   "source": [
    "res_dirname = '/data/mariammaa/celeba/results_integratedgrad/'\n",
    "res_list_ig = get_group_acscore(res_dirname, result_ig_file_list)"
   ]
  },
  {
   "cell_type": "code",
   "execution_count": 23,
   "metadata": {},
   "outputs": [
    {
     "name": "stdout",
     "output_type": "stream",
     "text": [
      "0.4500624540478292\n",
      "0.40527704453302754\n",
      "0.4174324672064211\n",
      "0.3764672073902506\n",
      "0.3735275557353383\n",
      "0.36572704759460906\n"
     ]
    }
   ],
   "source": [
    "get_res(res_list_ig, 0, 2) #2\n",
    "get_res(res_list_ig, 2,5) #3\n",
    "get_res(res_list_ig, 5,9) #4\n",
    "get_res(res_list_ig, 9,13) #5\n",
    "get_res(res_list_ig, 13,18) #6\n",
    "# get_res(res_list_ig, 18,25) #7\n",
    "get_res(res_list_ig, 18,24) #8"
   ]
  },
  {
   "cell_type": "code",
   "execution_count": 31,
   "metadata": {},
   "outputs": [
    {
     "data": {
      "image/png": "[encoded data removed]",
      "text/plain": [
       "<Figure size 432x288 with 1 Axes>"
      ]
     },
     "metadata": {
      "needs_background": "light"
     },
     "output_type": "display_data"
    }
   ],
   "source": [
    "res_ig = [0.4500624540478292, 0.40527704453302754, 0.4174324672064211, 0.3764672073902506, 0.3735275557353383, 0.36572704759460906]\n",
    "clusters = [2,3,4,5,6,8]\n",
    "plt.plot(clusters, res_ig)\n",
    "plt.ylabel('AV Score')\n",
    "plt.xlabel('#Clusters')\n",
    "plt.show()"
   ]
  },
  {
   "cell_type": "code",
   "execution_count": null,
   "metadata": {},
   "outputs": [],
   "source": []
  },
  {
   "cell_type": "code",
   "execution_count": 7,
   "metadata": {},
   "outputs": [],
   "source": [
    "result_guided_backprop_file_list = [\n",
    "    'vulnerability__cluster2-0_3_4_6_7_9_10_12_13_14_15_16_17_22_23_26_28_29_30_35_37_38resnext-lr:0.01-wd:0.0_silver-glade-40.csv',\n",
    "    'vulnerability__cluster3-0_3_7_12_16_20_22_30_38resnext-lr:0.01-wd:0.0_super-aardvark-42.csv',\n",
    "    'vulnerability__cluster3-1_2_5_8_18_19_21_24_25_27_31_32_33_36_39resnext-lr:0.01-wd:0.0_dutiful-cherry-43.csv',\n",
    "    'vulnerability__cluster3-4_6_9_10_11_13_14_15_17_23_26_28_29_34_35_37resnext-lr:0.01-wd:0.0_dandy-glade-44.csv',\n",
    "    'vulnerability__cluster4-0_16_20_22_30_38resnext-lr:0.01-wd:0.0_lemon-thunder-45.csv',\n",
    "    'vulnerability__cluster4-10_11_13_14_15_17_26_29_37resnext-lr:0.01-wd:0.0_neat-lake-48.csv',\n",
    "    'vulnerability__cluster4-1_3_4_5_6_7_9_23_24_28_33_35resnext-lr:0.01-wd:0.0_colorful-dew-46.csv',\n",
    "    'vulnerability__cluster4-2_8_12_18_19_21_25_27_31_32_34_36_39resnext-lr:0.01-wd:0.0_fanciful-pond-47.csv',\n",
    "    'vulnerability__cluster5-0_12_16_20_22_30_32_38resnext-lr:0.01-wd:0.0_neat-sun-49.csv',\n",
    "    'vulnerability__cluster5-2_5_24_39resnext-lr:0.01-wd:0.0_grateful-cherry-51.csv',\n",
    "    'vulnerability__cluster5-3_4_6_7_13_14_17_23_28_33_35resnext-lr:0.01-wd:0.0_scarlet-snow-52.csv',\n",
    "    'vulnerability__cluster5-8_15_19_21_25_31resnext-lr:0.01-wd:0.0_golden-wind-53.csv',\n",
    "    'vulnerability__cluster6-0_12_16_20_22_30_38resnext-lr:0.01-wd:0.0_fanciful-night-54.csv',\n",
    "    'vulnerability__cluster6-1_6_18_23_34_36_37resnext-lr:0.01-wd:0.0_astral-morning-55.csv',\n",
    "    'vulnerability__cluster6-3_4_7_13_14_28_33_35resnext-lr:0.01-wd:0.0_daily-fire-57.csv',\n",
    "    'vulnerability__cluster6-8_15_19_21_25_31resnext-lr:0.01-wd:0.0_colorful-sky-58.csv',\n",
    "    'vulnerability__cluster6-9_10_11_17_26_29resnext-lr:0.01-wd:0.0_silver-gorge-59.csv',\n",
    "    'vulnerability__cluster7-0_12_16_22_30_38resnext-lr:0.01-wd:0.0_major-disco-60.csv',\n",
    "    'vulnerability__cluster7-10_11_26_27_32resnext-lr:0.01-wd:0.0_zesty-spaceship-65.csv',\n",
    "    'vulnerability__cluster7-15_19_21_25_29_31resnext-lr:0.01-wd:0.0_prime-bird-66.csv',\n",
    "    'vulnerability__cluster7-1_6_18_34_36_37resnext-lr:0.01-wd:0.0_dark-salad-61.csv',\n",
    "    'vulnerability__cluster7-2_8_20_24_39resnext-lr:0.01-wd:0.0_likely-energy-62.csv',\n",
    "    'vulnerability__cluster7-3_7_13_14_23resnext-lr:0.01-wd:0.0_whole-resonance-63.csv',\n",
    "    'vulnerability__cluster7-4_5_9_17_28_33_35resnext-lr:0.01-wd:0.0_lyric-bee-64.csv',\n",
    "    'vulnerability__cluster8-0_16_22_30_38resnext-lr:0.01-wd:0.0_driven-grass-67.csv',\n",
    "    'vulnerability__cluster8-1_18_34_36resnext-lr:0.01-wd:0.0_distinctive-lion-68.csv',\n",
    "    'vulnerability__cluster8-15_19_21_25_31_33resnext-lr:0.01-wd:0.0_lucky-eon-73.csv',\n",
    "    'vulnerability__cluster8-2_8_20_24_39resnext-lr:0.01-wd:0.0_copper-frost-69.csv',\n",
    "    'vulnerability__cluster8-3_7_13_14resnext-lr:0.01-wd:0.0_young-dawn-70.csv',\n",
    "    'vulnerability__cluster8-6_10_11_12_23_26_27_29_37resnext-lr:0.01-wd:0.0_azure-bee-72.csv'\n",
    "]"
   ]
  },
  {
   "cell_type": "code",
   "execution_count": 8,
   "metadata": {},
   "outputs": [
    {
     "name": "stdout",
     "output_type": "stream",
     "text": [
      "vulnerability__cluster2-0_3_4_6_7_9_10_12_13_14_15_16_17_22_23_26_28_29_30_35_37_38resnext-lr:0.01-wd:0.0_silver-glade-40.csv\n",
      "0.3174699219790372\n",
      "vulnerability__cluster3-0_3_7_12_16_20_22_30_38resnext-lr:0.01-wd:0.0_super-aardvark-42.csv\n",
      "0.29921788308355546\n",
      "vulnerability__cluster3-1_2_5_8_18_19_21_24_25_27_31_32_33_36_39resnext-lr:0.01-wd:0.0_dutiful-cherry-43.csv\n",
      "0.28967427015304564\n",
      "vulnerability__cluster3-4_6_9_10_11_13_14_15_17_23_26_28_29_34_35_37resnext-lr:0.01-wd:0.0_dandy-glade-44.csv\n",
      "0.32439484260976315\n",
      "vulnerability__cluster4-0_16_20_22_30_38resnext-lr:0.01-wd:0.0_lemon-thunder-45.csv\n",
      "0.2888917575279872\n",
      "vulnerability__cluster4-10_11_13_14_15_17_26_29_37resnext-lr:0.01-wd:0.0_neat-lake-48.csv\n",
      "0.3085237211651272\n",
      "vulnerability__cluster4-1_3_4_5_6_7_9_23_24_28_33_35resnext-lr:0.01-wd:0.0_colorful-dew-46.csv\n",
      "0.3247280443708102\n",
      "vulnerability__cluster4-2_8_12_18_19_21_25_27_31_32_34_36_39resnext-lr:0.01-wd:0.0_fanciful-pond-47.csv\n",
      "0.30317025230481076\n",
      "vulnerability__cluster5-0_12_16_20_22_30_32_38resnext-lr:0.01-wd:0.0_neat-sun-49.csv\n",
      "0.2928698770701885\n",
      "vulnerability__cluster5-2_5_24_39resnext-lr:0.01-wd:0.0_grateful-cherry-51.csv\n",
      "0.27612515911459923\n",
      "vulnerability__cluster5-3_4_6_7_13_14_17_23_28_33_35resnext-lr:0.01-wd:0.0_scarlet-snow-52.csv\n",
      "0.3479116829958829\n",
      "vulnerability__cluster5-8_15_19_21_25_31resnext-lr:0.01-wd:0.0_golden-wind-53.csv\n",
      "0.2635148788491885\n",
      "vulnerability__cluster6-0_12_16_20_22_30_38resnext-lr:0.01-wd:0.0_fanciful-night-54.csv\n",
      "0.27121518339429584\n",
      "vulnerability__cluster6-1_6_18_23_34_36_37resnext-lr:0.01-wd:0.0_astral-morning-55.csv\n",
      "0.29150967938559397\n",
      "vulnerability__cluster6-3_4_7_13_14_28_33_35resnext-lr:0.01-wd:0.0_daily-fire-57.csv\n",
      "0.274778313934803\n",
      "vulnerability__cluster6-8_15_19_21_25_31resnext-lr:0.01-wd:0.0_colorful-sky-58.csv\n",
      "0.2556490401426951\n",
      "vulnerability__cluster6-9_10_11_17_26_29resnext-lr:0.01-wd:0.0_silver-gorge-59.csv\n",
      "0.3022560079892476\n",
      "vulnerability__cluster7-0_12_16_22_30_38resnext-lr:0.01-wd:0.0_major-disco-60.csv\n",
      "0.27183596541484195\n",
      "vulnerability__cluster7-10_11_26_27_32resnext-lr:0.01-wd:0.0_zesty-spaceship-65.csv\n",
      "0.30450347661972044\n",
      "vulnerability__cluster7-15_19_21_25_29_31resnext-lr:0.01-wd:0.0_prime-bird-66.csv\n",
      "0.22703268378973007\n",
      "vulnerability__cluster7-1_6_18_34_36_37resnext-lr:0.01-wd:0.0_dark-salad-61.csv\n",
      "0.29395516713460285\n",
      "vulnerability__cluster7-2_8_20_24_39resnext-lr:0.01-wd:0.0_likely-energy-62.csv\n",
      "0.2995301246643066\n",
      "vulnerability__cluster7-3_7_13_14_23resnext-lr:0.01-wd:0.0_whole-resonance-63.csv\n",
      "0.2470663756132126\n",
      "vulnerability__cluster7-4_5_9_17_28_33_35resnext-lr:0.01-wd:0.0_lyric-bee-64.csv\n",
      "0.2135554701089859\n",
      "vulnerability__cluster8-0_16_22_30_38resnext-lr:0.01-wd:0.0_driven-grass-67.csv\n",
      "0.24906631112098693\n",
      "vulnerability__cluster8-1_18_34_36resnext-lr:0.01-wd:0.0_distinctive-lion-68.csv\n",
      "0.2848999798297882\n",
      "vulnerability__cluster8-15_19_21_25_31_33resnext-lr:0.01-wd:0.0_lucky-eon-73.csv\n",
      "0.2710450192292531\n",
      "vulnerability__cluster8-2_8_20_24_39resnext-lr:0.01-wd:0.0_copper-frost-69.csv\n",
      "0.28857638835906985\n",
      "vulnerability__cluster8-3_7_13_14resnext-lr:0.01-wd:0.0_young-dawn-70.csv\n",
      "0.1840360127389431\n",
      "vulnerability__cluster8-6_10_11_12_23_26_27_29_37resnext-lr:0.01-wd:0.0_azure-bee-72.csv\n",
      "0.31914651062753463\n"
     ]
    }
   ],
   "source": [
    "res_dirname = '/data/mariammaa/celeba/results_topk_guidedBackprop/'\n",
    "res_list_ig = get_group_acscore(res_dirname, result_guided_backprop_file_list)"
   ]
  },
  {
   "cell_type": "code",
   "execution_count": 14,
   "metadata": {},
   "outputs": [
    {
     "name": "stdout",
     "output_type": "stream",
     "text": [
      "0.3174699219790372\n",
      "0.30442899861545475\n",
      "0.30632844384218383\n",
      "0.2951053995074648\n",
      "0.2790816449693271\n",
      "0.26535418047791437\n",
      "0.26612837031759595\n"
     ]
    }
   ],
   "source": [
    "x_axis = [0]*7\n",
    "x_axis[0] = get_res(res_list_ig, 0, 1) #2\n",
    "x_axis[1] = get_res(res_list_ig, 1,4) #3\n",
    "x_axis[2] = get_res(res_list_ig, 4,8) #4\n",
    "x_axis[3] = get_res(res_list_ig, 8,12) #5\n",
    "x_axis[4] = get_res(res_list_ig, 12,17) #6\n",
    "x_axis[5] = get_res(res_list_ig, 17,24) #7\n",
    "x_axis[6] = get_res(res_list_ig, 24,30) #8"
   ]
  },
  {
   "cell_type": "code",
   "execution_count": 16,
   "metadata": {},
   "outputs": [
    {
     "data": {
      "image/png": "[encoded data removed]",
      "text/plain": [
       "<Figure size 432x288 with 1 Axes>"
      ]
     },
     "metadata": {
      "needs_background": "light"
     },
     "output_type": "display_data"
    }
   ],
   "source": [
    "res_ig = x_axis\n",
    "clusters = [2,3,4,5,6, 7, 8]\n",
    "plt.plot(clusters, res_ig)\n",
    "plt.ylabel('AV Score')\n",
    "plt.xlabel('#Clusters')\n",
    "plt.show()"
   ]
  },
  {
   "cell_type": "code",
   "execution_count": null,
   "metadata": {},
   "outputs": [],
   "source": []
  },
  {
   "cell_type": "code",
   "execution_count": 17,
   "metadata": {},
   "outputs": [],
   "source": [
    "result_inputxgradient_file_list = [\n",
    "    'vulnerability__cluster3-0_3_7_12_16_20_22_30_38resnext-lr:0.01-wd:0.0_super-aardvark-42.csv',\n",
    "    'vulnerability__cluster4-0_16_20_22_30_38resnext-lr:0.01-wd:0.0_lemon-thunder-45.csv',\n",
    "    'vulnerability__cluster4-10_11_13_14_15_17_26_29_37resnext-lr:0.01-wd:0.0_neat-lake-48.csv',\n",
    "    'vulnerability__cluster4-1_3_4_5_6_7_9_23_24_28_33_35resnext-lr:0.01-wd:0.0_colorful-dew-46.csv',\n",
    "    'vulnerability__cluster4-2_8_12_18_19_21_25_27_31_32_34_36_39resnext-lr:0.01-wd:0.0_fanciful-pond-47.csv',\n",
    "    'vulnerability__cluster5-0_12_16_20_22_30_32_38resnext-lr:0.01-wd:0.0_neat-sun-49.csv',\n",
    "    'vulnerability__cluster5-2_5_24_39resnext-lr:0.01-wd:0.0_grateful-cherry-51.csv',\n",
    "    'vulnerability__cluster5-3_4_6_7_13_14_17_23_28_33_35resnext-lr:0.01-wd:0.0_scarlet-snow-52.csv',\n",
    "    'vulnerability__cluster5-8_15_19_21_25_31resnext-lr:0.01-wd:0.0_golden-wind-53.csv',\n",
    "    'vulnerability__cluster6-0_12_16_20_22_30_38resnext-lr:0.01-wd:0.0_fanciful-night-54.csv',\n",
    "    'vulnerability__cluster6-1_6_18_23_34_36_37resnext-lr:0.01-wd:0.0_astral-morning-55.csv',\n",
    "    'vulnerability__cluster6-3_4_7_13_14_28_33_35resnext-lr:0.01-wd:0.0_daily-fire-57.csv',\n",
    "    'vulnerability__cluster6-8_15_19_21_25_31resnext-lr:0.01-wd:0.0_colorful-sky-58.csv',\n",
    "    'vulnerability__cluster6-9_10_11_17_26_29resnext-lr:0.01-wd:0.0_silver-gorge-59.csv',\n",
    "    'vulnerability__cluster7-0_12_16_22_30_38resnext-lr:0.01-wd:0.0_major-disco-60.csv',\n",
    "    'vulnerability__cluster7-10_11_26_27_32resnext-lr:0.01-wd:0.0_zesty-spaceship-65.csv',\n",
    "    'vulnerability__cluster7-15_19_21_25_29_31resnext-lr:0.01-wd:0.0_prime-bird-66.csv',\n",
    "    'vulnerability__cluster7-1_6_18_34_36_37resnext-lr:0.01-wd:0.0_dark-salad-61.csv',\n",
    "    'vulnerability__cluster7-2_8_20_24_39resnext-lr:0.01-wd:0.0_likely-energy-62.csv',\n",
    "    'vulnerability__cluster7-3_7_13_14_23resnext-lr:0.01-wd:0.0_whole-resonance-63.csv',\n",
    "    'vulnerability__cluster7-4_5_9_17_28_33_35resnext-lr:0.01-wd:0.0_lyric-bee-64.csv',\n",
    "    'vulnerability__cluster8-0_16_22_30_38resnext-lr:0.01-wd:0.0_driven-grass-67.csv',\n",
    "    'vulnerability__cluster8-1_18_34_36resnext-lr:0.01-wd:0.0_distinctive-lion-68.csv',\n",
    "    'vulnerability__cluster8-15_19_21_25_31_33resnext-lr:0.01-wd:0.0_lucky-eon-73.csv',\n",
    "    'vulnerability__cluster8-2_8_20_24_39resnext-lr:0.01-wd:0.0_copper-frost-69.csv',\n",
    "    'vulnerability__cluster8-3_7_13_14resnext-lr:0.01-wd:0.0_young-dawn-70.csv',\n",
    "    'vulnerability__cluster8-6_10_11_12_23_26_27_29_37resnext-lr:0.01-wd:0.0_azure-bee-72.csv'\n",
    "]"
   ]
  },
  {
   "cell_type": "code",
   "execution_count": 18,
   "metadata": {},
   "outputs": [
    {
     "name": "stdout",
     "output_type": "stream",
     "text": [
      "vulnerability__cluster3-0_3_7_12_16_20_22_30_38resnext-lr:0.01-wd:0.0_super-aardvark-42.csv\n",
      "0.29921788308355546\n",
      "vulnerability__cluster4-0_16_20_22_30_38resnext-lr:0.01-wd:0.0_lemon-thunder-45.csv\n",
      "0.2888917575279872\n",
      "vulnerability__cluster4-10_11_13_14_15_17_26_29_37resnext-lr:0.01-wd:0.0_neat-lake-48.csv\n",
      "0.3085237211651272\n",
      "vulnerability__cluster4-1_3_4_5_6_7_9_23_24_28_33_35resnext-lr:0.01-wd:0.0_colorful-dew-46.csv\n",
      "0.3247280443708102\n",
      "vulnerability__cluster4-2_8_12_18_19_21_25_27_31_32_34_36_39resnext-lr:0.01-wd:0.0_fanciful-pond-47.csv\n",
      "0.30317025230481076\n",
      "vulnerability__cluster5-0_12_16_20_22_30_32_38resnext-lr:0.01-wd:0.0_neat-sun-49.csv\n",
      "0.2928698770701885\n",
      "vulnerability__cluster5-2_5_24_39resnext-lr:0.01-wd:0.0_grateful-cherry-51.csv\n",
      "0.27612515911459923\n",
      "vulnerability__cluster5-3_4_6_7_13_14_17_23_28_33_35resnext-lr:0.01-wd:0.0_scarlet-snow-52.csv\n",
      "0.3479116829958829\n",
      "vulnerability__cluster5-8_15_19_21_25_31resnext-lr:0.01-wd:0.0_golden-wind-53.csv\n",
      "0.2635148788491885\n",
      "vulnerability__cluster6-0_12_16_20_22_30_38resnext-lr:0.01-wd:0.0_fanciful-night-54.csv\n",
      "0.27121518339429584\n",
      "vulnerability__cluster6-1_6_18_23_34_36_37resnext-lr:0.01-wd:0.0_astral-morning-55.csv\n",
      "0.29150967938559397\n",
      "vulnerability__cluster6-3_4_7_13_14_28_33_35resnext-lr:0.01-wd:0.0_daily-fire-57.csv\n",
      "0.274778313934803\n",
      "vulnerability__cluster6-8_15_19_21_25_31resnext-lr:0.01-wd:0.0_colorful-sky-58.csv\n",
      "0.2556490401426951\n",
      "vulnerability__cluster6-9_10_11_17_26_29resnext-lr:0.01-wd:0.0_silver-gorge-59.csv\n",
      "0.3022560079892476\n",
      "vulnerability__cluster7-0_12_16_22_30_38resnext-lr:0.01-wd:0.0_major-disco-60.csv\n",
      "0.27183596541484195\n",
      "vulnerability__cluster7-10_11_26_27_32resnext-lr:0.01-wd:0.0_zesty-spaceship-65.csv\n",
      "0.30450347661972044\n",
      "vulnerability__cluster7-15_19_21_25_29_31resnext-lr:0.01-wd:0.0_prime-bird-66.csv\n",
      "0.22703268378973007\n",
      "vulnerability__cluster7-1_6_18_34_36_37resnext-lr:0.01-wd:0.0_dark-salad-61.csv\n",
      "0.29395516713460285\n",
      "vulnerability__cluster7-2_8_20_24_39resnext-lr:0.01-wd:0.0_likely-energy-62.csv\n",
      "0.2995301246643066\n",
      "vulnerability__cluster7-3_7_13_14_23resnext-lr:0.01-wd:0.0_whole-resonance-63.csv\n",
      "0.2470663756132126\n",
      "vulnerability__cluster7-4_5_9_17_28_33_35resnext-lr:0.01-wd:0.0_lyric-bee-64.csv\n",
      "0.2135554701089859\n",
      "vulnerability__cluster8-0_16_22_30_38resnext-lr:0.01-wd:0.0_driven-grass-67.csv\n",
      "0.24906631112098693\n",
      "vulnerability__cluster8-1_18_34_36resnext-lr:0.01-wd:0.0_distinctive-lion-68.csv\n",
      "0.2848999798297882\n",
      "vulnerability__cluster8-15_19_21_25_31_33resnext-lr:0.01-wd:0.0_lucky-eon-73.csv\n",
      "0.2710450192292531\n",
      "vulnerability__cluster8-2_8_20_24_39resnext-lr:0.01-wd:0.0_copper-frost-69.csv\n",
      "0.28857638835906985\n",
      "vulnerability__cluster8-3_7_13_14resnext-lr:0.01-wd:0.0_young-dawn-70.csv\n",
      "0.1840360127389431\n",
      "vulnerability__cluster8-6_10_11_12_23_26_27_29_37resnext-lr:0.01-wd:0.0_azure-bee-72.csv\n",
      "0.31914651062753463\n",
      "0.3174699219790372\n",
      "0.3174699219790372\n",
      "0.3005446883435879\n",
      "0.3073229737277342\n",
      "0.2900553167479121\n",
      "0.2726759146485063\n",
      "0.26467890474531386\n"
     ]
    }
   ],
   "source": [
    "res_dirname = '/data/mariammaa/celeba/results_topk_guidedBackprop/'\n",
    "res_list_ixg = get_group_acscore(res_dirname, result_inputxgradient_file_list)\n",
    "x_axis = [0]*7\n",
    "x_axis[0] = get_res(res_list_ig, 0, 1) #2\n",
    "x_axis[1] = get_res(res_list_ig, 0,1) #3\n",
    "x_axis[2] = get_res(res_list_ig, 1, 5) #4\n",
    "x_axis[3] = get_res(res_list_ig, 5, 9) #5\n",
    "x_axis[4] = get_res(res_list_ig, 9, 14) #6\n",
    "x_axis[5] = get_res(res_list_ig, 14,20) #7\n",
    "x_axis[6] = get_res(res_list_ig, 20,26) #8"
   ]
  },
  {
   "cell_type": "code",
   "execution_count": 19,
   "metadata": {},
   "outputs": [
    {
     "data": {
      "image/png": "[encoded data removed]",
      "text/plain": [
       "<Figure size 432x288 with 1 Axes>"
      ]
     },
     "metadata": {
      "needs_background": "light"
     },
     "output_type": "display_data"
    }
   ],
   "source": [
    "res_ig = x_axis\n",
    "clusters = [2,3,4,5,6, 7, 8]\n",
    "plt.plot(clusters, res_ig)\n",
    "plt.ylabel('AV Score')\n",
    "plt.xlabel('#Clusters')\n",
    "plt.show()"
   ]
  },
  {
   "cell_type": "code",
   "execution_count": null,
   "metadata": {},
   "outputs": [],
   "source": []
  },
  {
   "cell_type": "code",
   "execution_count": 1,
   "metadata": {},
   "outputs": [],
   "source": [
    "result_guidedgradcam_file_list = [\n",
    "   'vulnerability__cluster3-0_3_7_12_16_20_22_30_38resnext-lr:0.01-wd:0.0_super-aardvark-42.csv',\n",
    "    'vulnerability__cluster4-0_16_20_22_30_38resnext-lr:0.01-wd:0.0_lemon-thunder-45.csv',\n",
    "    'vulnerability__cluster4-10_11_13_14_15_17_26_29_37resnext-lr:0.01-wd:0.0_neat-lake-48.csv',\n",
    "    'vulnerability__cluster5-0_12_16_20_22_30_32_38resnext-lr:0.01-wd:0.0_neat-sun-49.csv',\n",
    "    'vulnerability__cluster5-2_5_24_39resnext-lr:0.01-wd:0.0_grateful-cherry-51.csv',\n",
    "    'vulnerability__cluster5-3_4_6_7_13_14_17_23_28_33_35resnext-lr:0.01-wd:0.0_scarlet-snow-52.csv',\n",
    "    'vulnerability__cluster5-8_15_19_21_25_31resnext-lr:0.01-wd:0.0_golden-wind-53.csv',\n",
    "    'vulnerability__cluster6-0_12_16_20_22_30_38resnext-lr:0.01-wd:0.0_fanciful-night-54.csv',\n",
    "    'vulnerability__cluster6-1_6_18_23_34_36_37resnext-lr:0.01-wd:0.0_astral-morning-55.csv',\n",
    "    'vulnerability__cluster6-3_4_7_13_14_28_33_35resnext-lr:0.01-wd:0.0_daily-fire-57.csv',\n",
    "    'vulnerability__cluster6-8_15_19_21_25_31resnext-lr:0.01-wd:0.0_colorful-sky-58.csv',\n",
    "    'vulnerability__cluster6-9_10_11_17_26_29resnext-lr:0.01-wd:0.0_silver-gorge-59.csv',\n",
    "    'vulnerability__cluster7-0_12_16_22_30_38resnext-lr:0.01-wd:0.0_major-disco-60.csv',\n",
    "    'vulnerability__cluster7-10_11_26_27_32resnext-lr:0.01-wd:0.0_zesty-spaceship-65.csv',\n",
    "    'vulnerability__cluster7-15_19_21_25_29_31resnext-lr:0.01-wd:0.0_prime-bird-66.csv',\n",
    "    'vulnerability__cluster7-1_6_18_34_36_37resnext-lr:0.01-wd:0.0_dark-salad-61.csv',\n",
    "    'vulnerability__cluster7-2_8_20_24_39resnext-lr:0.01-wd:0.0_likely-energy-62.csv',\n",
    "    'vulnerability__cluster7-3_7_13_14_23resnext-lr:0.01-wd:0.0_whole-resonance-63.csv',\n",
    "    'vulnerability__cluster7-4_5_9_17_28_33_35resnext-lr:0.01-wd:0.0_lyric-bee-64.csv',\n",
    "    'vulnerability__cluster8-0_16_22_30_38resnext-lr:0.01-wd:0.0_driven-grass-67.csv',\n",
    "    'vulnerability__cluster8-1_18_34_36resnext-lr:0.01-wd:0.0_distinctive-lion-68.csv',\n",
    "    'vulnerability__cluster8-15_19_21_25_31_33resnext-lr:0.01-wd:0.0_lucky-eon-73.csv',\n",
    "    'vulnerability__cluster8-2_8_20_24_39resnext-lr:0.01-wd:0.0_copper-frost-69.csv',\n",
    "    'vulnerability__cluster8-3_7_13_14resnext-lr:0.01-wd:0.0_young-dawn-70.csv',\n",
    "    'vulnerability__cluster8-6_10_11_12_23_26_27_29_37resnext-lr:0.01-wd:0.0_azure-bee-72.csv'\n",
    "]"
   ]
  },
  {
   "cell_type": "code",
   "execution_count": 8,
   "metadata": {},
   "outputs": [],
   "source": [
    "def get_res(res_list, start, end):\n",
    "    sum = 0\n",
    "    cnt = 0\n",
    "    for i in range(start, end):\n",
    "        sum += res_list[i]\n",
    "        cnt += 1\n",
    "    print(sum/cnt)\n",
    "    return sum/cnt"
   ]
  },
  {
   "cell_type": "code",
   "execution_count": 15,
   "metadata": {},
   "outputs": [
    {
     "name": "stdout",
     "output_type": "stream",
     "text": [
      "vulnerability__cluster3-0_3_7_12_16_20_22_30_38resnext-lr:0.01-wd:0.0_super-aardvark-42.csv\n",
      "0.36482569575309753\n",
      "vulnerability__cluster4-0_16_20_22_30_38resnext-lr:0.01-wd:0.0_lemon-thunder-45.csv\n",
      "0.3587505519390106\n",
      "vulnerability__cluster4-10_11_13_14_15_17_26_29_37resnext-lr:0.01-wd:0.0_neat-lake-48.csv\n",
      "0.37097500264644623\n",
      "vulnerability__cluster5-0_12_16_20_22_30_32_38resnext-lr:0.01-wd:0.0_neat-sun-49.csv\n",
      "0.39956604441006977\n",
      "vulnerability__cluster5-2_5_24_39resnext-lr:0.01-wd:0.0_grateful-cherry-51.csv\n",
      "0.4794416626294454\n",
      "vulnerability__cluster5-3_4_6_7_13_14_17_23_28_33_35resnext-lr:0.01-wd:0.0_scarlet-snow-52.csv\n",
      "0.3862961530685425\n",
      "vulnerability__cluster5-8_15_19_21_25_31resnext-lr:0.01-wd:0.0_golden-wind-53.csv\n",
      "0.3665488660335541\n",
      "vulnerability__cluster6-0_12_16_20_22_30_38resnext-lr:0.01-wd:0.0_fanciful-night-54.csv\n",
      "0.37942813634872435\n",
      "vulnerability__cluster6-1_6_18_23_34_36_37resnext-lr:0.01-wd:0.0_astral-morning-55.csv\n",
      "0.5237053717885699\n",
      "vulnerability__cluster6-3_4_7_13_14_28_33_35resnext-lr:0.01-wd:0.0_daily-fire-57.csv\n",
      "0.26673266291618347\n",
      "vulnerability__cluster6-8_15_19_21_25_31resnext-lr:0.01-wd:0.0_colorful-sky-58.csv\n",
      "0.3195018693804741\n",
      "vulnerability__cluster6-9_10_11_17_26_29resnext-lr:0.01-wd:0.0_silver-gorge-59.csv\n",
      "0.44603168964385986\n",
      "vulnerability__cluster7-0_12_16_22_30_38resnext-lr:0.01-wd:0.0_major-disco-60.csv\n",
      "0.35767715175946546\n",
      "vulnerability__cluster7-10_11_26_27_32resnext-lr:0.01-wd:0.0_zesty-spaceship-65.csv\n",
      "0.37858210504055023\n",
      "vulnerability__cluster7-15_19_21_25_29_31resnext-lr:0.01-wd:0.0_prime-bird-66.csv\n",
      "0.40934468507766725\n",
      "vulnerability__cluster7-1_6_18_34_36_37resnext-lr:0.01-wd:0.0_dark-salad-61.csv\n",
      "0.39500626424948376\n",
      "vulnerability__cluster7-2_8_20_24_39resnext-lr:0.01-wd:0.0_likely-energy-62.csv\n",
      "0.3270821124315262\n",
      "vulnerability__cluster7-3_7_13_14_23resnext-lr:0.01-wd:0.0_whole-resonance-63.csv\n",
      "0.36132054775953293\n",
      "vulnerability__cluster7-4_5_9_17_28_33_35resnext-lr:0.01-wd:0.0_lyric-bee-64.csv\n",
      "0.22760855654875436\n",
      "vulnerability__cluster8-0_16_22_30_38resnext-lr:0.01-wd:0.0_driven-grass-67.csv\n",
      "0.3754283845424652\n",
      "vulnerability__cluster8-1_18_34_36resnext-lr:0.01-wd:0.0_distinctive-lion-68.csv\n",
      "0.34337663650512695\n",
      "vulnerability__cluster8-15_19_21_25_31_33resnext-lr:0.01-wd:0.0_lucky-eon-73.csv\n",
      "0.34225728511810305\n",
      "vulnerability__cluster8-2_8_20_24_39resnext-lr:0.01-wd:0.0_copper-frost-69.csv\n",
      "0.27445193628470105\n",
      "vulnerability__cluster8-3_7_13_14resnext-lr:0.01-wd:0.0_young-dawn-70.csv\n",
      "0.222035713493824\n",
      "vulnerability__cluster8-6_10_11_12_23_26_27_29_37resnext-lr:0.01-wd:0.0_azure-bee-72.csv\n",
      "0.5255342125892639\n",
      "0.36482569575309753\n",
      "0.36482569575309753\n",
      "0.3648627772927284\n",
      "0.4079631815354029\n",
      "0.38707994601556234\n",
      "0.35094591755242577\n",
      "0.3471806947555807\n"
     ]
    },
    {
     "data": {
      "image/png": "[encoded data removed]",
      "text/plain": [
       "<Figure size 432x288 with 1 Axes>"
      ]
     },
     "metadata": {
      "needs_background": "light"
     },
     "output_type": "display_data"
    }
   ],
   "source": [
    "res_dirname = '/data/mariammaa/celeba/results_topk_guidedgradcam/'\n",
    "res_list_ig = get_group_acscore(res_dirname, result_guidedgradcam_file_list)\n",
    "\n",
    "x_axis = [0]*7\n",
    "x_axis[0] = get_res(res_list_ig, 0, 1) #2\n",
    "x_axis[1] = get_res(res_list_ig, 0,1) #3\n",
    "x_axis[2] = get_res(res_list_ig, 1, 3) #4\n",
    "x_axis[3] = get_res(res_list_ig, 3, 7) #5\n",
    "x_axis[4] = get_res(res_list_ig, 7, 12) #6\n",
    "x_axis[5] = get_res(res_list_ig, 12,19) #7\n",
    "x_axis[6] = get_res(res_list_ig, 19,25) #8\n",
    "\n",
    "res_ig = x_axis\n",
    "clusters = [2,3,4,5,6, 7, 8]\n",
    "plt.plot(clusters, res_ig)\n",
    "plt.ylabel('AV Score')\n",
    "plt.xlabel('#Clusters')\n",
    "plt.show()\n"
   ]
  },
  {
   "cell_type": "code",
   "execution_count": null,
   "metadata": {},
   "outputs": [],
   "source": []
  }
 ],
 "metadata": {
  "kernelspec": {
   "display_name": "myenv",
   "language": "python",
   "name": "python3"
  },
  "language_info": {
   "codemirror_mode": {
    "name": "ipython",
    "version": 3
   },
   "file_extension": ".py",
   "mimetype": "text/x-python",
   "name": "python",
   "nbconvert_exporter": "python",
   "pygments_lexer": "ipython3",
   "version": "3.9.7"
  }
 },
 "nbformat": 4,
 "nbformat_minor": 2
}
