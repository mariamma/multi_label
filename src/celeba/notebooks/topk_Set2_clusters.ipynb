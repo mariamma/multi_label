{
 "cells": [
  {
   "cell_type": "code",
   "execution_count": 1,
   "metadata": {},
   "outputs": [],
   "source": [
    "from sklearn.cluster import SpectralClustering\n",
    "import numpy as np\n",
    "import os"
   ]
  },
  {
   "cell_type": "code",
   "execution_count": 2,
   "metadata": {},
   "outputs": [],
   "source": [
    "class_names = ['5_o_Clock_Shadow', 'Arched_Eyebrows', 'Attractive', 'Bags_Under_Eyes', 'Bald', 'Bangs',\n",
    "                                'Big_Lips', 'Big_Nose', 'Black_Hair', 'Blond_Hair', 'Blurry', 'Brown_Hair', 'Bushy_Eyebrows',      \n",
    "                                'Chubby', 'Double_Chin', 'Eyeglasses', 'Goatee', 'Gray_Hair', 'Heavy_Makeup', 'High_Cheekbones',       \n",
    "                                'Male', 'Mouth_Slightly_Open', 'Mustache', 'Narrow_Eyes', 'No_Beard', 'Oval_Face', 'Pale_Skin', \n",
    "                                'Pointy_Nose', 'Receding_Hairline', 'Rosy_Cheeks', 'Sideburns', 'Smiling', 'Straight_Hair', 'Wavy_Hair', \n",
    "                                'Wearing_Earrings', 'Wearing_Hat', 'Wearing_Lipstick', 'Wearing_Necklace', 'Wearing_Necktie', 'Young']\n",
    "\n",
    "from collections import defaultdict\n",
    "\n",
    "def group_classes(category_array):\n",
    "    \"\"\"\n",
    "    Groups class names based on their corresponding category values in the category_array.    \n",
    "    :param class_names: List of class names\n",
    "    :param category_array: Array of category values\n",
    "    :return: Dictionary with category labels as keys and corresponding class names as values\n",
    "    \"\"\"\n",
    "    if len(class_names) != len(category_array):\n",
    "        raise ValueError(\"class_names and category_array must have the same length\")\n",
    "    \n",
    "    groups = defaultdict(list)\n",
    "    cat_arr = []\n",
    "    \n",
    "    for idx, category in enumerate(category_array):\n",
    "        groups[f\"Category_{category}\"].append(idx)\n",
    "        cat_arr.append(category)\n",
    "\n",
    "    for category, attributes in groups.items():\n",
    "        print(f\"{category}: {attributes}\")\n",
    "\n",
    "    return cat_arr\n",
    "           \n",
    "\n",
    "def group_classes_by_category(class_names, category_array):\n",
    "    \"\"\"\n",
    "    Groups class names based on their corresponding category values in the category_array.\n",
    "    \n",
    "    :param class_names: List of class names\n",
    "    :param category_array: Array of category values\n",
    "    :return: Dictionary with category labels as keys and corresponding class names as values\n",
    "    \"\"\"\n",
    "    if len(class_names) != len(category_array):\n",
    "        raise ValueError(\"class_names and category_array must have the same length\")\n",
    "    \n",
    "    groups = defaultdict(list)\n",
    "    \n",
    "    for name, category in zip(class_names, category_array):\n",
    "        groups[f\"Category_{category}\"].append(name)\n",
    "    \n",
    "    return dict(groups)\n"
   ]
  },
  {
   "cell_type": "code",
   "execution_count": 3,
   "metadata": {},
   "outputs": [],
   "source": [
    "dirname = \"/data/mariammaa/celeba/results_topk_set2_saliencymap/\"\n",
    "filename = \"rho_score_full_resnext-lr:0.01-wd:0.0_fanciful-smoke-3.csv\"\n",
    "X = np.genfromtxt(os.path.join(dirname, filename), delimiter=',')\n",
    "\n"
   ]
  },
  {
   "cell_type": "code",
   "execution_count": 4,
   "metadata": {},
   "outputs": [
    {
     "name": "stderr",
     "output_type": "stream",
     "text": [
      "/home/mariammaa/anaconda3/envs/myenv/lib/python3.9/site-packages/sklearn/cluster/_spectral.py:589: UserWarning: The spectral clustering API has changed. ``fit``now constructs an affinity matrix from data. To use a custom affinity matrix, set ``affinity=precomputed``.\n",
      "  warnings.warn(\n"
     ]
    },
    {
     "name": "stdout",
     "output_type": "stream",
     "text": [
      "[1 0 0 1 1 0 0 1 0 0 1 0 1 1 1 1 1 1 0 0 1 0 1 0 0 0 0 0 1 0 1 0 0 0 0 1 0\n",
      " 0 1 0]\n",
      "Category_1: [0, 3, 4, 7, 10, 12, 13, 14, 15, 16, 17, 20, 22, 28, 30, 35, 38]\n",
      "Category_0: [1, 2, 5, 6, 8, 9, 11, 18, 19, 21, 23, 24, 25, 26, 27, 29, 31, 32, 33, 34, 36, 37, 39]\n"
     ]
    }
   ],
   "source": [
    "clustering = SpectralClustering(n_clusters=2,\n",
    "        assign_labels='discretize',\n",
    "        random_state=0).fit(X)\n",
    "print(clustering.labels_)\n",
    "cat_array = group_classes(clustering.labels_)"
   ]
  },
  {
   "cell_type": "code",
   "execution_count": 5,
   "metadata": {},
   "outputs": [
    {
     "name": "stdout",
     "output_type": "stream",
     "text": [
      "[2 1 0 2 1 1 1 2 0 1 1 0 2 1 1 2 2 1 0 0 2 0 2 1 0 0 1 0 1 1 2 0 0 1 1 1 0\n",
      " 1 2 0]\n",
      "Category_2: [0, 3, 7, 12, 15, 16, 20, 22, 30, 38]\n",
      "Category_1: [1, 4, 5, 6, 9, 10, 13, 14, 17, 23, 26, 28, 29, 33, 34, 35, 37]\n",
      "Category_0: [2, 8, 11, 18, 19, 21, 24, 25, 27, 31, 32, 36, 39]\n"
     ]
    },
    {
     "name": "stderr",
     "output_type": "stream",
     "text": [
      "/home/mariammaa/anaconda3/envs/myenv/lib/python3.9/site-packages/sklearn/cluster/_spectral.py:589: UserWarning: The spectral clustering API has changed. ``fit``now constructs an affinity matrix from data. To use a custom affinity matrix, set ``affinity=precomputed``.\n",
      "  warnings.warn(\n"
     ]
    }
   ],
   "source": [
    "clustering = SpectralClustering(n_clusters=3,\n",
    "        assign_labels='discretize',\n",
    "        random_state=0).fit(X)\n",
    "print(clustering.labels_)\n",
    "cat_array = group_classes(clustering.labels_)"
   ]
  },
  {
   "cell_type": "code",
   "execution_count": 6,
   "metadata": {},
   "outputs": [
    {
     "name": "stdout",
     "output_type": "stream",
     "text": [
      "[3 2 2 2 1 2 2 1 3 1 1 2 3 1 1 0 3 1 0 0 3 0 3 1 2 0 1 2 1 0 3 0 2 2 0 1 0\n",
      " 1 3 2]\n",
      "Category_3: [0, 8, 12, 16, 20, 22, 30, 38]\n",
      "Category_2: [1, 2, 3, 5, 6, 11, 24, 27, 32, 33, 39]\n",
      "Category_1: [4, 7, 9, 10, 13, 14, 17, 23, 26, 28, 35, 37]\n",
      "Category_0: [15, 18, 19, 21, 25, 29, 31, 34, 36]\n"
     ]
    },
    {
     "name": "stderr",
     "output_type": "stream",
     "text": [
      "/home/mariammaa/anaconda3/envs/myenv/lib/python3.9/site-packages/sklearn/cluster/_spectral.py:589: UserWarning: The spectral clustering API has changed. ``fit``now constructs an affinity matrix from data. To use a custom affinity matrix, set ``affinity=precomputed``.\n",
      "  warnings.warn(\n"
     ]
    }
   ],
   "source": [
    "clustering = SpectralClustering(n_clusters=4,\n",
    "        assign_labels='discretize',\n",
    "        random_state=0).fit(X)\n",
    "print(clustering.labels_)\n",
    "cat_array = group_classes(clustering.labels_)"
   ]
  },
  {
   "cell_type": "code",
   "execution_count": 7,
   "metadata": {},
   "outputs": [
    {
     "name": "stdout",
     "output_type": "stream",
     "text": [
      "[4 2 3 3 1 3 3 1 0 1 1 3 4 1 1 0 4 1 2 0 4 0 4 1 3 0 2 3 1 2 4 0 3 3 2 1 2\n",
      " 2 4 3]\n",
      "Category_4: [0, 12, 16, 20, 22, 30, 38]\n",
      "Category_2: [1, 18, 26, 29, 34, 36, 37]\n",
      "Category_3: [2, 3, 5, 6, 11, 24, 27, 32, 33, 39]\n",
      "Category_1: [4, 7, 9, 10, 13, 14, 17, 23, 28, 35]\n",
      "Category_0: [8, 15, 19, 21, 25, 31]\n"
     ]
    },
    {
     "name": "stderr",
     "output_type": "stream",
     "text": [
      "/home/mariammaa/anaconda3/envs/myenv/lib/python3.9/site-packages/sklearn/cluster/_spectral.py:589: UserWarning: The spectral clustering API has changed. ``fit``now constructs an affinity matrix from data. To use a custom affinity matrix, set ``affinity=precomputed``.\n",
      "  warnings.warn(\n"
     ]
    }
   ],
   "source": [
    "clustering = SpectralClustering(n_clusters=5,\n",
    "        assign_labels='discretize',\n",
    "        random_state=0).fit(X)\n",
    "print(clustering.labels_)\n",
    "cat_array = group_classes(clustering.labels_)"
   ]
  },
  {
   "cell_type": "code",
   "execution_count": 8,
   "metadata": {},
   "outputs": [
    {
     "name": "stdout",
     "output_type": "stream",
     "text": [
      "[1 3 4 5 2 2 5 5 4 2 5 2 1 5 5 0 1 2 3 0 4 0 1 5 4 0 2 4 5 0 1 0 4 2 3 2 3\n",
      " 3 1 4]\n",
      "Category_1: [0, 12, 16, 22, 30, 38]\n",
      "Category_3: [1, 18, 34, 36, 37]\n",
      "Category_4: [2, 8, 20, 24, 27, 32, 39]\n",
      "Category_5: [3, 6, 7, 10, 13, 14, 23, 28]\n",
      "Category_2: [4, 5, 9, 11, 17, 26, 33, 35]\n",
      "Category_0: [15, 19, 21, 25, 29, 31]\n",
      "Category_1: ['5_o_Clock_Shadow', 'Bushy_Eyebrows', 'Goatee', 'Mustache', 'Sideburns', 'Wearing_Necktie']\n",
      "Category_3: ['Arched_Eyebrows', 'Heavy_Makeup', 'Wearing_Earrings', 'Wearing_Lipstick', 'Wearing_Necklace']\n",
      "Category_4: ['Attractive', 'Black_Hair', 'Male', 'No_Beard', 'Pointy_Nose', 'Straight_Hair', 'Young']\n",
      "Category_5: ['Bags_Under_Eyes', 'Big_Lips', 'Big_Nose', 'Blurry', 'Chubby', 'Double_Chin', 'Narrow_Eyes', 'Receding_Hairline']\n",
      "Category_2: ['Bald', 'Bangs', 'Blond_Hair', 'Brown_Hair', 'Gray_Hair', 'Pale_Skin', 'Wavy_Hair', 'Wearing_Hat']\n",
      "Category_0: ['Eyeglasses', 'High_Cheekbones', 'Mouth_Slightly_Open', 'Oval_Face', 'Rosy_Cheeks', 'Smiling']\n"
     ]
    },
    {
     "name": "stderr",
     "output_type": "stream",
     "text": [
      "/home/mariammaa/anaconda3/envs/myenv/lib/python3.9/site-packages/sklearn/cluster/_spectral.py:589: UserWarning: The spectral clustering API has changed. ``fit``now constructs an affinity matrix from data. To use a custom affinity matrix, set ``affinity=precomputed``.\n",
      "  warnings.warn(\n"
     ]
    }
   ],
   "source": [
    "clustering = SpectralClustering(n_clusters=6,\n",
    "        assign_labels='discretize',\n",
    "        random_state=0).fit(X)\n",
    "print(clustering.labels_)\n",
    "cat_array = group_classes(clustering.labels_)\n",
    "\n",
    "category_array = cat_array\n",
    "\n",
    "class_groups = group_classes_by_category(class_names, category_array)\n",
    "for category, attributes in class_groups.items():\n",
    "    print(f\"{category}: {attributes}\")\n"
   ]
  },
  {
   "cell_type": "code",
   "execution_count": 4,
   "metadata": {},
   "outputs": [
    {
     "name": "stdout",
     "output_type": "stream",
     "text": [
      "[2 5 6 6 1 1 6 4 6 1 4 1 2 4 4 0 2 1 5 0 6 0 2 4 6 0 1 6 4 5 2 0 3 0 5 1 5\n",
      " 5 2 6]\n",
      "Category_2: [0, 12, 16, 22, 30, 38]\n",
      "Category_5: [1, 18, 29, 34, 36, 37]\n",
      "Category_6: [2, 3, 6, 8, 20, 24, 27, 39]\n",
      "Category_1: [4, 5, 9, 11, 17, 26, 35]\n",
      "Category_4: [7, 10, 13, 14, 23, 28]\n",
      "Category_0: [15, 19, 21, 25, 31, 33]\n",
      "Category_3: [32]\n",
      "Category_2: ['5_o_Clock_Shadow', 'Bushy_Eyebrows', 'Goatee', 'Mustache', 'Sideburns', 'Wearing_Necktie']\n",
      "Category_5: ['Arched_Eyebrows', 'Heavy_Makeup', 'Rosy_Cheeks', 'Wearing_Earrings', 'Wearing_Lipstick', 'Wearing_Necklace']\n",
      "Category_6: ['Attractive', 'Bags_Under_Eyes', 'Big_Lips', 'Black_Hair', 'Male', 'No_Beard', 'Pointy_Nose', 'Young']\n",
      "Category_1: ['Bald', 'Bangs', 'Blond_Hair', 'Brown_Hair', 'Gray_Hair', 'Pale_Skin', 'Wearing_Hat']\n",
      "Category_4: ['Big_Nose', 'Blurry', 'Chubby', 'Double_Chin', 'Narrow_Eyes', 'Receding_Hairline']\n",
      "Category_0: ['Eyeglasses', 'High_Cheekbones', 'Mouth_Slightly_Open', 'Oval_Face', 'Smiling', 'Wavy_Hair']\n",
      "Category_3: ['Straight_Hair']\n"
     ]
    },
    {
     "name": "stderr",
     "output_type": "stream",
     "text": [
      "/home/mariammaa/anaconda3/envs/myenv/lib/python3.9/site-packages/sklearn/cluster/_spectral.py:589: UserWarning: The spectral clustering API has changed. ``fit``now constructs an affinity matrix from data. To use a custom affinity matrix, set ``affinity=precomputed``.\n",
      "  warnings.warn(\n"
     ]
    }
   ],
   "source": [
    "clustering = SpectralClustering(n_clusters=7,\n",
    "        assign_labels='discretize',\n",
    "        random_state=0).fit(X)\n",
    "print(clustering.labels_)\n",
    "cat_array = group_classes(clustering.labels_)\n",
    "\n",
    "category_array = cat_array\n",
    "\n",
    "class_groups = group_classes_by_category(class_names, category_array)\n",
    "for category, attributes in class_groups.items():\n",
    "    print(f\"{category}: {attributes}\")\n"
   ]
  },
  {
   "cell_type": "code",
   "execution_count": 5,
   "metadata": {},
   "outputs": [
    {
     "name": "stdout",
     "output_type": "stream",
     "text": [
      "[2 5 7 4 4 6 6 4 7 1 3 1 2 3 3 3 2 1 5 0 2 0 2 3 7 0 1 7 4 5 2 0 7 6 5 1 5\n",
      " 5 2 7]\n",
      "Category_2: [0, 12, 16, 20, 22, 30, 38]\n",
      "Category_5: [1, 18, 29, 34, 36, 37]\n",
      "Category_7: [2, 8, 24, 27, 32, 39]\n",
      "Category_4: [3, 4, 7, 28]\n",
      "Category_6: [5, 6, 33]\n",
      "Category_1: [9, 11, 17, 26, 35]\n",
      "Category_3: [10, 13, 14, 15, 23]\n",
      "Category_0: [19, 21, 25, 31]\n",
      "Category_2: ['5_o_Clock_Shadow', 'Bushy_Eyebrows', 'Goatee', 'Male', 'Mustache', 'Sideburns', 'Wearing_Necktie']\n",
      "Category_5: ['Arched_Eyebrows', 'Heavy_Makeup', 'Rosy_Cheeks', 'Wearing_Earrings', 'Wearing_Lipstick', 'Wearing_Necklace']\n",
      "Category_7: ['Attractive', 'Black_Hair', 'No_Beard', 'Pointy_Nose', 'Straight_Hair', 'Young']\n",
      "Category_4: ['Bags_Under_Eyes', 'Bald', 'Big_Nose', 'Receding_Hairline']\n",
      "Category_6: ['Bangs', 'Big_Lips', 'Wavy_Hair']\n",
      "Category_1: ['Blond_Hair', 'Brown_Hair', 'Gray_Hair', 'Pale_Skin', 'Wearing_Hat']\n",
      "Category_3: ['Blurry', 'Chubby', 'Double_Chin', 'Eyeglasses', 'Narrow_Eyes']\n",
      "Category_0: ['High_Cheekbones', 'Mouth_Slightly_Open', 'Oval_Face', 'Smiling']\n"
     ]
    },
    {
     "name": "stderr",
     "output_type": "stream",
     "text": [
      "/home/mariammaa/anaconda3/envs/myenv/lib/python3.9/site-packages/sklearn/cluster/_spectral.py:589: UserWarning: The spectral clustering API has changed. ``fit``now constructs an affinity matrix from data. To use a custom affinity matrix, set ``affinity=precomputed``.\n",
      "  warnings.warn(\n"
     ]
    }
   ],
   "source": [
    "clustering = SpectralClustering(n_clusters=8,\n",
    "        assign_labels='discretize',\n",
    "        random_state=0).fit(X)\n",
    "print(clustering.labels_)\n",
    "cat_array = group_classes(clustering.labels_)\n",
    "\n",
    "category_array = cat_array\n",
    "\n",
    "class_groups = group_classes_by_category(class_names, category_array)\n",
    "for category, attributes in class_groups.items():\n",
    "    print(f\"{category}: {attributes}\")\n"
   ]
  },
  {
   "cell_type": "code",
   "execution_count": null,
   "metadata": {},
   "outputs": [],
   "source": []
  }
 ],
 "metadata": {
  "kernelspec": {
   "display_name": "myenv",
   "language": "python",
   "name": "python3"
  },
  "language_info": {
   "codemirror_mode": {
    "name": "ipython",
    "version": 3
   },
   "file_extension": ".py",
   "mimetype": "text/x-python",
   "name": "python",
   "nbconvert_exporter": "python",
   "pygments_lexer": "ipython3",
   "version": "3.9.7"
  }
 },
 "nbformat": 4,
 "nbformat_minor": 2
}
