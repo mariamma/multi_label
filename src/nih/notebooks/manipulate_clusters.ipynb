{
 "cells": [
  {
   "cell_type": "code",
   "execution_count": 1,
   "metadata": {},
   "outputs": [],
   "source": [
    "from sklearn.cluster import SpectralClustering\n",
    "import numpy as np\n",
    "import os"
   ]
  },
  {
   "cell_type": "code",
   "execution_count": 2,
   "metadata": {},
   "outputs": [],
   "source": [
    "class_names = [ 'Atelectasis', 'Cardiomegaly', 'Effusion', 'Infiltration', 'Mass', 'Nodule', 'Pneumonia',\n",
    "                'Pneumothorax', 'Consolidation', 'Edema', 'Emphysema', 'Fibrosis', 'Pleural_Thickening', 'Hernia', 'Normal']\n",
    "\n",
    "from collections import defaultdict\n",
    "\n",
    "def group_classes(category_array):\n",
    "    \"\"\"\n",
    "    Groups class names based on their corresponding category values in the category_array.    \n",
    "    :param class_names: List of class names\n",
    "    :param category_array: Array of category values\n",
    "    :return: Dictionary with category labels as keys and corresponding class names as values\n",
    "    \"\"\"\n",
    "    if len(class_names) != len(category_array):\n",
    "        raise ValueError(\"class_names and category_array must have the same length\")\n",
    "    \n",
    "    groups = defaultdict(list)\n",
    "    cat_arr = []\n",
    "    \n",
    "    for idx, category in enumerate(category_array):\n",
    "        groups[f\"Category_{category}\"].append(idx)\n",
    "        cat_arr.append(category)\n",
    "\n",
    "    for category, attributes in groups.items():\n",
    "        print(f\"{category}: {attributes}\")\n",
    "\n",
    "    return cat_arr\n",
    "           \n",
    "\n",
    "def group_classes_by_category(class_names, category_array):\n",
    "    \"\"\"\n",
    "    Groups class names based on their corresponding category values in the category_array.\n",
    "    \n",
    "    :param class_names: List of class names\n",
    "    :param category_array: Array of category values\n",
    "    :return: Dictionary with category labels as keys and corresponding class names as values\n",
    "    \"\"\"\n",
    "    if len(class_names) != len(category_array):\n",
    "        raise ValueError(\"class_names and category_array must have the same length\")\n",
    "    \n",
    "    groups = defaultdict(list)\n",
    "    \n",
    "    for name, category in zip(class_names, category_array):\n",
    "        groups[f\"Category_{category}\"].append(name)\n",
    "    \n",
    "    return dict(groups)\n"
   ]
  },
  {
   "cell_type": "code",
   "execution_count": 10,
   "metadata": {},
   "outputs": [],
   "source": [
    "dirname = \"/data/mariammaa/nih_multi_label/nih_results_manipulate_saliencymap/\"\n",
    "filename = \"rho_score_nihfull_full_resnext-lr:0.01-wd:0.0_generous-sea-6.csv\"\n",
    "X = np.genfromtxt(os.path.join(dirname, filename), delimiter=',')\n",
    "\n"
   ]
  },
  {
   "cell_type": "code",
   "execution_count": 11,
   "metadata": {},
   "outputs": [
    {
     "name": "stdout",
     "output_type": "stream",
     "text": [
      "[0 0 0 0 0 0 0 0 0 0 0 0 0 0 1]\n",
      "Category_0: [0, 1, 2, 3, 4, 5, 6, 7, 8, 9, 10, 11, 12, 13]\n",
      "Category_1: [14]\n",
      "Category_0: ['Atelectasis', 'Cardiomegaly', 'Effusion', 'Infiltration', 'Mass', 'Nodule', 'Pneumonia', 'Pneumothorax', 'Consolidation', 'Edema', 'Emphysema', 'Fibrosis', 'Pleural_Thickening', 'Hernia']\n",
      "Category_1: ['Normal']\n"
     ]
    },
    {
     "name": "stderr",
     "output_type": "stream",
     "text": [
      "/home/mariammaa/anaconda3/envs/myenv/lib/python3.9/site-packages/sklearn/cluster/_spectral.py:589: UserWarning: The spectral clustering API has changed. ``fit``now constructs an affinity matrix from data. To use a custom affinity matrix, set ``affinity=precomputed``.\n",
      "  warnings.warn(\n"
     ]
    }
   ],
   "source": [
    "clustering = SpectralClustering(n_clusters=2,\n",
    "        assign_labels='discretize',\n",
    "        random_state=0).fit(X)\n",
    "print(clustering.labels_)\n",
    "cat_array = group_classes(clustering.labels_)\n",
    "\n",
    "category_array = cat_array\n",
    "\n",
    "class_groups = group_classes_by_category(class_names, category_array)\n",
    "for category, attributes in class_groups.items():\n",
    "    print(f\"{category}: {attributes}\")\n"
   ]
  },
  {
   "cell_type": "code",
   "execution_count": 12,
   "metadata": {},
   "outputs": [
    {
     "name": "stdout",
     "output_type": "stream",
     "text": [
      "[0 0 0 0 2 2 0 2 0 0 2 2 2 2 1]\n",
      "Category_0: [0, 1, 2, 3, 6, 8, 9]\n",
      "Category_2: [4, 5, 7, 10, 11, 12, 13]\n",
      "Category_1: [14]\n",
      "Category_0: ['Atelectasis', 'Cardiomegaly', 'Effusion', 'Infiltration', 'Pneumonia', 'Consolidation', 'Edema']\n",
      "Category_2: ['Mass', 'Nodule', 'Pneumothorax', 'Emphysema', 'Fibrosis', 'Pleural_Thickening', 'Hernia']\n",
      "Category_1: ['Normal']\n"
     ]
    },
    {
     "name": "stderr",
     "output_type": "stream",
     "text": [
      "/home/mariammaa/anaconda3/envs/myenv/lib/python3.9/site-packages/sklearn/cluster/_spectral.py:589: UserWarning: The spectral clustering API has changed. ``fit``now constructs an affinity matrix from data. To use a custom affinity matrix, set ``affinity=precomputed``.\n",
      "  warnings.warn(\n"
     ]
    }
   ],
   "source": [
    "clustering = SpectralClustering(n_clusters=3,\n",
    "        assign_labels='discretize',\n",
    "        random_state=0).fit(X)\n",
    "print(clustering.labels_)\n",
    "cat_array = group_classes(clustering.labels_)\n",
    "\n",
    "category_array = cat_array\n",
    "\n",
    "class_groups = group_classes_by_category(class_names, category_array)\n",
    "for category, attributes in class_groups.items():\n",
    "    print(f\"{category}: {attributes}\")\n"
   ]
  },
  {
   "cell_type": "code",
   "execution_count": 13,
   "metadata": {},
   "outputs": [
    {
     "name": "stdout",
     "output_type": "stream",
     "text": [
      "[0 0 0 0 2 2 0 3 2 0 3 3 2 3 1]\n",
      "Category_0: [0, 1, 2, 3, 6, 9]\n",
      "Category_2: [4, 5, 8, 12]\n",
      "Category_3: [7, 10, 11, 13]\n",
      "Category_1: [14]\n",
      "Category_0: ['Atelectasis', 'Cardiomegaly', 'Effusion', 'Infiltration', 'Pneumonia', 'Edema']\n",
      "Category_2: ['Mass', 'Nodule', 'Consolidation', 'Pleural_Thickening']\n",
      "Category_3: ['Pneumothorax', 'Emphysema', 'Fibrosis', 'Hernia']\n",
      "Category_1: ['Normal']\n"
     ]
    },
    {
     "name": "stderr",
     "output_type": "stream",
     "text": [
      "/home/mariammaa/anaconda3/envs/myenv/lib/python3.9/site-packages/sklearn/cluster/_spectral.py:589: UserWarning: The spectral clustering API has changed. ``fit``now constructs an affinity matrix from data. To use a custom affinity matrix, set ``affinity=precomputed``.\n",
      "  warnings.warn(\n"
     ]
    }
   ],
   "source": [
    "clustering = SpectralClustering(n_clusters=4,\n",
    "        assign_labels='discretize',\n",
    "        random_state=0).fit(X)\n",
    "print(clustering.labels_)\n",
    "cat_array = group_classes(clustering.labels_)\n",
    "\n",
    "category_array = cat_array\n",
    "\n",
    "class_groups = group_classes_by_category(class_names, category_array)\n",
    "for category, attributes in class_groups.items():\n",
    "    print(f\"{category}: {attributes}\")\n"
   ]
  },
  {
   "cell_type": "code",
   "execution_count": 14,
   "metadata": {},
   "outputs": [
    {
     "name": "stdout",
     "output_type": "stream",
     "text": [
      "[2 0 2 2 3 3 0 4 2 0 4 4 3 4 1]\n",
      "Category_2: [0, 2, 3, 8]\n",
      "Category_0: [1, 6, 9]\n",
      "Category_3: [4, 5, 12]\n",
      "Category_4: [7, 10, 11, 13]\n",
      "Category_1: [14]\n",
      "Category_2: ['Atelectasis', 'Effusion', 'Infiltration', 'Consolidation']\n",
      "Category_0: ['Cardiomegaly', 'Pneumonia', 'Edema']\n",
      "Category_3: ['Mass', 'Nodule', 'Pleural_Thickening']\n",
      "Category_4: ['Pneumothorax', 'Emphysema', 'Fibrosis', 'Hernia']\n",
      "Category_1: ['Normal']\n"
     ]
    },
    {
     "name": "stderr",
     "output_type": "stream",
     "text": [
      "/home/mariammaa/anaconda3/envs/myenv/lib/python3.9/site-packages/sklearn/cluster/_spectral.py:589: UserWarning: The spectral clustering API has changed. ``fit``now constructs an affinity matrix from data. To use a custom affinity matrix, set ``affinity=precomputed``.\n",
      "  warnings.warn(\n"
     ]
    }
   ],
   "source": [
    "clustering = SpectralClustering(n_clusters=5,\n",
    "        assign_labels='discretize',\n",
    "        random_state=0).fit(X)\n",
    "print(clustering.labels_)\n",
    "cat_array = group_classes(clustering.labels_)\n",
    "\n",
    "category_array = cat_array\n",
    "\n",
    "class_groups = group_classes_by_category(class_names, category_array)\n",
    "for category, attributes in class_groups.items():\n",
    "    print(f\"{category}: {attributes}\")\n"
   ]
  },
  {
   "cell_type": "code",
   "execution_count": null,
   "metadata": {},
   "outputs": [],
   "source": []
  }
 ],
 "metadata": {
  "kernelspec": {
   "display_name": "myenv",
   "language": "python",
   "name": "python3"
  },
  "language_info": {
   "codemirror_mode": {
    "name": "ipython",
    "version": 3
   },
   "file_extension": ".py",
   "mimetype": "text/x-python",
   "name": "python",
   "nbconvert_exporter": "python",
   "pygments_lexer": "ipython3",
   "version": "3.9.7"
  }
 },
 "nbformat": 4,
 "nbformat_minor": 2
}
